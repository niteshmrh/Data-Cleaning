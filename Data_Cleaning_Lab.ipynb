{
  "cells": [
    {
      "cell_type": "markdown",
      "metadata": {
        "id": "view-in-github",
        "colab_type": "text"
      },
      "source": [
        "<a href=\"https://colab.research.google.com/github/niteshmrh/Data-Cleaning/blob/main/Data_Cleaning_Lab.ipynb\" target=\"_parent\"><img src=\"https://colab.research.google.com/assets/colab-badge.svg\" alt=\"Open In Colab\"/></a>"
      ]
    },
    {
      "cell_type": "markdown",
      "metadata": {
        "id": "xn-MiNf1KWG5"
      },
      "source": [
        "# Data Cleaning\n",
        "\n",
        "Estimated time needed: **45** minutes\n",
        "\n",
        "Most of the real-world data, that the data scientist work with, are raw data, meaning that it can contain repeated, missing, and irrelevant entries of information. Hence, if this data is used in any machine learning analysis, it will result in low accuracy or incorrect prediction. For this reason, data cleaning, also known as data cleansing, is an important technique that comes prior to any model building.\n",
        "\n",
        "In this notebook, we will take a look at some of the common data cleaning techniques that data scientists may use to prepare their data for analysis.\n",
        "\n",
        "## Objectives\n",
        "\n",
        "After completing this lab you will be able to:\n",
        "\n",
        "*   Use Log function to transform the data\n",
        "*   Handle the duplicates\n",
        "*   Handle the missing values\n",
        "*   Standardize and normalize the data\n",
        "*   Handle the outliers\n"
      ]
    },
    {
      "cell_type": "markdown",
      "metadata": {
        "id": "h3m2FkeVKWG8"
      },
      "source": [
        "***\n"
      ]
    },
    {
      "cell_type": "markdown",
      "metadata": {
        "id": "vJusW-HjKWG9"
      },
      "source": [
        "## **Setup**\n"
      ]
    },
    {
      "cell_type": "markdown",
      "metadata": {
        "id": "YPhXIRRjKWG-"
      },
      "source": [
        "For this lab, we will be using the following libraries:\n",
        "\n",
        "*   [`pandas`](https://pandas.pydata.org/?utm_medium=Exinfluencer&utm_source=Exinfluencer&utm_content=000026UJ&utm_term=10006555&utm_id=NA-SkillsNetwork-Channel-SkillsNetworkCoursesIBMML0232ENSkillsNetwork30654641-2022-01-01) for managing the data.\n",
        "*   [`numpy`](https://numpy.org/?utm_medium=Exinfluencer&utm_source=Exinfluencer&utm_content=000026UJ&utm_term=10006555&utm_id=NA-SkillsNetwork-Channel-SkillsNetworkCoursesIBMML0232ENSkillsNetwork30654641-2022-01-01) for mathematical operations.\n",
        "*   [`seaborn`](https://seaborn.pydata.org/?utm_medium=Exinfluencer&utm_source=Exinfluencer&utm_content=000026UJ&utm_term=10006555&utm_id=NA-SkillsNetwork-Channel-SkillsNetworkCoursesIBMML0232ENSkillsNetwork30654641-2022-01-01) for visualizing the data.\n",
        "*   [`matplotlib`](https://matplotlib.org/?utm_medium=Exinfluencer&utm_source=Exinfluencer&utm_content=000026UJ&utm_term=10006555&utm_id=NA-SkillsNetwork-Channel-SkillsNetworkCoursesIBMML0232ENSkillsNetwork30654641-2022-01-01) for visualizing the data.\n",
        "*   [`sklearn`](https://scikit-learn.org/stable/?utm_medium=Exinfluencer&utm_source=Exinfluencer&utm_content=000026UJ&utm_term=10006555&utm_id=NA-SkillsNetwork-Channel-SkillsNetworkCoursesIBMML0232ENSkillsNetwork30654641-2022-01-01) for machine learning and machine-learning-pipeline related functions.\n",
        "*   [`scipy`](https://docs.scipy.org/doc/scipy/tutorial/stats.html/?utm_medium=Exinfluencer&utm_source=Exinfluencer&utm_content=000026UJ&utm_term=10006555&utm_id=NA-SkillsNetwork-Channel-SkillsNetworkCoursesIBMML0232ENSkillsNetwork30654641-2022-01-01) for statistical computations.\n"
      ]
    },
    {
      "cell_type": "markdown",
      "metadata": {
        "id": "6HykPwyrKWHA"
      },
      "source": [
        "## **Import the required libraries**\n"
      ]
    },
    {
      "cell_type": "markdown",
      "metadata": {
        "id": "ApFCFcJlKWHC"
      },
      "source": [
        "The following required modules are pre-installed in the Skills Network Labs environment. However if you run this notebook commands in a different Jupyter environment (e.g. Watson Studio or Ananconda) you will need to install these libraries by removing the `#` sign before `!mamba` in the code cell below.\n"
      ]
    },
    {
      "cell_type": "code",
      "source": [
        "#################################################################################\n",
        "# INSTALL MAMBA ON GOOGLE COLAB\n",
        "#################################################################################\n",
        "! wget -O miniconda.sh https://repo.anaconda.com/miniconda/Miniconda3-py37_4.10.3-Linux-x86_64.sh\n",
        "! chmod +x miniconda.sh\n",
        "! bash ./miniconda.sh -b -f -p /usr/local\n",
        "! rm miniconda.sh\n",
        "! conda config --add channels conda-forge\n",
        "! conda install -y mamba\n",
        "! mamba update -qy --all\n",
        "! mamba clean -qafy\n",
        "import sys\n",
        "sys.path.append('/usr/local/lib/python3.7/site-packages/')"
      ],
      "metadata": {
        "colab": {
          "base_uri": "https://localhost:8080/"
        },
        "id": "l3WuZLljL1Se",
        "outputId": "cb93e636-fe5f-4818-de81-6445a42586f0"
      },
      "execution_count": null,
      "outputs": [
        {
          "output_type": "stream",
          "name": "stdout",
          "text": [
            "--2023-02-21 18:14:44--  https://repo.anaconda.com/miniconda/Miniconda3-py37_4.10.3-Linux-x86_64.sh\n",
            "Resolving repo.anaconda.com (repo.anaconda.com)... 104.16.131.3, 104.16.130.3, 2606:4700::6810:8203, ...\n",
            "Connecting to repo.anaconda.com (repo.anaconda.com)|104.16.131.3|:443... connected.\n",
            "HTTP request sent, awaiting response... 200 OK\n",
            "Length: 89026327 (85M) [application/x-sh]\n",
            "Saving to: ‘miniconda.sh’\n",
            "\n",
            "miniconda.sh        100%[===================>]  84.90M  56.7MB/s    in 1.5s    \n",
            "\n",
            "2023-02-21 18:14:45 (56.7 MB/s) - ‘miniconda.sh’ saved [89026327/89026327]\n",
            "\n",
            "PREFIX=/usr/local\n",
            "Unpacking payload ...\n",
            "Collecting package metadata (current_repodata.json): - \b\b\\ \b\bdone\n",
            "Solving environment: / \b\b- \b\b\\ \b\bdone\n",
            "\n",
            "## Package Plan ##\n",
            "\n",
            "  environment location: /usr/local\n",
            "\n",
            "  added / updated specs:\n",
            "    - _libgcc_mutex==0.1=main\n",
            "    - _openmp_mutex==4.5=1_gnu\n",
            "    - brotlipy==0.7.0=py37h27cfd23_1003\n",
            "    - ca-certificates==2021.7.5=h06a4308_1\n",
            "    - certifi==2021.5.30=py37h06a4308_0\n",
            "    - cffi==1.14.6=py37h400218f_0\n",
            "    - chardet==4.0.0=py37h06a4308_1003\n",
            "    - conda-package-handling==1.7.3=py37h27cfd23_1\n",
            "    - conda==4.10.3=py37h06a4308_0\n",
            "    - cryptography==3.4.7=py37hd23ed53_0\n",
            "    - idna==2.10=pyhd3eb1b0_0\n",
            "    - ld_impl_linux-64==2.35.1=h7274673_9\n",
            "    - libffi==3.3=he6710b0_2\n",
            "    - libgcc-ng==9.3.0=h5101ec6_17\n",
            "    - libgomp==9.3.0=h5101ec6_17\n",
            "    - libstdcxx-ng==9.3.0=hd4cf53a_17\n",
            "    - ncurses==6.2=he6710b0_1\n",
            "    - openssl==1.1.1k=h27cfd23_0\n",
            "    - pip==21.1.3=py37h06a4308_0\n",
            "    - pycosat==0.6.3=py37h27cfd23_0\n",
            "    - pycparser==2.20=py_2\n",
            "    - pyopenssl==20.0.1=pyhd3eb1b0_1\n",
            "    - pysocks==1.7.1=py37_1\n",
            "    - python==3.7.10=h12debd9_4\n",
            "    - readline==8.1=h27cfd23_0\n",
            "    - requests==2.25.1=pyhd3eb1b0_0\n",
            "    - ruamel_yaml==0.15.100=py37h27cfd23_0\n",
            "    - setuptools==52.0.0=py37h06a4308_0\n",
            "    - six==1.16.0=pyhd3eb1b0_0\n",
            "    - sqlite==3.36.0=hc218d9a_0\n",
            "    - tk==8.6.10=hbc83047_0\n",
            "    - tqdm==4.61.2=pyhd3eb1b0_1\n",
            "    - urllib3==1.26.6=pyhd3eb1b0_1\n",
            "    - wheel==0.36.2=pyhd3eb1b0_0\n",
            "    - xz==5.2.5=h7b6447c_0\n",
            "    - yaml==0.2.5=h7b6447c_0\n",
            "    - zlib==1.2.11=h7b6447c_3\n",
            "\n",
            "\n",
            "The following NEW packages will be INSTALLED:\n",
            "\n",
            "  _libgcc_mutex      pkgs/main/linux-64::_libgcc_mutex-0.1-main\n",
            "  _openmp_mutex      pkgs/main/linux-64::_openmp_mutex-4.5-1_gnu\n",
            "  brotlipy           pkgs/main/linux-64::brotlipy-0.7.0-py37h27cfd23_1003\n",
            "  ca-certificates    pkgs/main/linux-64::ca-certificates-2021.7.5-h06a4308_1\n",
            "  certifi            pkgs/main/linux-64::certifi-2021.5.30-py37h06a4308_0\n",
            "  cffi               pkgs/main/linux-64::cffi-1.14.6-py37h400218f_0\n",
            "  chardet            pkgs/main/linux-64::chardet-4.0.0-py37h06a4308_1003\n",
            "  conda              pkgs/main/linux-64::conda-4.10.3-py37h06a4308_0\n",
            "  conda-package-han~ pkgs/main/linux-64::conda-package-handling-1.7.3-py37h27cfd23_1\n",
            "  cryptography       pkgs/main/linux-64::cryptography-3.4.7-py37hd23ed53_0\n",
            "  idna               pkgs/main/noarch::idna-2.10-pyhd3eb1b0_0\n",
            "  ld_impl_linux-64   pkgs/main/linux-64::ld_impl_linux-64-2.35.1-h7274673_9\n",
            "  libffi             pkgs/main/linux-64::libffi-3.3-he6710b0_2\n",
            "  libgcc-ng          pkgs/main/linux-64::libgcc-ng-9.3.0-h5101ec6_17\n",
            "  libgomp            pkgs/main/linux-64::libgomp-9.3.0-h5101ec6_17\n",
            "  libstdcxx-ng       pkgs/main/linux-64::libstdcxx-ng-9.3.0-hd4cf53a_17\n",
            "  ncurses            pkgs/main/linux-64::ncurses-6.2-he6710b0_1\n",
            "  openssl            pkgs/main/linux-64::openssl-1.1.1k-h27cfd23_0\n",
            "  pip                pkgs/main/linux-64::pip-21.1.3-py37h06a4308_0\n",
            "  pycosat            pkgs/main/linux-64::pycosat-0.6.3-py37h27cfd23_0\n",
            "  pycparser          pkgs/main/noarch::pycparser-2.20-py_2\n",
            "  pyopenssl          pkgs/main/noarch::pyopenssl-20.0.1-pyhd3eb1b0_1\n",
            "  pysocks            pkgs/main/linux-64::pysocks-1.7.1-py37_1\n",
            "  python             pkgs/main/linux-64::python-3.7.10-h12debd9_4\n",
            "  readline           pkgs/main/linux-64::readline-8.1-h27cfd23_0\n",
            "  requests           pkgs/main/noarch::requests-2.25.1-pyhd3eb1b0_0\n",
            "  ruamel_yaml        pkgs/main/linux-64::ruamel_yaml-0.15.100-py37h27cfd23_0\n",
            "  setuptools         pkgs/main/linux-64::setuptools-52.0.0-py37h06a4308_0\n",
            "  six                pkgs/main/noarch::six-1.16.0-pyhd3eb1b0_0\n",
            "  sqlite             pkgs/main/linux-64::sqlite-3.36.0-hc218d9a_0\n",
            "  tk                 pkgs/main/linux-64::tk-8.6.10-hbc83047_0\n",
            "  tqdm               pkgs/main/noarch::tqdm-4.61.2-pyhd3eb1b0_1\n",
            "  urllib3            pkgs/main/noarch::urllib3-1.26.6-pyhd3eb1b0_1\n",
            "  wheel              pkgs/main/noarch::wheel-0.36.2-pyhd3eb1b0_0\n",
            "  xz                 pkgs/main/linux-64::xz-5.2.5-h7b6447c_0\n",
            "  yaml               pkgs/main/linux-64::yaml-0.2.5-h7b6447c_0\n",
            "  zlib               pkgs/main/linux-64::zlib-1.2.11-h7b6447c_3\n",
            "\n",
            "\n",
            "Preparing transaction: / \b\b- \b\b\\ \b\b| \b\bdone\n",
            "Executing transaction: - \b\b\\ \b\b| \b\b/ \b\b- \b\b\\ \b\b| \b\b/ \b\b- \b\b\\ \b\b| \b\b/ \b\b- \b\b\\ \b\bdone\n",
            "installation finished.\n",
            "WARNING:\n",
            "    You currently have a PYTHONPATH environment variable set. This may cause\n",
            "    unexpected behavior when running the Python interpreter in Miniconda3.\n",
            "    For best results, please verify that your PYTHONPATH only points to\n",
            "    directories of packages that are compatible with the Python interpreter\n",
            "    in Miniconda3: /usr/local\n",
            "Collecting package metadata (current_repodata.json): - \b\b\\ \b\b| \b\b/ \b\b- \b\b\\ \b\b| \b\b/ \b\b- \b\b\\ \b\b| \b\b/ \b\b- \b\b\\ \b\b| \b\b/ \b\b- \b\b\\ \b\b| \b\b/ \b\b- \b\b\\ \b\b| \b\b/ \b\b- \b\b\\ \b\b| \b\b/ \b\b- \b\b\\ \b\b| \b\b/ \b\b- \b\b\\ \b\b| \b\b/ \b\b- \b\b\\ \b\b| \b\b/ \b\b- \b\b\\ \b\b| \b\b/ \b\b- \b\b\\ \b\b| \b\b/ \b\b- \b\b\\ \b\b| \b\b/ \b\b- \b\b\\ \b\b| \b\b/ \b\b- \b\b\\ \b\b| \b\b/ \b\b- \b\b\\ \b\b| \b\b/ \b\b- \b\b\\ \b\b| \b\b/ \b\b- \b\b\\ \b\b| \b\b/ \b\b- \b\b\\ \b\b| \b\b/ \b\b- \b\b\\ \b\b| \b\b/ \b\b- \b\b\\ \b\b| \b\b/ \b\b- \b\b\\ \b\b| \b\b/ \b\b- \b\b\\ \b\b| \b\b/ \b\b- \b\b\\ \b\b| \b\b/ \b\b- \b\b\\ \b\b| \b\b/ \b\b- \b\b\\ \b\b| \b\b/ \b\b- \b\b\\ \b\b| \b\b/ \b\b- \b\b\\ \b\b| \b\b/ \b\b- \b\b\\ \b\b| \b\b/ \b\b- \b\b\\ \b\b| \b\b/ \b\b- \b\b\\ \b\b| \b\b/ \b\b- \b\b\\ \b\b| \b\b/ \b\b- \b\b\\ \b\b| \b\b/ \b\b- \b\b\\ \b\b| \b\b/ \b\b- \b\b\\ \b\b| \b\b/ \b\b- \b\bdone\n",
            "Solving environment: | \b\b/ \b\b- \b\b\\ \b\b| \b\b/ \b\b- \b\b\\ \b\b| \b\b/ \b\b- \b\b\\ \b\b| \b\b/ \b\b- \b\b\\ \b\b| \b\b/ \b\b- \b\b\\ \b\b| \b\b/ \b\b- \b\b\\ \b\b| \b\b/ \b\b- \b\b\\ \b\b| \b\b/ \b\b- \b\b\\ \b\b| \b\b/ \b\b- \b\b\\ \b\b| \b\b/ \b\b- \b\b\\ \b\bdone\n",
            "\n",
            "\n",
            "==> WARNING: A newer version of conda exists. <==\n",
            "  current version: 4.10.3\n",
            "  latest version: 23.1.0\n",
            "\n",
            "Please update conda by running\n",
            "\n",
            "    $ conda update -n base -c defaults conda\n",
            "\n",
            "\n",
            "\n",
            "## Package Plan ##\n",
            "\n",
            "  environment location: /usr/local\n",
            "\n",
            "  added / updated specs:\n",
            "    - mamba\n",
            "\n",
            "\n",
            "The following packages will be downloaded:\n",
            "\n",
            "    package                    |            build\n",
            "    ---------------------------|-----------------\n",
            "    bzip2-1.0.8                |       h7f98852_4         484 KB  conda-forge\n",
            "    c-ares-1.18.1              |       h7f98852_0         113 KB  conda-forge\n",
            "    ca-certificates-2022.12.7  |       ha878542_0         143 KB  conda-forge\n",
            "    certifi-2022.12.7          |     pyhd8ed1ab_0         147 KB  conda-forge\n",
            "    icu-58.2                   |    hf484d3e_1000        22.6 MB  conda-forge\n",
            "    keyutils-1.6.1             |       h166bdaf_0         115 KB  conda-forge\n",
            "    krb5-1.19.3                |       h3790be6_0         1.4 MB  conda-forge\n",
            "    libarchive-3.5.2           |       hccf745f_1         1.6 MB  conda-forge\n",
            "    libcurl-7.87.0             |       h91b91d3_0         373 KB\n",
            "    libedit-3.1.20191231       |       he28a2e2_2         121 KB  conda-forge\n",
            "    libev-4.33                 |       h516909a_1         104 KB  conda-forge\n",
            "    libgcc-ng-11.2.0           |       h1234567_1         5.3 MB\n",
            "    libgomp-11.2.0             |       h1234567_1         474 KB\n",
            "    libiconv-1.17              |       h166bdaf_0         1.4 MB  conda-forge\n",
            "    libnghttp2-1.46.0          |       hce63b2e_0         680 KB\n",
            "    libsolv-0.7.22             |       he621ea3_0         436 KB\n",
            "    libssh2-1.10.0             |       ha56f1ee_2         233 KB  conda-forge\n",
            "    libstdcxx-ng-12.2.0        |      h46fd767_19         4.3 MB  conda-forge\n",
            "    libxml2-2.9.14             |       h74e7548_0         718 KB\n",
            "    lz4-c-1.9.3                |       h9c3ff4c_1         179 KB  conda-forge\n",
            "    lzo-2.10                   |    h516909a_1000         314 KB  conda-forge\n",
            "    mamba-0.15.3               |   py37h7f483ca_0         741 KB  conda-forge\n",
            "    openssl-1.1.1t             |       h7f8727e_0         3.7 MB\n",
            "    pcre2-10.37                |       h032f7d1_0         1.1 MB  conda-forge\n",
            "    python_abi-3.7             |          2_cp37m           4 KB  conda-forge\n",
            "    reproc-14.2.4              |       h295c915_1          30 KB\n",
            "    reproc-cpp-14.2.4          |       h295c915_1          22 KB\n",
            "    zlib-1.2.13                |       h5eee18b_0         103 KB\n",
            "    zstd-1.5.2                 |       ha4553b6_0         488 KB\n",
            "    ------------------------------------------------------------\n",
            "                                           Total:        47.3 MB\n",
            "\n",
            "The following NEW packages will be INSTALLED:\n",
            "\n",
            "  bzip2              conda-forge/linux-64::bzip2-1.0.8-h7f98852_4\n",
            "  c-ares             conda-forge/linux-64::c-ares-1.18.1-h7f98852_0\n",
            "  icu                conda-forge/linux-64::icu-58.2-hf484d3e_1000\n",
            "  keyutils           conda-forge/linux-64::keyutils-1.6.1-h166bdaf_0\n",
            "  krb5               conda-forge/linux-64::krb5-1.19.3-h3790be6_0\n",
            "  libarchive         conda-forge/linux-64::libarchive-3.5.2-hccf745f_1\n",
            "  libcurl            pkgs/main/linux-64::libcurl-7.87.0-h91b91d3_0\n",
            "  libedit            conda-forge/linux-64::libedit-3.1.20191231-he28a2e2_2\n",
            "  libev              conda-forge/linux-64::libev-4.33-h516909a_1\n",
            "  libiconv           conda-forge/linux-64::libiconv-1.17-h166bdaf_0\n",
            "  libnghttp2         pkgs/main/linux-64::libnghttp2-1.46.0-hce63b2e_0\n",
            "  libsolv            pkgs/main/linux-64::libsolv-0.7.22-he621ea3_0\n",
            "  libssh2            conda-forge/linux-64::libssh2-1.10.0-ha56f1ee_2\n",
            "  libxml2            pkgs/main/linux-64::libxml2-2.9.14-h74e7548_0\n",
            "  lz4-c              conda-forge/linux-64::lz4-c-1.9.3-h9c3ff4c_1\n",
            "  lzo                conda-forge/linux-64::lzo-2.10-h516909a_1000\n",
            "  mamba              conda-forge/linux-64::mamba-0.15.3-py37h7f483ca_0\n",
            "  pcre2              conda-forge/linux-64::pcre2-10.37-h032f7d1_0\n",
            "  python_abi         conda-forge/linux-64::python_abi-3.7-2_cp37m\n",
            "  reproc             pkgs/main/linux-64::reproc-14.2.4-h295c915_1\n",
            "  reproc-cpp         pkgs/main/linux-64::reproc-cpp-14.2.4-h295c915_1\n",
            "  zstd               pkgs/main/linux-64::zstd-1.5.2-ha4553b6_0\n",
            "\n",
            "The following packages will be UPDATED:\n",
            "\n",
            "  ca-certificates    pkgs/main::ca-certificates-2021.7.5-h~ --> conda-forge::ca-certificates-2022.12.7-ha878542_0\n",
            "  certifi            pkgs/main/linux-64::certifi-2021.5.30~ --> conda-forge/noarch::certifi-2022.12.7-pyhd8ed1ab_0\n",
            "  libgcc-ng                               9.3.0-h5101ec6_17 --> 11.2.0-h1234567_1\n",
            "  libgomp                                 9.3.0-h5101ec6_17 --> 11.2.0-h1234567_1\n",
            "  libstdcxx-ng       pkgs/main::libstdcxx-ng-9.3.0-hd4cf53~ --> conda-forge::libstdcxx-ng-12.2.0-h46fd767_19\n",
            "  openssl                                 1.1.1k-h27cfd23_0 --> 1.1.1t-h7f8727e_0\n",
            "  zlib                                    1.2.11-h7b6447c_3 --> 1.2.13-h5eee18b_0\n",
            "\n",
            "\n",
            "\n",
            "Downloading and Extracting Packages\n",
            "reproc-cpp-14.2.4    | 22 KB     | : 100% 1.0/1 [00:00<00:00,  8.10it/s]\n",
            "krb5-1.19.3          | 1.4 MB    | : 100% 1.0/1 [00:00<00:00,  2.01it/s]\n",
            "icu-58.2             | 22.6 MB   | : 100% 1.0/1 [00:04<00:00,  4.99s/it]               \n",
            "lzo-2.10             | 314 KB    | : 100% 1.0/1 [00:00<00:00,  8.78it/s]\n",
            "libedit-3.1.20191231 | 121 KB    | : 100% 1.0/1 [00:00<00:00, 13.97it/s]\n",
            "libxml2-2.9.14       | 718 KB    | : 100% 1.0/1 [00:00<00:00,  8.31it/s]\n",
            "mamba-0.15.3         | 741 KB    | : 100% 1.0/1 [00:00<00:00,  3.62it/s]\n",
            "c-ares-1.18.1        | 113 KB    | : 100% 1.0/1 [00:00<00:00, 15.16it/s]\n",
            "ca-certificates-2022 | 143 KB    | : 100% 1.0/1 [00:00<00:00, 11.68it/s]\n",
            "libcurl-7.87.0       | 373 KB    | : 100% 1.0/1 [00:00<00:00, 13.62it/s]\n",
            "libstdcxx-ng-12.2.0  | 4.3 MB    | : 100% 1.0/1 [00:00<00:00,  1.27it/s]\n",
            "lz4-c-1.9.3          | 179 KB    | : 100% 1.0/1 [00:00<00:00, 13.18it/s]\n",
            "reproc-14.2.4        | 30 KB     | : 100% 1.0/1 [00:00<00:00, 14.71it/s]\n",
            "keyutils-1.6.1       | 115 KB    | : 100% 1.0/1 [00:00<00:00, 15.19it/s]\n",
            "libsolv-0.7.22       | 436 KB    | : 100% 1.0/1 [00:00<00:00, 11.34it/s]\n",
            "zlib-1.2.13          | 103 KB    | : 100% 1.0/1 [00:00<00:00, 14.78it/s]\n",
            "libgcc-ng-11.2.0     | 5.3 MB    | : 100% 1.0/1 [00:00<00:00,  4.68it/s]\n",
            "bzip2-1.0.8          | 484 KB    | : 100% 1.0/1 [00:00<00:00,  6.96it/s]\n",
            "certifi-2022.12.7    | 147 KB    | : 100% 1.0/1 [00:00<00:00, 13.34it/s]\n",
            "libiconv-1.17        | 1.4 MB    | : 100% 1.0/1 [00:00<00:00,  4.10it/s]\n",
            "libev-4.33           | 104 KB    | : 100% 1.0/1 [00:00<00:00, 17.31it/s]\n",
            "python_abi-3.7       | 4 KB      | : 100% 1.0/1 [00:00<00:00, 24.99it/s]\n",
            "openssl-1.1.1t       | 3.7 MB    | : 100% 1.0/1 [00:00<00:00,  6.31it/s]\n",
            "libnghttp2-1.46.0    | 680 KB    | : 100% 1.0/1 [00:00<00:00, 10.99it/s]\n",
            "libssh2-1.10.0       | 233 KB    | : 100% 1.0/1 [00:00<00:00,  9.07it/s]\n",
            "libarchive-3.5.2     | 1.6 MB    | : 100% 1.0/1 [00:00<00:00,  2.94it/s]\n",
            "libgomp-11.2.0       | 474 KB    | : 100% 1.0/1 [00:00<00:00, 12.03it/s]\n",
            "pcre2-10.37          | 1.1 MB    | : 100% 1.0/1 [00:00<00:00,  3.74it/s]\n",
            "zstd-1.5.2           | 488 KB    | : 100% 1.0/1 [00:00<00:00, 12.30it/s]\n",
            "Preparing transaction: / \b\bdone\n",
            "Verifying transaction: \\ \b\b| \b\b/ \b\b- \b\bdone\n",
            "Executing transaction: | \b\b/ \b\b- \b\b\\ \b\b| \b\b/ \b\bdone\n",
            "  Package                    Version  Build                 Channel                     Size\n",
            "──────────────────────────────────────────────────────────────────────────────────────────────\n",
            "  Install:\n",
            "──────────────────────────────────────────────────────────────────────────────────────────────\n",
            "\n",
            "\u001b[32m  + charset-normalizer     \u001b[00m    2.1.1  pyhd8ed1ab_0          conda-forge/noarch         36 KB\n",
            "\u001b[32m  + colorama               \u001b[00m    0.4.6  pyhd8ed1ab_0          conda-forge/noarch         25 KB\n",
            "\u001b[32m  + conda-package-streaming\u001b[00m    0.7.0  pyhd8ed1ab_1          conda-forge/noarch         17 KB\n",
            "\u001b[32m  + libmamba               \u001b[00m   0.27.0  h0dd8ff0_0            conda-forge/linux-64        1 MB\n",
            "\u001b[32m  + libmambapy             \u001b[00m   0.27.0  py37h1ee4b26_0        conda-forge/linux-64      333 KB\n",
            "\u001b[32m  + libnsl                 \u001b[00m    2.0.0  h7f98852_0            conda-forge/linux-64       31 KB\n",
            "\u001b[32m  + libsqlite              \u001b[00m   3.40.0  h753d276_0            conda-forge/linux-64      791 KB\n",
            "\u001b[32m  + libzlib                \u001b[00m   1.2.13  h166bdaf_4            conda-forge/linux-64       64 KB\n",
            "\u001b[32m  + pybind11-abi           \u001b[00m        4  hd8ed1ab_3            conda-forge/noarch         10 KB\n",
            "\u001b[32m  + toolz                  \u001b[00m   0.12.0  pyhd8ed1ab_0          conda-forge/noarch         48 KB\n",
            "\u001b[32m  + yaml-cpp               \u001b[00m    0.7.0  h27087fc_2            conda-forge/linux-64      215 KB\n",
            "\u001b[32m  + zstandard              \u001b[00m   0.18.0  py37h540881e_0        conda-forge/linux-64      650 KB\n",
            "\n",
            "  Change:\n",
            "──────────────────────────────────────────────────────────────────────────────────────────────\n",
            "\n",
            "\u001b[31m  - _libgcc_mutex          \u001b[00m      0.1  main                  installed                       \n",
            "\u001b[32m  + _libgcc_mutex          \u001b[00m      0.1  conda_forge           conda-forge/linux-64        3 KB\n",
            "\u001b[31m  - _openmp_mutex          \u001b[00m      4.5  1_gnu                 installed                       \n",
            "\u001b[32m  + _openmp_mutex          \u001b[00m      4.5  2_gnu                 conda-forge/linux-64       23 KB\n",
            "\u001b[31m  - brotlipy               \u001b[00m    0.7.0  py37h27cfd23_1003     installed                       \n",
            "\u001b[32m  + brotlipy               \u001b[00m    0.7.0  py37h540881e_1004     conda-forge/linux-64      342 KB\n",
            "\u001b[31m  - libarchive             \u001b[00m    3.5.2  hccf745f_1            installed                       \n",
            "\u001b[32m  + libarchive             \u001b[00m    3.5.2  hb890918_3            conda-forge/linux-64        2 MB\n",
            "\u001b[31m  - libcurl                \u001b[00m   7.87.0  h91b91d3_0            installed                       \n",
            "\u001b[32m  + libcurl                \u001b[00m   7.87.0  h6312ad2_0            conda-forge/linux-64      339 KB\n",
            "\u001b[31m  - libssh2                \u001b[00m   1.10.0  ha56f1ee_2            installed                       \n",
            "\u001b[32m  + libssh2                \u001b[00m   1.10.0  haa6b8db_3            conda-forge/linux-64      234 KB\n",
            "\u001b[31m  - openssl                \u001b[00m   1.1.1t  h7f8727e_0            installed                       \n",
            "\u001b[32m  + openssl                \u001b[00m   1.1.1t  h0b41bf4_0            conda-forge/linux-64        2 MB\n",
            "\u001b[31m  - pysocks                \u001b[00m    1.7.1  py37_1                installed                       \n",
            "\u001b[32m  + pysocks                \u001b[00m    1.7.1  py37h89c1867_5        conda-forge/linux-64       28 KB\n",
            "\u001b[31m  - python_abi             \u001b[00m      3.7  2_cp37m               installed                       \n",
            "\u001b[32m  + python_abi             \u001b[00m      3.7  3_cp37m               conda-forge/linux-64        6 KB\n",
            "\u001b[31m  - reproc                 \u001b[00m   14.2.4  h295c915_1            installed                       \n",
            "\u001b[32m  + reproc                 \u001b[00m   14.2.4  h0b41bf4_0            conda-forge/linux-64       30 KB\n",
            "\u001b[31m  - reproc-cpp             \u001b[00m   14.2.4  h295c915_1            installed                       \n",
            "\u001b[32m  + reproc-cpp             \u001b[00m   14.2.4  hcb278e6_0            conda-forge/linux-64       21 KB\n",
            "\u001b[31m  - yaml                   \u001b[00m    0.2.5  h7b6447c_0            installed                       \n",
            "\u001b[32m  + yaml                   \u001b[00m    0.2.5  h7f98852_2            conda-forge/linux-64       87 KB\n",
            "\u001b[31m  - zlib                   \u001b[00m   1.2.13  h5eee18b_0            installed                       \n",
            "\u001b[32m  + zlib                   \u001b[00m   1.2.13  h166bdaf_4            conda-forge/linux-64       92 KB\n",
            "\u001b[31m  - zstd                   \u001b[00m    1.5.2  ha4553b6_0            installed                       \n",
            "\u001b[32m  + zstd                   \u001b[00m    1.5.2  h3eb15da_6            conda-forge/linux-64      410 KB\n",
            "\n",
            "  Upgrade:\n",
            "──────────────────────────────────────────────────────────────────────────────────────────────\n",
            "\n",
            "\u001b[31m  - cffi                   \u001b[00m   1.14.6  py37h400218f_0        installed                       \n",
            "\u001b[32m  + cffi                   \u001b[00m   1.15.1  py37h43b0acd_1        conda-forge/linux-64      227 KB\n",
            "\u001b[31m  - chardet                \u001b[00m    4.0.0  py37h06a4308_1003     installed                       \n",
            "\u001b[32m  + chardet                \u001b[00m    5.0.0  py37h89c1867_0        conda-forge/linux-64      230 KB\n",
            "\u001b[31m  - conda                  \u001b[00m   4.10.3  py37h06a4308_0        installed                       \n",
            "\u001b[32m  + conda                  \u001b[00m   22.9.0  py37h89c1867_1        conda-forge/linux-64      960 KB\n",
            "\u001b[31m  - conda-package-handling \u001b[00m    1.7.3  py37h27cfd23_1        installed                       \n",
            "\u001b[32m  + conda-package-handling \u001b[00m    2.0.2  pyh38be061_0          conda-forge/noarch        247 KB\n",
            "\u001b[31m  - cryptography           \u001b[00m    3.4.7  py37hd23ed53_0        installed                       \n",
            "\u001b[32m  + cryptography           \u001b[00m   38.0.2  py37h38fbfac_1        conda-forge/linux-64        2 MB\n",
            "\u001b[31m  - icu                    \u001b[00m     58.2  hf484d3e_1000         installed                       \n",
            "\u001b[32m  + icu                    \u001b[00m     70.1  h27087fc_0            conda-forge/linux-64       14 MB\n",
            "\u001b[31m  - idna                   \u001b[00m     2.10  pyhd3eb1b0_0          installed                       \n",
            "\u001b[32m  + idna                   \u001b[00m      3.4  pyhd8ed1ab_0          conda-forge/noarch         55 KB\n",
            "\u001b[31m  - krb5                   \u001b[00m   1.19.3  h3790be6_0            installed                       \n",
            "\u001b[32m  + krb5                   \u001b[00m   1.20.1  hf9c8cef_0            conda-forge/linux-64        1 MB\n",
            "\u001b[31m  - ld_impl_linux-64       \u001b[00m   2.35.1  h7274673_9            installed                       \n",
            "\u001b[32m  + ld_impl_linux-64       \u001b[00m     2.40  h41732ed_0            conda-forge/linux-64      688 KB\n",
            "\u001b[31m  - libffi                 \u001b[00m      3.3  he6710b0_2            installed                       \n",
            "\u001b[32m  + libffi                 \u001b[00m    3.4.2  h7f98852_5            conda-forge/linux-64       57 KB\n",
            "\u001b[31m  - libgcc-ng              \u001b[00m   11.2.0  h1234567_1            installed                       \n",
            "\u001b[32m  + libgcc-ng              \u001b[00m   12.2.0  h65d4601_19           conda-forge/linux-64      931 KB\n",
            "\u001b[31m  - libgomp                \u001b[00m   11.2.0  h1234567_1            installed                       \n",
            "\u001b[32m  + libgomp                \u001b[00m   12.2.0  h65d4601_19           conda-forge/linux-64      455 KB\n",
            "\u001b[31m  - libnghttp2             \u001b[00m   1.46.0  hce63b2e_0            installed                       \n",
            "\u001b[32m  + libnghttp2             \u001b[00m   1.51.0  hdcd2b5c_0            conda-forge/linux-64      608 KB\n",
            "\u001b[31m  - libsolv                \u001b[00m   0.7.22  he621ea3_0            installed                       \n",
            "\u001b[32m  + libsolv                \u001b[00m   0.7.23  h3eb15da_0            conda-forge/linux-64      451 KB\n",
            "\u001b[31m  - libxml2                \u001b[00m   2.9.14  h74e7548_0            installed                       \n",
            "\u001b[32m  + libxml2                \u001b[00m   2.10.3  h7463322_0            conda-forge/linux-64      754 KB\n",
            "\u001b[31m  - lz4-c                  \u001b[00m    1.9.3  h9c3ff4c_1            installed                       \n",
            "\u001b[32m  + lz4-c                  \u001b[00m    1.9.4  hcb278e6_0            conda-forge/linux-64      140 KB\n",
            "\u001b[31m  - mamba                  \u001b[00m   0.15.3  py37h7f483ca_0        installed                       \n",
            "\u001b[32m  + mamba                  \u001b[00m   0.27.0  py37h6dacc13_0        conda-forge/linux-64       44 KB\n",
            "\u001b[31m  - ncurses                \u001b[00m      6.2  he6710b0_1            installed                       \n",
            "\u001b[32m  + ncurses                \u001b[00m      6.3  h27087fc_1            conda-forge/linux-64     1002 KB\n",
            "\u001b[31m  - pcre2                  \u001b[00m    10.37  h032f7d1_0            installed                       \n",
            "\u001b[32m  + pcre2                  \u001b[00m    10.40  hc3806b6_0            conda-forge/linux-64        2 MB\n",
            "\u001b[31m  - pip                    \u001b[00m   21.1.3  py37h06a4308_0        installed                       \n",
            "\u001b[32m  + pip                    \u001b[00m   23.0.1  pyhd8ed1ab_0          conda-forge/noarch          1 MB\n",
            "\u001b[31m  - pycosat                \u001b[00m    0.6.3  py37h27cfd23_0        installed                       \n",
            "\u001b[32m  + pycosat                \u001b[00m    0.6.4  py37h540881e_0        conda-forge/linux-64      107 KB\n",
            "\u001b[31m  - pycparser              \u001b[00m     2.20  py_2                  installed                       \n",
            "\u001b[32m  + pycparser              \u001b[00m     2.21  pyhd8ed1ab_0          conda-forge/noarch        100 KB\n",
            "\u001b[31m  - pyopenssl              \u001b[00m   20.0.1  pyhd3eb1b0_1          installed                       \n",
            "\u001b[32m  + pyopenssl              \u001b[00m   23.0.0  pyhd8ed1ab_0          conda-forge/noarch        124 KB\n",
            "\u001b[31m  - python                 \u001b[00m   3.7.10  h12debd9_4            installed                       \n",
            "\u001b[32m  + python                 \u001b[00m   3.7.12  hb7a2778_100_cpython  conda-forge/linux-64       57 MB\n",
            "\u001b[31m  - readline               \u001b[00m      8.1  h27cfd23_0            installed                       \n",
            "\u001b[32m  + readline               \u001b[00m    8.1.2  h0f457ee_0            conda-forge/linux-64      291 KB\n",
            "\u001b[31m  - requests               \u001b[00m   2.25.1  pyhd3eb1b0_0          installed                       \n",
            "\u001b[32m  + requests               \u001b[00m   2.28.2  pyhd8ed1ab_0          conda-forge/noarch         55 KB\n",
            "\u001b[31m  - setuptools             \u001b[00m   52.0.0  py37h06a4308_0        installed                       \n",
            "\u001b[32m  + setuptools             \u001b[00m   67.3.2  pyhd8ed1ab_0          conda-forge/noarch        565 KB\n",
            "\u001b[31m  - sqlite                 \u001b[00m   3.36.0  hc218d9a_0            installed                       \n",
            "\u001b[32m  + sqlite                 \u001b[00m   3.40.0  h4ff8645_0            conda-forge/linux-64      801 KB\n",
            "\u001b[31m  - tk                     \u001b[00m   8.6.10  hbc83047_0            installed                       \n",
            "\u001b[32m  + tk                     \u001b[00m   8.6.12  h27826a3_0            conda-forge/linux-64        3 MB\n",
            "\u001b[31m  - tqdm                   \u001b[00m   4.61.2  pyhd3eb1b0_1          installed                       \n",
            "\u001b[32m  + tqdm                   \u001b[00m   4.64.1  pyhd8ed1ab_0          conda-forge/noarch         82 KB\n",
            "\u001b[31m  - urllib3                \u001b[00m   1.26.6  pyhd3eb1b0_1          installed                       \n",
            "\u001b[32m  + urllib3                \u001b[00m  1.26.14  pyhd8ed1ab_0          conda-forge/noarch        110 KB\n",
            "\u001b[31m  - wheel                  \u001b[00m   0.36.2  pyhd3eb1b0_0          installed                       \n",
            "\u001b[32m  + wheel                  \u001b[00m   0.38.4  pyhd8ed1ab_0          conda-forge/noarch         32 KB\n",
            "\u001b[31m  - xz                     \u001b[00m    5.2.5  h7b6447c_0            installed                       \n",
            "\u001b[32m  + xz                     \u001b[00m    5.2.6  h166bdaf_0            conda-forge/linux-64      409 KB\n",
            "\n",
            "  Summary:\n",
            "\n",
            "  Install: 12 packages\n",
            "  Change: 14 packages\n",
            "  Upgrade: 33 packages\n",
            "\n",
            "  Total download: 99 MB\n",
            "\n",
            "──────────────────────────────────────────────────────────────────────────────────────────────\n",
            "\n",
            "Preparing transaction: ...working... done\n",
            "Verifying transaction: ...working... done\n",
            "Executing transaction: ...working... done\n",
            "\n",
            "                  __    __    __    __\n",
            "                 /  \\  /  \\  /  \\  /  \\\n",
            "                /    \\/    \\/    \\/    \\\n",
            "███████████████/  /██/  /██/  /██/  /████████████████████████\n",
            "              /  / \\   / \\   / \\   / \\  \\____\n",
            "             /  /   \\_/   \\_/   \\_/   \\    o \\__,\n",
            "            / _/                       \\_____/  `\n",
            "            |/\n",
            "        ███╗   ███╗ █████╗ ███╗   ███╗██████╗  █████╗\n",
            "        ████╗ ████║██╔══██╗████╗ ████║██╔══██╗██╔══██╗\n",
            "        ██╔████╔██║███████║██╔████╔██║██████╔╝███████║\n",
            "        ██║╚██╔╝██║██╔══██║██║╚██╔╝██║██╔══██╗██╔══██║\n",
            "        ██║ ╚═╝ ██║██║  ██║██║ ╚═╝ ██║██████╔╝██║  ██║\n",
            "        ╚═╝     ╚═╝╚═╝  ╚═╝╚═╝     ╚═╝╚═════╝ ╚═╝  ╚═╝\n",
            "\n",
            "        mamba (0.27.0) supported by @QuantStack\n",
            "\n",
            "        GitHub:  https://github.com/mamba-org/mamba\n",
            "        Twitter: https://twitter.com/QuantStack\n",
            "\n",
            "█████████████████████████████████████████████████████████████\n",
            "\n"
          ]
        }
      ]
    },
    {
      "cell_type": "code",
      "execution_count": null,
      "metadata": {
        "colab": {
          "base_uri": "https://localhost:8080/"
        },
        "id": "ADEgpl_AKWHE",
        "outputId": "9aa9ca5c-f9ad-4968-a616-931e30889d1f"
      },
      "outputs": [
        {
          "output_type": "stream",
          "name": "stdout",
          "text": [
            "\n",
            "                  __    __    __    __\n",
            "                 /  \\  /  \\  /  \\  /  \\\n",
            "                /    \\/    \\/    \\/    \\\n",
            "███████████████/  /██/  /██/  /██/  /████████████████████████\n",
            "              /  / \\   / \\   / \\   / \\  \\____\n",
            "             /  /   \\_/   \\_/   \\_/   \\    o \\__,\n",
            "            / _/                       \\_____/  `\n",
            "            |/\n",
            "        ███╗   ███╗ █████╗ ███╗   ███╗██████╗  █████╗\n",
            "        ████╗ ████║██╔══██╗████╗ ████║██╔══██╗██╔══██╗\n",
            "        ██╔████╔██║███████║██╔████╔██║██████╔╝███████║\n",
            "        ██║╚██╔╝██║██╔══██║██║╚██╔╝██║██╔══██╗██╔══██║\n",
            "        ██║ ╚═╝ ██║██║  ██║██║ ╚═╝ ██║██████╔╝██║  ██║\n",
            "        ╚═╝     ╚═╝╚═╝  ╚═╝╚═╝     ╚═╝╚═════╝ ╚═╝  ╚═╝\n",
            "\n",
            "        mamba (0.27.0) supported by @QuantStack\n",
            "\n",
            "        GitHub:  https://github.com/mamba-org/mamba\n",
            "        Twitter: https://twitter.com/QuantStack\n",
            "\n",
            "█████████████████████████████████████████████████████████████\n",
            "\n",
            "  Package                       Version  Build                            Channel                   Size\n",
            "──────────────────────────────────────────────────────────────────────────────────────────────────────────\n",
            "  Install:\n",
            "──────────────────────────────────────────────────────────────────────────────────────────────────────────\n",
            "\n",
            "\u001b[32m  + alsa-lib                 \u001b[00m     1.2.8  h166bdaf_0                       conda-forge/linux-64     592kB\n",
            "\u001b[32m  + attr                     \u001b[00m     2.5.1  h166bdaf_1                       conda-forge/linux-64      71kB\n",
            "\u001b[32m  + blas                     \u001b[00m       1.1  openblas                         conda-forge/linux-64       1kB\n",
            "\u001b[32m  + brotli                   \u001b[00m     1.0.9  h166bdaf_8                       conda-forge/linux-64      19kB\n",
            "\u001b[32m  + brotli-bin               \u001b[00m     1.0.9  h166bdaf_8                       conda-forge/linux-64      20kB\n",
            "\u001b[32m  + cairo                    \u001b[00m    1.16.0  ha61ee94_1014                    conda-forge/linux-64       2MB\n",
            "\u001b[32m  + cycler                   \u001b[00m    0.11.0  pyhd8ed1ab_0                     conda-forge/noarch        10kB\n",
            "\u001b[32m  + dbus                     \u001b[00m    1.13.6  h5008d03_3                       conda-forge/linux-64     619kB\n",
            "\u001b[32m  + expat                    \u001b[00m     2.5.0  h27087fc_0                       conda-forge/linux-64     194kB\n",
            "\u001b[32m  + fftw                     \u001b[00m    3.3.10  nompi_hf0379b8_106               conda-forge/linux-64       2MB\n",
            "\u001b[32m  + font-ttf-dejavu-sans-mono\u001b[00m      2.37  hab24e00_0                       conda-forge/noarch       397kB\n",
            "\u001b[32m  + font-ttf-inconsolata     \u001b[00m     3.000  h77eed37_0                       conda-forge/noarch        97kB\n",
            "\u001b[32m  + font-ttf-source-code-pro \u001b[00m     2.038  h77eed37_0                       conda-forge/noarch       701kB\n",
            "\u001b[32m  + font-ttf-ubuntu          \u001b[00m      0.83  hab24e00_0                       conda-forge/noarch         2MB\n",
            "\u001b[32m  + fontconfig               \u001b[00m    2.14.2  h14ed4e7_0                       conda-forge/linux-64     272kB\n",
            "\u001b[32m  + fonts-conda-ecosystem    \u001b[00m         1  0                                conda-forge/noarch         4kB\n",
            "\u001b[32m  + fonts-conda-forge        \u001b[00m         1  0                                conda-forge/noarch         4kB\n",
            "\u001b[32m  + fonttools                \u001b[00m    4.38.0  py37h540881e_0                   conda-forge/linux-64       2MB\n",
            "\u001b[32m  + freetype                 \u001b[00m    2.12.1  hca18f0e_1                       conda-forge/linux-64     626kB\n",
            "\u001b[32m  + gettext                  \u001b[00m    0.21.1  h27087fc_0                       conda-forge/linux-64       4MB\n",
            "\u001b[32m  + glib                     \u001b[00m    2.74.1  h6239696_1                       conda-forge/linux-64     486kB\n",
            "\u001b[32m  + glib-tools               \u001b[00m    2.74.1  h6239696_1                       conda-forge/linux-64     109kB\n",
            "\u001b[32m  + graphite2                \u001b[00m    1.3.13  h58526e2_1001                    conda-forge/linux-64     105kB\n",
            "\u001b[32m  + gst-plugins-base         \u001b[00m    1.21.3  h4243ec0_1                       conda-forge/linux-64       3MB\n",
            "\u001b[32m  + gstreamer                \u001b[00m    1.21.3  h25f0c4b_1                       conda-forge/linux-64       2MB\n",
            "\u001b[32m  + gstreamer-orc            \u001b[00m    0.4.33  h166bdaf_0                       conda-forge/linux-64     306kB\n",
            "\u001b[32m  + harfbuzz                 \u001b[00m     6.0.0  h8e241bc_0                       conda-forge/linux-64       1MB\n",
            "\u001b[32m  + jack                     \u001b[00m    1.9.22  h11f4161_0                       conda-forge/linux-64     464kB\n",
            "\u001b[32m  + jpeg                     \u001b[00m        9e  h0b41bf4_3                       conda-forge/linux-64     240kB\n",
            "\u001b[32m  + kiwisolver               \u001b[00m     1.4.4  py37h7cecad7_0                   conda-forge/linux-64      75kB\n",
            "\u001b[32m  + lame                     \u001b[00m     3.100  h166bdaf_1003                    conda-forge/linux-64     508kB\n",
            "\u001b[32m  + lcms2                    \u001b[00m      2.14  h6ed2654_0                       conda-forge/linux-64     262kB\n",
            "\u001b[32m  + lerc                     \u001b[00m     4.0.0  h27087fc_0                       conda-forge/linux-64     282kB\n",
            "\u001b[32m  + libblas                  \u001b[00m     3.9.0  16_linux64_openblas              conda-forge/linux-64      13kB\n",
            "\u001b[32m  + libbrotlicommon          \u001b[00m     1.0.9  h166bdaf_8                       conda-forge/linux-64      67kB\n",
            "\u001b[32m  + libbrotlidec             \u001b[00m     1.0.9  h166bdaf_8                       conda-forge/linux-64      34kB\n",
            "\u001b[32m  + libbrotlienc             \u001b[00m     1.0.9  h166bdaf_8                       conda-forge/linux-64     295kB\n",
            "\u001b[32m  + libcap                   \u001b[00m      2.66  ha37c62d_0                       conda-forge/linux-64     100kB\n",
            "\u001b[32m  + libcblas                 \u001b[00m     3.9.0  16_linux64_openblas              conda-forge/linux-64      13kB\n",
            "\u001b[32m  + libclang                 \u001b[00m    15.0.7  default_had23c3d_1               conda-forge/linux-64     133kB\n",
            "\u001b[32m  + libclang13               \u001b[00m    15.0.7  default_h3e3d535_1               conda-forge/linux-64      10MB\n",
            "\u001b[32m  + libcups                  \u001b[00m     2.3.3  h36d4200_3                       conda-forge/linux-64       5MB\n",
            "\u001b[32m  + libdb                    \u001b[00m    6.2.32  h9c3ff4c_0                       conda-forge/linux-64      24MB\n",
            "\u001b[32m  + libdeflate               \u001b[00m      1.14  h166bdaf_0                       conda-forge/linux-64      83kB\n",
            "\u001b[32m  + libevent                 \u001b[00m    2.1.10  h9b69904_4                       conda-forge/linux-64       1MB\n",
            "\u001b[32m  + libflac                  \u001b[00m     1.4.2  h27087fc_0                       conda-forge/linux-64     421kB\n",
            "\u001b[32m  + libgcrypt                \u001b[00m    1.10.1  h166bdaf_0                       conda-forge/linux-64     720kB\n",
            "\u001b[32m  + libgfortran              \u001b[00m     3.0.0  1                                conda-forge/linux-64     287kB\n",
            "\u001b[32m  + libgfortran-ng           \u001b[00m    12.2.0  h69a702a_19                      conda-forge/linux-64      23kB\n",
            "\u001b[32m  + libgfortran5             \u001b[00m    12.2.0  h337968e_19                      conda-forge/linux-64       2MB\n",
            "\u001b[32m  + libglib                  \u001b[00m    2.74.1  h606061b_1                       conda-forge/linux-64       3MB\n",
            "\u001b[32m  + libgpg-error             \u001b[00m      1.46  h620e276_0                       conda-forge/linux-64     258kB\n",
            "\u001b[32m  + liblapack                \u001b[00m     3.9.0  16_linux64_openblas              conda-forge/linux-64      13kB\n",
            "\u001b[32m  + libllvm15                \u001b[00m    15.0.7  hadd5161_0                       conda-forge/linux-64      33MB\n",
            "\u001b[32m  + libogg                   \u001b[00m     1.3.4  h7f98852_1                       conda-forge/linux-64     211kB\n",
            "\u001b[32m  + libopenblas              \u001b[00m    0.3.21  h043d6bf_0                       pkgs/main/linux-64         6MB\n",
            "\u001b[32m  + libopus                  \u001b[00m     1.3.1  h7f98852_1                       conda-forge/linux-64     261kB\n",
            "\u001b[32m  + libpng                   \u001b[00m    1.6.39  h753d276_0                       conda-forge/linux-64     283kB\n",
            "\u001b[32m  + libpq                    \u001b[00m      15.1  h2baec63_3                       conda-forge/linux-64       2MB\n",
            "\u001b[32m  + libsndfile               \u001b[00m     1.2.0  hb75c966_0                       conda-forge/linux-64     350kB\n",
            "\u001b[32m  + libsystemd0              \u001b[00m       252  h2a991cd_0                       conda-forge/linux-64     393kB\n",
            "\u001b[32m  + libtiff                  \u001b[00m     4.4.0  h82bc61c_5                       conda-forge/linux-64     485kB\n",
            "\u001b[32m  + libtool                  \u001b[00m     2.4.7  h27087fc_0                       conda-forge/linux-64     412kB\n",
            "\u001b[32m  + libudev1                 \u001b[00m       252  h166bdaf_0                       conda-forge/linux-64     121kB\n",
            "\u001b[32m  + libuuid                  \u001b[00m    2.32.1  h7f98852_1000                    conda-forge/linux-64      28kB\n",
            "\u001b[32m  + libvorbis                \u001b[00m     1.3.7  h9c3ff4c_0                       conda-forge/linux-64     286kB\n",
            "\u001b[32m  + libwebp-base             \u001b[00m     1.2.4  h166bdaf_0                       conda-forge/linux-64     413kB\n",
            "\u001b[32m  + libxcb                   \u001b[00m      1.13  h7f98852_1004                    conda-forge/linux-64     400kB\n",
            "\u001b[32m  + libxkbcommon             \u001b[00m     1.5.0  h79f4944_0                       conda-forge/linux-64     562kB\n",
            "\u001b[32m  + matplotlib               \u001b[00m     3.5.0  py37h89c1867_0                   conda-forge/linux-64       6kB\n",
            "\u001b[32m  + matplotlib-base          \u001b[00m     3.5.0  py37h1058ff1_0                   conda-forge/linux-64       8MB\n",
            "\u001b[32m  + mpg123                   \u001b[00m    1.31.2  hcb278e6_0                       conda-forge/linux-64     485kB\n",
            "\u001b[32m  + munkres                  \u001b[00m     1.1.4  pyh9f0ad1d_0                     conda-forge/noarch        12kB\n",
            "\u001b[32m  + mysql-common             \u001b[00m    8.0.32  h14678bc_0                       conda-forge/linux-64     803kB\n",
            "\u001b[32m  + mysql-libs               \u001b[00m    8.0.32  h54cf53e_0                       conda-forge/linux-64       2MB\n",
            "\u001b[32m  + nspr                     \u001b[00m      4.35  h27087fc_0                       conda-forge/linux-64     227kB\n",
            "\u001b[32m  + nss                      \u001b[00m      3.88  he45b914_0                       conda-forge/linux-64       2MB\n",
            "\u001b[32m  + numpy                    \u001b[00m    1.21.4  py37h31617e3_0                   conda-forge/linux-64       6MB\n",
            "\u001b[32m  + openblas                 \u001b[00m     0.3.3  ha44fe06_1                       conda-forge/linux-64      14MB\n",
            "\u001b[32m  + openjpeg                 \u001b[00m     2.5.0  h7d73246_1                       conda-forge/linux-64     546kB\n",
            "\u001b[32m  + packaging                \u001b[00m      23.0  pyhd8ed1ab_0                     conda-forge/noarch        41kB\n",
            "\u001b[32m  + pandas                   \u001b[00m     1.3.4  py37he8f5f7f_1                   conda-forge/linux-64      13MB\n",
            "\u001b[32m  + patsy                    \u001b[00m     0.5.3  pyhd8ed1ab_0                     conda-forge/noarch       194kB\n",
            "\u001b[32m  + pillow                   \u001b[00m     9.2.0  py37h850a105_2                   conda-forge/linux-64      47MB\n",
            "\u001b[32m  + pixman                   \u001b[00m    0.40.0  h36c2ea0_0                       conda-forge/linux-64     643kB\n",
            "\u001b[32m  + ply                      \u001b[00m      3.11  py_1                             conda-forge/noarch        45kB\n",
            "\u001b[32m  + pthread-stubs            \u001b[00m       0.4  h36c2ea0_1001                    conda-forge/linux-64       6kB\n",
            "\u001b[32m  + pulseaudio               \u001b[00m      16.1  h4ab2085_1                       conda-forge/linux-64       2MB\n",
            "\u001b[32m  + pyparsing                \u001b[00m     3.0.9  pyhd8ed1ab_0                     conda-forge/noarch        81kB\n",
            "\u001b[32m  + pyqt                     \u001b[00m    5.15.7  py37hf30b843_1                   conda-forge/linux-64       7MB\n",
            "\u001b[32m  + pyqt5-sip                \u001b[00m   12.11.0  py37hd23a5d3_1                   conda-forge/linux-64      87kB\n",
            "\u001b[32m  + python-dateutil          \u001b[00m     2.8.2  pyhd8ed1ab_0                     conda-forge/noarch       246kB\n",
            "\u001b[32m  + pytz                     \u001b[00m  2022.7.1  pyhd8ed1ab_0                     conda-forge/noarch       186kB\n",
            "\u001b[32m  + qt-main                  \u001b[00m    5.15.6  h18908ee_6                       conda-forge/linux-64      55MB\n",
            "\u001b[32m  + scikit-learn             \u001b[00m    0.20.1  py37_blas_openblashebff5e3_1200  conda-forge/linux-64       6MB\n",
            "\u001b[32m  + scipy                    \u001b[00m     1.7.3  py37hf2a6cf1_0                   conda-forge/linux-64      23MB\n",
            "\u001b[32m  + seaborn                  \u001b[00m     0.9.0  py_2                             conda-forge/noarch       166kB\n",
            "\u001b[32m  + sip                      \u001b[00m     6.7.2  py37hd23a5d3_0                   conda-forge/linux-64     569kB\n",
            "\u001b[32m  + statsmodels              \u001b[00m    0.13.2  py37hda87dfa_0                   conda-forge/linux-64      12MB\n",
            "\u001b[32m  + toml                     \u001b[00m    0.10.2  pyhd8ed1ab_0                     conda-forge/noarch        18kB\n",
            "\u001b[32m  + tornado                  \u001b[00m       6.2  py37h540881e_0                   conda-forge/linux-64     666kB\n",
            "\u001b[32m  + typing-extensions        \u001b[00m     4.4.0  hd8ed1ab_0                       conda-forge/noarch         9kB\n",
            "\u001b[32m  + typing_extensions        \u001b[00m     4.4.0  pyha770c72_0                     conda-forge/noarch        30kB\n",
            "\u001b[32m  + unicodedata2             \u001b[00m    14.0.0  py37h540881e_1                   conda-forge/linux-64     508kB\n",
            "\u001b[32m  + xcb-util                 \u001b[00m     0.4.0  h516909a_0                       conda-forge/linux-64      20kB\n",
            "\u001b[32m  + xcb-util-image           \u001b[00m     0.4.0  h166bdaf_0                       conda-forge/linux-64      24kB\n",
            "\u001b[32m  + xcb-util-keysyms         \u001b[00m     0.4.0  h516909a_0                       conda-forge/linux-64      12kB\n",
            "\u001b[32m  + xcb-util-renderutil      \u001b[00m     0.3.9  h166bdaf_0                       conda-forge/linux-64      16kB\n",
            "\u001b[32m  + xcb-util-wm              \u001b[00m     0.4.1  h516909a_0                       conda-forge/linux-64      56kB\n",
            "\u001b[32m  + xorg-kbproto             \u001b[00m     1.0.7  h7f98852_1002                    conda-forge/linux-64      27kB\n",
            "\u001b[32m  + xorg-libice              \u001b[00m    1.0.10  h7f98852_0                       conda-forge/linux-64      59kB\n",
            "\u001b[32m  + xorg-libsm               \u001b[00m     1.2.3  hd9c2040_1000                    conda-forge/linux-64      26kB\n",
            "\u001b[32m  + xorg-libx11              \u001b[00m     1.7.2  h7f98852_0                       conda-forge/linux-64     963kB\n",
            "\u001b[32m  + xorg-libxau              \u001b[00m     1.0.9  h7f98852_0                       conda-forge/linux-64      13kB\n",
            "\u001b[32m  + xorg-libxdmcp            \u001b[00m     1.1.3  h7f98852_0                       conda-forge/linux-64      19kB\n",
            "\u001b[32m  + xorg-libxext             \u001b[00m     1.3.4  h7f98852_1                       conda-forge/linux-64      55kB\n",
            "\u001b[32m  + xorg-libxrender          \u001b[00m    0.9.10  h7f98852_1003                    conda-forge/linux-64      33kB\n",
            "\u001b[32m  + xorg-renderproto         \u001b[00m    0.11.1  h7f98852_1002                    conda-forge/linux-64      10kB\n",
            "\u001b[32m  + xorg-xextproto           \u001b[00m     7.3.0  h7f98852_1002                    conda-forge/linux-64      28kB\n",
            "\u001b[32m  + xorg-xproto              \u001b[00m    7.0.31  h7f98852_1007                    conda-forge/linux-64      75kB\n",
            "\n",
            "  Downgrade:\n",
            "──────────────────────────────────────────────────────────────────────────────────────────────────────────\n",
            "\n",
            "\u001b[31m  - setuptools               \u001b[00m    67.3.2  pyhd8ed1ab_0                     conda-forge                   \n",
            "\u001b[32m  + setuptools               \u001b[00m    59.8.0  py37h89c1867_1                   conda-forge/linux-64       1MB\n",
            "\n",
            "  Summary:\n",
            "\n",
            "  Install: 120 packages\n",
            "  Downgrade: 1 packages\n",
            "\n",
            "  Total download: 321MB\n",
            "\n",
            "──────────────────────────────────────────────────────────────────────────────────────────────────────────\n",
            "\n",
            "Preparing transaction: ...working... done\n",
            "Verifying transaction: ...working... done\n",
            "Executing transaction: ...working... done\n"
          ]
        }
      ],
      "source": [
        "# All Libraries required for this lab are listed below. The libraries pre-installed on Skills Network Labs are commented.\n",
        "!mamba install -qy pandas==1.3.4 numpy==1.21.4 seaborn==0.9.0 matplotlib==3.5.0 scikit-learn==0.20.1\n",
        "# Note: If your environment doesn't support \"!mamba install\", use \"!pip install\""
      ]
    },
    {
      "cell_type": "code",
      "execution_count": null,
      "metadata": {
        "id": "34CQmmCTKWHJ"
      },
      "outputs": [],
      "source": [
        "import warnings \n",
        "warnings.filterwarnings('ignore')"
      ]
    },
    {
      "cell_type": "code",
      "execution_count": null,
      "metadata": {
        "id": "M49_Y50_KWHK"
      },
      "outputs": [],
      "source": [
        "import pandas as pd\n",
        "import numpy as np \n",
        "\n",
        "import seaborn as sns \n",
        "import matplotlib.pylab as plt\n",
        "%matplotlib inline\n",
        "\n",
        "from sklearn.preprocessing import StandardScaler\n",
        "from sklearn.preprocessing import MinMaxScaler\n",
        "\n",
        "from scipy.stats import norm\n",
        "from scipy import stats"
      ]
    },
    {
      "cell_type": "markdown",
      "metadata": {
        "id": "rdIOsL3LKWHL"
      },
      "source": [
        "## **Reading and understanding our data**\n"
      ]
    },
    {
      "cell_type": "markdown",
      "metadata": {
        "id": "7xYexQPAKWHM"
      },
      "source": [
        "For this lab, we will be using the Ames_Housing_Data.tsv file, hosted on IBM Cloud object storage. The Ames housing dataset examines features of houses sold in Ames (a small city in the state of Iowa in the United States) during the 2006–2010 timeframe.\n"
      ]
    },
    {
      "cell_type": "markdown",
      "metadata": {
        "id": "oE-DQKKeKWHr"
      },
      "source": [
        "Let's read the data into *pandas* data frame and look at the first 5 rows using the `head()` method.\n"
      ]
    },
    {
      "cell_type": "code",
      "execution_count": null,
      "metadata": {
        "colab": {
          "base_uri": "https://localhost:8080/",
          "height": 474
        },
        "id": "_q5_hDmvKWHs",
        "outputId": "1ad92aac-4b67-4f6a-d0b2-9c9c663a04a3"
      },
      "outputs": [
        {
          "output_type": "execute_result",
          "data": {
            "text/plain": [
              "   Order        PID  MS SubClass MS Zoning  Lot Frontage  Lot Area Street  \\\n",
              "0      1  526301100           20        RL         141.0     31770   Pave   \n",
              "1      1  526301100           20        RL         141.0     31770   Pave   \n",
              "2      2  526350040           20        RH          80.0     11622   Pave   \n",
              "3      3  526351010           20        RL          81.0     14267   Pave   \n",
              "4      4  526353030           20        RL          93.0     11160   Pave   \n",
              "5      5  527105010           60        RL          74.0     13830   Pave   \n",
              "6      6  527105030           60        RL          78.0      9978   Pave   \n",
              "7      7  527127150          120        RL          41.0      4920   Pave   \n",
              "8      8  527145080          120        RL          43.0      5005   Pave   \n",
              "9      9  527146030          120        RL          39.0      5389   Pave   \n",
              "\n",
              "  Alley Lot Shape Land Contour  ... Pool Area Pool QC  Fence Misc Feature  \\\n",
              "0   NaN       IR1          Lvl  ...         0     NaN    NaN          NaN   \n",
              "1   NaN       IR1          Lvl  ...         0     NaN    NaN          NaN   \n",
              "2   NaN       Reg          Lvl  ...         0     NaN  MnPrv          NaN   \n",
              "3   NaN       IR1          Lvl  ...         0     NaN    NaN         Gar2   \n",
              "4   NaN       Reg          Lvl  ...         0     NaN    NaN          NaN   \n",
              "5   NaN       IR1          Lvl  ...         0     NaN  MnPrv          NaN   \n",
              "6   NaN       IR1          Lvl  ...         0     NaN    NaN          NaN   \n",
              "7   NaN       Reg          Lvl  ...         0     NaN    NaN          NaN   \n",
              "8   NaN       IR1          HLS  ...         0     NaN    NaN          NaN   \n",
              "9   NaN       IR1          Lvl  ...         0     NaN    NaN          NaN   \n",
              "\n",
              "  Misc Val Mo Sold Yr Sold Sale Type  Sale Condition  SalePrice  \n",
              "0        0       5    2010       WD           Normal     215000  \n",
              "1        0       5    2010       WD           Normal     215000  \n",
              "2        0       6    2010       WD           Normal     105000  \n",
              "3    12500       6    2010       WD           Normal     172000  \n",
              "4        0       4    2010       WD           Normal     244000  \n",
              "5        0       3    2010       WD           Normal     189900  \n",
              "6        0       6    2010       WD           Normal     195500  \n",
              "7        0       4    2010       WD           Normal     213500  \n",
              "8        0       1    2010       WD           Normal     191500  \n",
              "9        0       3    2010       WD           Normal     236500  \n",
              "\n",
              "[10 rows x 82 columns]"
            ],
            "text/html": [
              "\n",
              "  <div id=\"df-31f55ffe-ffe4-4208-9d20-ca397bf775be\">\n",
              "    <div class=\"colab-df-container\">\n",
              "      <div>\n",
              "<style scoped>\n",
              "    .dataframe tbody tr th:only-of-type {\n",
              "        vertical-align: middle;\n",
              "    }\n",
              "\n",
              "    .dataframe tbody tr th {\n",
              "        vertical-align: top;\n",
              "    }\n",
              "\n",
              "    .dataframe thead th {\n",
              "        text-align: right;\n",
              "    }\n",
              "</style>\n",
              "<table border=\"1\" class=\"dataframe\">\n",
              "  <thead>\n",
              "    <tr style=\"text-align: right;\">\n",
              "      <th></th>\n",
              "      <th>Order</th>\n",
              "      <th>PID</th>\n",
              "      <th>MS SubClass</th>\n",
              "      <th>MS Zoning</th>\n",
              "      <th>Lot Frontage</th>\n",
              "      <th>Lot Area</th>\n",
              "      <th>Street</th>\n",
              "      <th>Alley</th>\n",
              "      <th>Lot Shape</th>\n",
              "      <th>Land Contour</th>\n",
              "      <th>...</th>\n",
              "      <th>Pool Area</th>\n",
              "      <th>Pool QC</th>\n",
              "      <th>Fence</th>\n",
              "      <th>Misc Feature</th>\n",
              "      <th>Misc Val</th>\n",
              "      <th>Mo Sold</th>\n",
              "      <th>Yr Sold</th>\n",
              "      <th>Sale Type</th>\n",
              "      <th>Sale Condition</th>\n",
              "      <th>SalePrice</th>\n",
              "    </tr>\n",
              "  </thead>\n",
              "  <tbody>\n",
              "    <tr>\n",
              "      <th>0</th>\n",
              "      <td>1</td>\n",
              "      <td>526301100</td>\n",
              "      <td>20</td>\n",
              "      <td>RL</td>\n",
              "      <td>141.0</td>\n",
              "      <td>31770</td>\n",
              "      <td>Pave</td>\n",
              "      <td>NaN</td>\n",
              "      <td>IR1</td>\n",
              "      <td>Lvl</td>\n",
              "      <td>...</td>\n",
              "      <td>0</td>\n",
              "      <td>NaN</td>\n",
              "      <td>NaN</td>\n",
              "      <td>NaN</td>\n",
              "      <td>0</td>\n",
              "      <td>5</td>\n",
              "      <td>2010</td>\n",
              "      <td>WD</td>\n",
              "      <td>Normal</td>\n",
              "      <td>215000</td>\n",
              "    </tr>\n",
              "    <tr>\n",
              "      <th>1</th>\n",
              "      <td>1</td>\n",
              "      <td>526301100</td>\n",
              "      <td>20</td>\n",
              "      <td>RL</td>\n",
              "      <td>141.0</td>\n",
              "      <td>31770</td>\n",
              "      <td>Pave</td>\n",
              "      <td>NaN</td>\n",
              "      <td>IR1</td>\n",
              "      <td>Lvl</td>\n",
              "      <td>...</td>\n",
              "      <td>0</td>\n",
              "      <td>NaN</td>\n",
              "      <td>NaN</td>\n",
              "      <td>NaN</td>\n",
              "      <td>0</td>\n",
              "      <td>5</td>\n",
              "      <td>2010</td>\n",
              "      <td>WD</td>\n",
              "      <td>Normal</td>\n",
              "      <td>215000</td>\n",
              "    </tr>\n",
              "    <tr>\n",
              "      <th>2</th>\n",
              "      <td>2</td>\n",
              "      <td>526350040</td>\n",
              "      <td>20</td>\n",
              "      <td>RH</td>\n",
              "      <td>80.0</td>\n",
              "      <td>11622</td>\n",
              "      <td>Pave</td>\n",
              "      <td>NaN</td>\n",
              "      <td>Reg</td>\n",
              "      <td>Lvl</td>\n",
              "      <td>...</td>\n",
              "      <td>0</td>\n",
              "      <td>NaN</td>\n",
              "      <td>MnPrv</td>\n",
              "      <td>NaN</td>\n",
              "      <td>0</td>\n",
              "      <td>6</td>\n",
              "      <td>2010</td>\n",
              "      <td>WD</td>\n",
              "      <td>Normal</td>\n",
              "      <td>105000</td>\n",
              "    </tr>\n",
              "    <tr>\n",
              "      <th>3</th>\n",
              "      <td>3</td>\n",
              "      <td>526351010</td>\n",
              "      <td>20</td>\n",
              "      <td>RL</td>\n",
              "      <td>81.0</td>\n",
              "      <td>14267</td>\n",
              "      <td>Pave</td>\n",
              "      <td>NaN</td>\n",
              "      <td>IR1</td>\n",
              "      <td>Lvl</td>\n",
              "      <td>...</td>\n",
              "      <td>0</td>\n",
              "      <td>NaN</td>\n",
              "      <td>NaN</td>\n",
              "      <td>Gar2</td>\n",
              "      <td>12500</td>\n",
              "      <td>6</td>\n",
              "      <td>2010</td>\n",
              "      <td>WD</td>\n",
              "      <td>Normal</td>\n",
              "      <td>172000</td>\n",
              "    </tr>\n",
              "    <tr>\n",
              "      <th>4</th>\n",
              "      <td>4</td>\n",
              "      <td>526353030</td>\n",
              "      <td>20</td>\n",
              "      <td>RL</td>\n",
              "      <td>93.0</td>\n",
              "      <td>11160</td>\n",
              "      <td>Pave</td>\n",
              "      <td>NaN</td>\n",
              "      <td>Reg</td>\n",
              "      <td>Lvl</td>\n",
              "      <td>...</td>\n",
              "      <td>0</td>\n",
              "      <td>NaN</td>\n",
              "      <td>NaN</td>\n",
              "      <td>NaN</td>\n",
              "      <td>0</td>\n",
              "      <td>4</td>\n",
              "      <td>2010</td>\n",
              "      <td>WD</td>\n",
              "      <td>Normal</td>\n",
              "      <td>244000</td>\n",
              "    </tr>\n",
              "    <tr>\n",
              "      <th>5</th>\n",
              "      <td>5</td>\n",
              "      <td>527105010</td>\n",
              "      <td>60</td>\n",
              "      <td>RL</td>\n",
              "      <td>74.0</td>\n",
              "      <td>13830</td>\n",
              "      <td>Pave</td>\n",
              "      <td>NaN</td>\n",
              "      <td>IR1</td>\n",
              "      <td>Lvl</td>\n",
              "      <td>...</td>\n",
              "      <td>0</td>\n",
              "      <td>NaN</td>\n",
              "      <td>MnPrv</td>\n",
              "      <td>NaN</td>\n",
              "      <td>0</td>\n",
              "      <td>3</td>\n",
              "      <td>2010</td>\n",
              "      <td>WD</td>\n",
              "      <td>Normal</td>\n",
              "      <td>189900</td>\n",
              "    </tr>\n",
              "    <tr>\n",
              "      <th>6</th>\n",
              "      <td>6</td>\n",
              "      <td>527105030</td>\n",
              "      <td>60</td>\n",
              "      <td>RL</td>\n",
              "      <td>78.0</td>\n",
              "      <td>9978</td>\n",
              "      <td>Pave</td>\n",
              "      <td>NaN</td>\n",
              "      <td>IR1</td>\n",
              "      <td>Lvl</td>\n",
              "      <td>...</td>\n",
              "      <td>0</td>\n",
              "      <td>NaN</td>\n",
              "      <td>NaN</td>\n",
              "      <td>NaN</td>\n",
              "      <td>0</td>\n",
              "      <td>6</td>\n",
              "      <td>2010</td>\n",
              "      <td>WD</td>\n",
              "      <td>Normal</td>\n",
              "      <td>195500</td>\n",
              "    </tr>\n",
              "    <tr>\n",
              "      <th>7</th>\n",
              "      <td>7</td>\n",
              "      <td>527127150</td>\n",
              "      <td>120</td>\n",
              "      <td>RL</td>\n",
              "      <td>41.0</td>\n",
              "      <td>4920</td>\n",
              "      <td>Pave</td>\n",
              "      <td>NaN</td>\n",
              "      <td>Reg</td>\n",
              "      <td>Lvl</td>\n",
              "      <td>...</td>\n",
              "      <td>0</td>\n",
              "      <td>NaN</td>\n",
              "      <td>NaN</td>\n",
              "      <td>NaN</td>\n",
              "      <td>0</td>\n",
              "      <td>4</td>\n",
              "      <td>2010</td>\n",
              "      <td>WD</td>\n",
              "      <td>Normal</td>\n",
              "      <td>213500</td>\n",
              "    </tr>\n",
              "    <tr>\n",
              "      <th>8</th>\n",
              "      <td>8</td>\n",
              "      <td>527145080</td>\n",
              "      <td>120</td>\n",
              "      <td>RL</td>\n",
              "      <td>43.0</td>\n",
              "      <td>5005</td>\n",
              "      <td>Pave</td>\n",
              "      <td>NaN</td>\n",
              "      <td>IR1</td>\n",
              "      <td>HLS</td>\n",
              "      <td>...</td>\n",
              "      <td>0</td>\n",
              "      <td>NaN</td>\n",
              "      <td>NaN</td>\n",
              "      <td>NaN</td>\n",
              "      <td>0</td>\n",
              "      <td>1</td>\n",
              "      <td>2010</td>\n",
              "      <td>WD</td>\n",
              "      <td>Normal</td>\n",
              "      <td>191500</td>\n",
              "    </tr>\n",
              "    <tr>\n",
              "      <th>9</th>\n",
              "      <td>9</td>\n",
              "      <td>527146030</td>\n",
              "      <td>120</td>\n",
              "      <td>RL</td>\n",
              "      <td>39.0</td>\n",
              "      <td>5389</td>\n",
              "      <td>Pave</td>\n",
              "      <td>NaN</td>\n",
              "      <td>IR1</td>\n",
              "      <td>Lvl</td>\n",
              "      <td>...</td>\n",
              "      <td>0</td>\n",
              "      <td>NaN</td>\n",
              "      <td>NaN</td>\n",
              "      <td>NaN</td>\n",
              "      <td>0</td>\n",
              "      <td>3</td>\n",
              "      <td>2010</td>\n",
              "      <td>WD</td>\n",
              "      <td>Normal</td>\n",
              "      <td>236500</td>\n",
              "    </tr>\n",
              "  </tbody>\n",
              "</table>\n",
              "<p>10 rows × 82 columns</p>\n",
              "</div>\n",
              "      <button class=\"colab-df-convert\" onclick=\"convertToInteractive('df-31f55ffe-ffe4-4208-9d20-ca397bf775be')\"\n",
              "              title=\"Convert this dataframe to an interactive table.\"\n",
              "              style=\"display:none;\">\n",
              "        \n",
              "  <svg xmlns=\"http://www.w3.org/2000/svg\" height=\"24px\"viewBox=\"0 0 24 24\"\n",
              "       width=\"24px\">\n",
              "    <path d=\"M0 0h24v24H0V0z\" fill=\"none\"/>\n",
              "    <path d=\"M18.56 5.44l.94 2.06.94-2.06 2.06-.94-2.06-.94-.94-2.06-.94 2.06-2.06.94zm-11 1L8.5 8.5l.94-2.06 2.06-.94-2.06-.94L8.5 2.5l-.94 2.06-2.06.94zm10 10l.94 2.06.94-2.06 2.06-.94-2.06-.94-.94-2.06-.94 2.06-2.06.94z\"/><path d=\"M17.41 7.96l-1.37-1.37c-.4-.4-.92-.59-1.43-.59-.52 0-1.04.2-1.43.59L10.3 9.45l-7.72 7.72c-.78.78-.78 2.05 0 2.83L4 21.41c.39.39.9.59 1.41.59.51 0 1.02-.2 1.41-.59l7.78-7.78 2.81-2.81c.8-.78.8-2.07 0-2.86zM5.41 20L4 18.59l7.72-7.72 1.47 1.35L5.41 20z\"/>\n",
              "  </svg>\n",
              "      </button>\n",
              "      \n",
              "  <style>\n",
              "    .colab-df-container {\n",
              "      display:flex;\n",
              "      flex-wrap:wrap;\n",
              "      gap: 12px;\n",
              "    }\n",
              "\n",
              "    .colab-df-convert {\n",
              "      background-color: #E8F0FE;\n",
              "      border: none;\n",
              "      border-radius: 50%;\n",
              "      cursor: pointer;\n",
              "      display: none;\n",
              "      fill: #1967D2;\n",
              "      height: 32px;\n",
              "      padding: 0 0 0 0;\n",
              "      width: 32px;\n",
              "    }\n",
              "\n",
              "    .colab-df-convert:hover {\n",
              "      background-color: #E2EBFA;\n",
              "      box-shadow: 0px 1px 2px rgba(60, 64, 67, 0.3), 0px 1px 3px 1px rgba(60, 64, 67, 0.15);\n",
              "      fill: #174EA6;\n",
              "    }\n",
              "\n",
              "    [theme=dark] .colab-df-convert {\n",
              "      background-color: #3B4455;\n",
              "      fill: #D2E3FC;\n",
              "    }\n",
              "\n",
              "    [theme=dark] .colab-df-convert:hover {\n",
              "      background-color: #434B5C;\n",
              "      box-shadow: 0px 1px 3px 1px rgba(0, 0, 0, 0.15);\n",
              "      filter: drop-shadow(0px 1px 2px rgba(0, 0, 0, 0.3));\n",
              "      fill: #FFFFFF;\n",
              "    }\n",
              "  </style>\n",
              "\n",
              "      <script>\n",
              "        const buttonEl =\n",
              "          document.querySelector('#df-31f55ffe-ffe4-4208-9d20-ca397bf775be button.colab-df-convert');\n",
              "        buttonEl.style.display =\n",
              "          google.colab.kernel.accessAllowed ? 'block' : 'none';\n",
              "\n",
              "        async function convertToInteractive(key) {\n",
              "          const element = document.querySelector('#df-31f55ffe-ffe4-4208-9d20-ca397bf775be');\n",
              "          const dataTable =\n",
              "            await google.colab.kernel.invokeFunction('convertToInteractive',\n",
              "                                                     [key], {});\n",
              "          if (!dataTable) return;\n",
              "\n",
              "          const docLinkHtml = 'Like what you see? Visit the ' +\n",
              "            '<a target=\"_blank\" href=https://colab.research.google.com/notebooks/data_table.ipynb>data table notebook</a>'\n",
              "            + ' to learn more about interactive tables.';\n",
              "          element.innerHTML = '';\n",
              "          dataTable['output_type'] = 'display_data';\n",
              "          await google.colab.output.renderOutput(dataTable, element);\n",
              "          const docLink = document.createElement('div');\n",
              "          docLink.innerHTML = docLinkHtml;\n",
              "          element.appendChild(docLink);\n",
              "        }\n",
              "      </script>\n",
              "    </div>\n",
              "  </div>\n",
              "  "
            ]
          },
          "metadata": {},
          "execution_count": 6
        }
      ],
      "source": [
        "housing = pd.read_csv(\"https://cf-courses-data.s3.us.cloud-object-storage.appdomain.cloud/IBM-ML0232EN-SkillsNetwork/asset/Ames_Housing_Data1.tsv\", sep='\\t')\n",
        "housing.head(10)"
      ]
    },
    {
      "cell_type": "markdown",
      "metadata": {
        "id": "e4xpl_LEKWHt"
      },
      "source": [
        "We can find more information about the features and types using the `info()`  method.\n"
      ]
    },
    {
      "cell_type": "code",
      "execution_count": null,
      "metadata": {
        "colab": {
          "base_uri": "https://localhost:8080/"
        },
        "id": "KJO-ycEfKWHt",
        "outputId": "7a56503a-d02f-440d-c63f-cba844292590"
      },
      "outputs": [
        {
          "output_type": "stream",
          "name": "stdout",
          "text": [
            "<class 'pandas.core.frame.DataFrame'>\n",
            "RangeIndex: 2931 entries, 0 to 2930\n",
            "Data columns (total 82 columns):\n",
            " #   Column           Non-Null Count  Dtype  \n",
            "---  ------           --------------  -----  \n",
            " 0   Order            2931 non-null   int64  \n",
            " 1   PID              2931 non-null   int64  \n",
            " 2   MS SubClass      2931 non-null   int64  \n",
            " 3   MS Zoning        2931 non-null   object \n",
            " 4   Lot Frontage     2441 non-null   float64\n",
            " 5   Lot Area         2931 non-null   int64  \n",
            " 6   Street           2931 non-null   object \n",
            " 7   Alley            198 non-null    object \n",
            " 8   Lot Shape        2931 non-null   object \n",
            " 9   Land Contour     2931 non-null   object \n",
            " 10  Utilities        2931 non-null   object \n",
            " 11  Lot Config       2931 non-null   object \n",
            " 12  Land Slope       2931 non-null   object \n",
            " 13  Neighborhood     2931 non-null   object \n",
            " 14  Condition 1      2931 non-null   object \n",
            " 15  Condition 2      2931 non-null   object \n",
            " 16  Bldg Type        2931 non-null   object \n",
            " 17  House Style      2931 non-null   object \n",
            " 18  Overall Qual     2931 non-null   int64  \n",
            " 19  Overall Cond     2931 non-null   int64  \n",
            " 20  Year Built       2931 non-null   int64  \n",
            " 21  Year Remod/Add   2931 non-null   int64  \n",
            " 22  Roof Style       2931 non-null   object \n",
            " 23  Roof Matl        2931 non-null   object \n",
            " 24  Exterior 1st     2931 non-null   object \n",
            " 25  Exterior 2nd     2931 non-null   object \n",
            " 26  Mas Vnr Type     2908 non-null   object \n",
            " 27  Mas Vnr Area     2908 non-null   float64\n",
            " 28  Exter Qual       2931 non-null   object \n",
            " 29  Exter Cond       2931 non-null   object \n",
            " 30  Foundation       2931 non-null   object \n",
            " 31  Bsmt Qual        2851 non-null   object \n",
            " 32  Bsmt Cond        2851 non-null   object \n",
            " 33  Bsmt Exposure    2848 non-null   object \n",
            " 34  BsmtFin Type 1   2851 non-null   object \n",
            " 35  BsmtFin SF 1     2930 non-null   float64\n",
            " 36  BsmtFin Type 2   2850 non-null   object \n",
            " 37  BsmtFin SF 2     2930 non-null   float64\n",
            " 38  Bsmt Unf SF      2930 non-null   float64\n",
            " 39  Total Bsmt SF    2930 non-null   float64\n",
            " 40  Heating          2931 non-null   object \n",
            " 41  Heating QC       2931 non-null   object \n",
            " 42  Central Air      2931 non-null   object \n",
            " 43  Electrical       2930 non-null   object \n",
            " 44  1st Flr SF       2931 non-null   int64  \n",
            " 45  2nd Flr SF       2931 non-null   int64  \n",
            " 46  Low Qual Fin SF  2931 non-null   int64  \n",
            " 47  Gr Liv Area      2931 non-null   int64  \n",
            " 48  Bsmt Full Bath   2929 non-null   float64\n",
            " 49  Bsmt Half Bath   2929 non-null   float64\n",
            " 50  Full Bath        2931 non-null   int64  \n",
            " 51  Half Bath        2931 non-null   int64  \n",
            " 52  Bedroom AbvGr    2931 non-null   int64  \n",
            " 53  Kitchen AbvGr    2931 non-null   int64  \n",
            " 54  Kitchen Qual     2931 non-null   object \n",
            " 55  TotRms AbvGrd    2931 non-null   int64  \n",
            " 56  Functional       2931 non-null   object \n",
            " 57  Fireplaces       2931 non-null   int64  \n",
            " 58  Fireplace Qu     1509 non-null   object \n",
            " 59  Garage Type      2774 non-null   object \n",
            " 60  Garage Yr Blt    2772 non-null   float64\n",
            " 61  Garage Finish    2772 non-null   object \n",
            " 62  Garage Cars      2930 non-null   float64\n",
            " 63  Garage Area      2930 non-null   float64\n",
            " 64  Garage Qual      2772 non-null   object \n",
            " 65  Garage Cond      2772 non-null   object \n",
            " 66  Paved Drive      2931 non-null   object \n",
            " 67  Wood Deck SF     2931 non-null   int64  \n",
            " 68  Open Porch SF    2931 non-null   int64  \n",
            " 69  Enclosed Porch   2931 non-null   int64  \n",
            " 70  3Ssn Porch       2931 non-null   int64  \n",
            " 71  Screen Porch     2931 non-null   int64  \n",
            " 72  Pool Area        2931 non-null   int64  \n",
            " 73  Pool QC          13 non-null     object \n",
            " 74  Fence            572 non-null    object \n",
            " 75  Misc Feature     106 non-null    object \n",
            " 76  Misc Val         2931 non-null   int64  \n",
            " 77  Mo Sold          2931 non-null   int64  \n",
            " 78  Yr Sold          2931 non-null   int64  \n",
            " 79  Sale Type        2931 non-null   object \n",
            " 80  Sale Condition   2931 non-null   object \n",
            " 81  SalePrice        2931 non-null   int64  \n",
            "dtypes: float64(11), int64(28), object(43)\n",
            "memory usage: 1.8+ MB\n"
          ]
        }
      ],
      "source": [
        "housing.info()"
      ]
    },
    {
      "cell_type": "markdown",
      "metadata": {
        "id": "XuWz4RbTKWHu"
      },
      "source": [
        "According to the output above, we have 2930 entries, 0 to 2929, as well as 81 features. The \"Non-Null Count\" column shows the number of non-null entries.  If the count is 2930 then there is no missing values for that particular feature. 'SalePrice' is our target or response variable and the rest of the features are our predictor variables.\n",
        "\n",
        "We also have a mix of numerical (28 int64 and 11 float64) and object data types.\n"
      ]
    },
    {
      "cell_type": "markdown",
      "metadata": {
        "id": "sog1LDrQKWHv"
      },
      "source": [
        "Next, let's use the `describe()` function to show the count, mean, min, max of the sale price attribute.\n"
      ]
    },
    {
      "cell_type": "code",
      "execution_count": null,
      "metadata": {
        "colab": {
          "base_uri": "https://localhost:8080/"
        },
        "id": "dmxTxns0KWHv",
        "outputId": "bddcfd3e-17ee-4f30-a15c-4bd301cbff10"
      },
      "outputs": [
        {
          "output_type": "execute_result",
          "data": {
            "text/plain": [
              "count      2931.000000\n",
              "mean     180807.729785\n",
              "std       79875.557267\n",
              "min       12789.000000\n",
              "25%      129500.000000\n",
              "50%      160000.000000\n",
              "75%      213500.000000\n",
              "max      755000.000000\n",
              "Name: SalePrice, dtype: float64"
            ]
          },
          "metadata": {},
          "execution_count": 8
        }
      ],
      "source": [
        "housing[\"SalePrice\"].describe()"
      ]
    },
    {
      "cell_type": "markdown",
      "metadata": {
        "id": "Imz8tT7_KWHw"
      },
      "source": [
        "From the above analysis, it is important to note that the minimum value is greater than 0. Also, there is a big difference between the minimum value and the 25th percentile. It is bigger than the 75th percentile and the maximum value. This means that our data might not be normally distributed (an important assumption for linear regression analysis), so will check for normality in the Log Transform section.\n"
      ]
    },
    {
      "cell_type": "markdown",
      "metadata": {
        "id": "SVVMcJ-GKWHx"
      },
      "source": [
        "## Exercise 1\n"
      ]
    },
    {
      "cell_type": "markdown",
      "metadata": {
        "id": "pkEOEyl7KWHy"
      },
      "source": [
        "The `describe()` function reveals the statistical information about the numeric attributes. To reveal some information about our categorical (object) attributes, we can use `value_counts()` function. In this exercise, describe all categories of the 'Sale Condition' attribute.\n"
      ]
    },
    {
      "cell_type": "code",
      "execution_count": null,
      "metadata": {
        "colab": {
          "base_uri": "https://localhost:8080/"
        },
        "id": "KgcSQI0SKWHz",
        "outputId": "cdd0886e-9853-4864-ed43-89e41a2e3b8d"
      },
      "outputs": [
        {
          "output_type": "execute_result",
          "data": {
            "text/plain": [
              "Normal     2414\n",
              "Partial     245\n",
              "Abnorml     190\n",
              "Family       46\n",
              "Alloca       24\n",
              "AdjLand      12\n",
              "Name: Sale Condition, dtype: int64"
            ]
          },
          "metadata": {},
          "execution_count": 11
        }
      ],
      "source": [
        "# Enter your code and run the cell\n",
        "housing[\"Sale Condition\"].value_counts()"
      ]
    },
    {
      "cell_type": "markdown",
      "metadata": {
        "id": "YPg3ccz_KWH0"
      },
      "source": [
        "<details>\n",
        "<summary><strong>Solution</strong> (Click Here)</summary>\n",
        "    &emsp; &emsp; <code>\n",
        " housing[\"Sale Condition\"].value_counts()\n",
        "</code>\n",
        "</details>\n"
      ]
    },
    {
      "cell_type": "markdown",
      "metadata": {
        "id": "OhskSvsVKWH0"
      },
      "source": [
        "## **Looking for Correlations**\n"
      ]
    },
    {
      "cell_type": "markdown",
      "metadata": {
        "id": "1DEzhSUvKWH1"
      },
      "source": [
        "Before proceeding with the data cleaning, it is useful to establish a correlation between the response variable (in our case the sale price) and other predictor variables, as some of them might not have any major impact in determining the price of the house and will not be used in the analysis.  There are many ways to discover correlation between the target variable and the rest of the features. Building pair plots, scatter plots, heat maps, and a correlation matrixes are the most common ones. Below, we will use the `corr()` function to list the top features based on the [pearson correlation coefficient](https://en.wikipedia.org/wiki/Pearson_correlation_coefficient?utm_medium=Exinfluencer&utm_source=Exinfluencer&utm_content=000026UJ&utm_term=10006555&utm_id=NA-SkillsNetwork-Channel-SkillsNetworkCoursesIBMML0232ENSkillsNetwork30654641-2022-01-01) (measures how closely two sequences of numbers are correlated). Correlation coefficient can only be calculated on the numerical attributes (floats and integers), therefore, only the numeric attributes will be selected.\n"
      ]
    },
    {
      "cell_type": "code",
      "execution_count": null,
      "metadata": {
        "colab": {
          "base_uri": "https://localhost:8080/"
        },
        "id": "n9KclbviKWH2",
        "outputId": "d69d8dac-6cc5-41e1-ad44-1cfa5956bd73"
      },
      "outputs": [
        {
          "output_type": "stream",
          "name": "stdout",
          "text": [
            "There is 11 strongly correlated values with SalePrice:\n",
            "Overall Qual      0.799226\n",
            "Gr Liv Area       0.706791\n",
            "Garage Cars       0.647891\n",
            "Garage Area       0.640411\n",
            "Total Bsmt SF     0.632270\n",
            "1st Flr SF        0.621672\n",
            "Year Built        0.558340\n",
            "Full Bath         0.545339\n",
            "Year Remod/Add    0.532664\n",
            "Garage Yr Blt     0.526808\n",
            "Mas Vnr Area      0.508277\n",
            "Name: SalePrice, dtype: float64\n"
          ]
        }
      ],
      "source": [
        "hous_num = housing.select_dtypes(include = ['float64', 'int64'])\n",
        "hous_num_corr = hous_num.corr()['SalePrice'][:-1] # -1 means that the latest row is SalePrice\n",
        "top_features = hous_num_corr[abs(hous_num_corr) > 0.5].sort_values(ascending=False) #displays pearsons correlation coefficient greater than 0.5\n",
        "print(\"There is {} strongly correlated values with SalePrice:\\n{}\".format(len(top_features), top_features))"
      ]
    },
    {
      "cell_type": "markdown",
      "metadata": {
        "id": "zydljw7dKWH3"
      },
      "source": [
        "Above, there are 11 features, with coefficients greater than 0.5, that are strongly correlated with the sale price.\n"
      ]
    },
    {
      "cell_type": "markdown",
      "metadata": {
        "id": "CH6FiPjKKWH5"
      },
      "source": [
        "Next, let's generate some par plots to visually inspect the correlation between some of these features and the target variable. We will use seaborns `sns.pairplot()` function for this analysis. Also, building pair plots is one of the possible ways to spot the outliers that might be present in the data.\n"
      ]
    },
    {
      "cell_type": "code",
      "execution_count": null,
      "metadata": {
        "colab": {
          "base_uri": "https://localhost:8080/",
          "height": 1000
        },
        "id": "qhVgfni6KWH7",
        "outputId": "e6e8d500-1853-49bc-9bd6-e848fde202b5"
      },
      "outputs": [
        {
          "output_type": "display_data",
          "data": {
            "text/plain": [
              "<Figure size 900x180 with 5 Axes>"
            ],
            "image/png": "[encoded data removed]"
          },
          "metadata": {
            "needs_background": "light"
          }
        },
        {
          "output_type": "display_data",
          "data": {
            "text/plain": [
              "<Figure size 900x180 with 5 Axes>"
            ],
            "image/png": "[encoded data removed]"
          },
          "metadata": {
            "needs_background": "light"
          }
        },
        {
          "output_type": "display_data",
          "data": {
            "text/plain": [
              "<Figure size 900x180 with 5 Axes>"
            ],
            "image/png": "[encoded data removed]"
          },
          "metadata": {
            "needs_background": "light"
          }
        },
        {
          "output_type": "display_data",
          "data": {
            "text/plain": [
              "<Figure size 900x180 with 5 Axes>"
            ],
            "image/png": "[encoded data removed]"
          },
          "metadata": {
            "needs_background": "light"
          }
        },
        {
          "output_type": "display_data",
          "data": {
            "text/plain": [
              "<Figure size 900x180 with 5 Axes>"
            ],
            "image/png": "[encoded data removed]"
          },
          "metadata": {
            "needs_background": "light"
          }
        },
        {
          "output_type": "display_data",
          "data": {
            "text/plain": [
              "<Figure size 900x180 with 5 Axes>"
            ],
            "image/png": "[encoded data removed]"
          },
          "metadata": {
            "needs_background": "light"
          }
        },
        {
          "output_type": "display_data",
          "data": {
            "text/plain": [
              "<Figure size 900x180 with 5 Axes>"
            ],
            "image/png": "[encoded data removed]"
          },
          "metadata": {
            "needs_background": "light"
          }
        },
        {
          "output_type": "display_data",
          "data": {
            "text/plain": [
              "<Figure size 720x180 with 5 Axes>"
            ],
            "image/png": "[encoded data removed]"
          },
          "metadata": {
            "needs_background": "light"
          }
        }
      ],
      "source": [
        "for i in range(0, len(hous_num.columns), 5):\n",
        "    sns.pairplot(data=hous_num,\n",
        "                x_vars=hous_num.columns[i:i+5],\n",
        "                y_vars=['SalePrice'])"
      ]
    },
    {
      "cell_type": "markdown",
      "metadata": {
        "id": "BAw9XYYqKWH_"
      },
      "source": [
        "From Pearsons Correlation Coefficients and pair plots, we can draw some conclusions about the features that are most strongly correlated to the 'SalePrice'. They are: 'Overall Qual', 'Gr Liv Area', 'Garage Cars', 'Garage Area', and others.\n"
      ]
    },
    {
      "cell_type": "markdown",
      "metadata": {
        "id": "eSzdIJTBKWIA"
      },
      "source": [
        "## **Log Transformation**\n"
      ]
    },
    {
      "cell_type": "markdown",
      "metadata": {
        "id": "GA8sWEn6KWIA"
      },
      "source": [
        "In this section, we are going to inspect whether our 'SalePrice' data are normally distributed. The assumption of the normal distribution must be met in order to perform any type of regression analysis. There are several ways to check for this assumption, however here, we will use the visual method, by plotting the 'SalePrice' distribution using the `distplot()` function from the `seaborn` library.\n"
      ]
    },
    {
      "cell_type": "code",
      "execution_count": null,
      "metadata": {
        "colab": {
          "base_uri": "https://localhost:8080/",
          "height": 290
        },
        "id": "4PmRk9ncKWIG",
        "outputId": "8872b118-2560-495c-c4f1-13c853d6b389"
      },
      "outputs": [
        {
          "output_type": "display_data",
          "data": {
            "text/plain": [
              "<Figure size 432x288 with 1 Axes>"
            ],
            "image/png": "[encoded data removed]"
          },
          "metadata": {
            "needs_background": "light"
          }
        }
      ],
      "source": [
        "sp_untransformed = sns.distplot(housing['SalePrice'])"
      ]
    },
    {
      "cell_type": "markdown",
      "metadata": {
        "id": "9iKAUCqZKWIH"
      },
      "source": [
        "As the plot shows, our 'SalePrice' deviates from the normal distribution. It has a longer tail to the right, so we call it a positive skew. In statistics *skewness* is a measure of asymmetry of the distribution. In addition to skewness, there is also a kurtosis, parameter which refers to the pointedness of a peak in the distribution curve. Both skewness and kurtosis are frequently used together to characterize the distribution of data.\n"
      ]
    },
    {
      "cell_type": "markdown",
      "metadata": {
        "id": "F54KiJbLKWIH"
      },
      "source": [
        "Here, we can simply use the `skew()` function to calculate our skewness level of the `SalePrice`.\n"
      ]
    },
    {
      "cell_type": "code",
      "execution_count": null,
      "metadata": {
        "colab": {
          "base_uri": "https://localhost:8080/"
        },
        "id": "XfT25VRZKWII",
        "outputId": "1856482c-084a-4128-b456-a25d86bc86b3"
      },
      "outputs": [
        {
          "output_type": "stream",
          "name": "stdout",
          "text": [
            "Skewness: 1.743222\n"
          ]
        }
      ],
      "source": [
        "print(\"Skewness: %f\" % housing['SalePrice'].skew())"
      ]
    },
    {
      "cell_type": "markdown",
      "metadata": {
        "id": "MZPPvFi9KWIJ"
      },
      "source": [
        "The range of skewness for a fairly symmetrical bell curve distribution is between -0.5 and 0.5; moderate skewness is -0.5 to -1.0 and 0.5 to 1.0; and highly skewed distribution is < -1.0 and > 1.0. In our case, we have \\~1.7, so it is considered  highly skewed data.\n",
        "\n",
        "Now, we can try to transform our data, so it looks more normally distributed. We can use the `np.log()` function from the `numpy` library to perform log transform. This [documentation](https://numpy.org/doc/stable/reference/generated/numpy.log.html?utm_medium=Exinfluencer&utm_source=Exinfluencer&utm_content=000026UJ&utm_term=10006555&utm_id=NA-SkillsNetwork-Channel-SkillsNetworkCoursesIBMML0232ENSkillsNetwork30654641-2022-01-01) contains more information about the numpy log transform.\n"
      ]
    },
    {
      "cell_type": "code",
      "execution_count": null,
      "metadata": {
        "id": "YNC1eGENKWIK"
      },
      "outputs": [],
      "source": [
        "log_transformed = np.log(housing['SalePrice'])"
      ]
    },
    {
      "cell_type": "code",
      "execution_count": null,
      "metadata": {
        "colab": {
          "base_uri": "https://localhost:8080/",
          "height": 279
        },
        "id": "AHi3gPSVKWIL",
        "outputId": "49dc0ff5-b8f8-4624-bf73-f2a1a2cb09f7"
      },
      "outputs": [
        {
          "output_type": "display_data",
          "data": {
            "text/plain": [
              "<Figure size 432x288 with 1 Axes>"
            ],
            "image/png": "[encoded data removed]"
          },
          "metadata": {
            "needs_background": "light"
          }
        }
      ],
      "source": [
        "sp_transformed = sns.distplot(log_transformed)"
      ]
    },
    {
      "cell_type": "code",
      "execution_count": null,
      "metadata": {
        "colab": {
          "base_uri": "https://localhost:8080/"
        },
        "id": "JQ6DZw6qKWIM",
        "outputId": "9ae27e3c-8042-459f-eff8-b91e6c6f17de"
      },
      "outputs": [
        {
          "output_type": "stream",
          "name": "stdout",
          "text": [
            "Skewness: -0.015354\n"
          ]
        }
      ],
      "source": [
        "print(\"Skewness: %f\" % (log_transformed).skew())"
      ]
    },
    {
      "cell_type": "markdown",
      "metadata": {
        "id": "nAwUPCYxKWIM"
      },
      "source": [
        "As we can see, the log method transformed the 'SalePrice' distribution into a more symmetrical bell curve and the skewness level now is -0.01, well within the range.\n",
        "\n",
        "There are other ways to correct for skewness of the data. For example, Square Root Transform (`np.sqrt`) and the Box-Cox Transform (`stats.boxcox` from the `scipy stats` library). To learn more about these two methods, please check out this [article](https://towardsdatascience.com/top-3-methods-for-handling-skewed-data-1334e0debf45?utm_medium=Exinfluencer&utm_source=Exinfluencer&utm_content=000026UJ&utm_term=10006555&utm_id=NA-SkillsNetwork-Channel-SkillsNetworkCoursesIBMML0232ENSkillsNetwork30654641-2022-01-01).\n"
      ]
    },
    {
      "cell_type": "markdown",
      "metadata": {
        "id": "4YOOQ15oKWIN"
      },
      "source": [
        "## Exercise 2\n"
      ]
    },
    {
      "cell_type": "markdown",
      "metadata": {
        "id": "G31xHHbcKWIO"
      },
      "source": [
        "In this exercise, visually inspect the 'Lot Area' feature. If there is any skewness present, apply log transform to make it more normally distributed.\n"
      ]
    },
    {
      "cell_type": "code",
      "execution_count": null,
      "metadata": {
        "colab": {
          "base_uri": "https://localhost:8080/",
          "height": 369
        },
        "id": "KCIBc3g8KWIO",
        "outputId": "c07835a1-655e-45c2-810f-6e5011883304"
      },
      "outputs": [
        {
          "output_type": "display_data",
          "data": {
            "text/plain": [
              "<Figure size 360x360 with 1 Axes>"
            ],
            "image/png": "[encoded data removed]"
          },
          "metadata": {
            "needs_background": "light"
          }
        }
      ],
      "source": [
        "# Enter your code and run the cell\n",
        "la_plot = sns.displot(housing['Lot Area'])"
      ]
    },
    {
      "cell_type": "code",
      "source": [
        "print(\"Skewness: %f\" % housing['Lot Area'].skew())"
      ],
      "metadata": {
        "colab": {
          "base_uri": "https://localhost:8080/"
        },
        "id": "voSGHChpSIyO",
        "outputId": "3c43e7e4-76a9-44c3-b131-04587d9de94a"
      },
      "execution_count": null,
      "outputs": [
        {
          "output_type": "stream",
          "name": "stdout",
          "text": [
            "Skewness: 12.778041\n"
          ]
        }
      ]
    },
    {
      "cell_type": "code",
      "source": [
        "la_log = np.log(housing['Lot Area'])"
      ],
      "metadata": {
        "id": "TKimS5inSQdZ"
      },
      "execution_count": null,
      "outputs": []
    },
    {
      "cell_type": "code",
      "source": [
        "la_transform = sns.distplot(la_log)"
      ],
      "metadata": {
        "colab": {
          "base_uri": "https://localhost:8080/",
          "height": 279
        },
        "id": "apDGE2qYS33T",
        "outputId": "bcf74f27-56e5-41e3-ff64-37562b3778c0"
      },
      "execution_count": null,
      "outputs": [
        {
          "output_type": "display_data",
          "data": {
            "text/plain": [
              "<Figure size 432x288 with 1 Axes>"
            ],
            "image/png": "[encoded data removed]"
          },
          "metadata": {
            "needs_background": "light"
          }
        }
      ]
    },
    {
      "cell_type": "code",
      "source": [
        "print(\"Skewness: %f\" % la_log.skew())"
      ],
      "metadata": {
        "colab": {
          "base_uri": "https://localhost:8080/"
        },
        "id": "DZXz7KyKSrxq",
        "outputId": "92750df8-2c8d-4b60-dcd6-4ea75c09ca9f"
      },
      "execution_count": null,
      "outputs": [
        {
          "output_type": "stream",
          "name": "stdout",
          "text": [
            "Skewness: -0.494639\n"
          ]
        }
      ]
    },
    {
      "cell_type": "markdown",
      "metadata": {
        "id": "d9467-dvKWIP"
      },
      "source": [
        "<details>\n",
        "<summary><strong>Solution</strong> (Click Here)</summary>\n",
        "    &emsp; &emsp; <code>\n",
        "la_plot = sns.distplot(housing['Lot Area'])\n",
        "print(\"Skewness: %f\" % housing['Lot Area'].skew())\n",
        "la_log = np.log(housing['Lot Area'])\n",
        "print(\"Skewness: %f\" % la_log.skew())\n",
        "\n",
        "</code>\n",
        "</details>\n"
      ]
    },
    {
      "cell_type": "markdown",
      "metadata": {
        "id": "CjkeAMWeKWIQ"
      },
      "source": [
        "## **Handling the Duplicates**\n"
      ]
    },
    {
      "cell_type": "markdown",
      "metadata": {
        "id": "MWBx7vptKWIR"
      },
      "source": [
        "As mentioned in the video, having duplicate values can effect our analysis, so it is good to check whether there are any duplicates in our data. We will use pandas `duplicated()` function and search by the 'PID' column, which contains a unique index number for each entry.\n"
      ]
    },
    {
      "cell_type": "code",
      "execution_count": null,
      "metadata": {
        "colab": {
          "base_uri": "https://localhost:8080/",
          "height": 191
        },
        "id": "NsAzE_4UKWIS",
        "outputId": "03453543-4af7-4a0b-deed-0665b785059e"
      },
      "outputs": [
        {
          "output_type": "execute_result",
          "data": {
            "text/plain": [
              "   Order        PID  MS SubClass MS Zoning  Lot Frontage  Lot Area Street  \\\n",
              "1      1  526301100           20        RL         141.0     31770   Pave   \n",
              "\n",
              "  Alley Lot Shape Land Contour  ... Pool Area Pool QC Fence Misc Feature  \\\n",
              "1   NaN       IR1          Lvl  ...         0     NaN   NaN          NaN   \n",
              "\n",
              "  Misc Val Mo Sold Yr Sold Sale Type  Sale Condition  SalePrice  \n",
              "1        0       5    2010       WD           Normal     215000  \n",
              "\n",
              "[1 rows x 82 columns]"
            ],
            "text/html": [
              "\n",
              "  <div id=\"df-a67910b6-9779-46f9-9ae7-0bf10f8ed26e\">\n",
              "    <div class=\"colab-df-container\">\n",
              "      <div>\n",
              "<style scoped>\n",
              "    .dataframe tbody tr th:only-of-type {\n",
              "        vertical-align: middle;\n",
              "    }\n",
              "\n",
              "    .dataframe tbody tr th {\n",
              "        vertical-align: top;\n",
              "    }\n",
              "\n",
              "    .dataframe thead th {\n",
              "        text-align: right;\n",
              "    }\n",
              "</style>\n",
              "<table border=\"1\" class=\"dataframe\">\n",
              "  <thead>\n",
              "    <tr style=\"text-align: right;\">\n",
              "      <th></th>\n",
              "      <th>Order</th>\n",
              "      <th>PID</th>\n",
              "      <th>MS SubClass</th>\n",
              "      <th>MS Zoning</th>\n",
              "      <th>Lot Frontage</th>\n",
              "      <th>Lot Area</th>\n",
              "      <th>Street</th>\n",
              "      <th>Alley</th>\n",
              "      <th>Lot Shape</th>\n",
              "      <th>Land Contour</th>\n",
              "      <th>...</th>\n",
              "      <th>Pool Area</th>\n",
              "      <th>Pool QC</th>\n",
              "      <th>Fence</th>\n",
              "      <th>Misc Feature</th>\n",
              "      <th>Misc Val</th>\n",
              "      <th>Mo Sold</th>\n",
              "      <th>Yr Sold</th>\n",
              "      <th>Sale Type</th>\n",
              "      <th>Sale Condition</th>\n",
              "      <th>SalePrice</th>\n",
              "    </tr>\n",
              "  </thead>\n",
              "  <tbody>\n",
              "    <tr>\n",
              "      <th>1</th>\n",
              "      <td>1</td>\n",
              "      <td>526301100</td>\n",
              "      <td>20</td>\n",
              "      <td>RL</td>\n",
              "      <td>141.0</td>\n",
              "      <td>31770</td>\n",
              "      <td>Pave</td>\n",
              "      <td>NaN</td>\n",
              "      <td>IR1</td>\n",
              "      <td>Lvl</td>\n",
              "      <td>...</td>\n",
              "      <td>0</td>\n",
              "      <td>NaN</td>\n",
              "      <td>NaN</td>\n",
              "      <td>NaN</td>\n",
              "      <td>0</td>\n",
              "      <td>5</td>\n",
              "      <td>2010</td>\n",
              "      <td>WD</td>\n",
              "      <td>Normal</td>\n",
              "      <td>215000</td>\n",
              "    </tr>\n",
              "  </tbody>\n",
              "</table>\n",
              "<p>1 rows × 82 columns</p>\n",
              "</div>\n",
              "      <button class=\"colab-df-convert\" onclick=\"convertToInteractive('df-a67910b6-9779-46f9-9ae7-0bf10f8ed26e')\"\n",
              "              title=\"Convert this dataframe to an interactive table.\"\n",
              "              style=\"display:none;\">\n",
              "        \n",
              "  <svg xmlns=\"http://www.w3.org/2000/svg\" height=\"24px\"viewBox=\"0 0 24 24\"\n",
              "       width=\"24px\">\n",
              "    <path d=\"M0 0h24v24H0V0z\" fill=\"none\"/>\n",
              "    <path d=\"M18.56 5.44l.94 2.06.94-2.06 2.06-.94-2.06-.94-.94-2.06-.94 2.06-2.06.94zm-11 1L8.5 8.5l.94-2.06 2.06-.94-2.06-.94L8.5 2.5l-.94 2.06-2.06.94zm10 10l.94 2.06.94-2.06 2.06-.94-2.06-.94-.94-2.06-.94 2.06-2.06.94z\"/><path d=\"M17.41 7.96l-1.37-1.37c-.4-.4-.92-.59-1.43-.59-.52 0-1.04.2-1.43.59L10.3 9.45l-7.72 7.72c-.78.78-.78 2.05 0 2.83L4 21.41c.39.39.9.59 1.41.59.51 0 1.02-.2 1.41-.59l7.78-7.78 2.81-2.81c.8-.78.8-2.07 0-2.86zM5.41 20L4 18.59l7.72-7.72 1.47 1.35L5.41 20z\"/>\n",
              "  </svg>\n",
              "      </button>\n",
              "      \n",
              "  <style>\n",
              "    .colab-df-container {\n",
              "      display:flex;\n",
              "      flex-wrap:wrap;\n",
              "      gap: 12px;\n",
              "    }\n",
              "\n",
              "    .colab-df-convert {\n",
              "      background-color: #E8F0FE;\n",
              "      border: none;\n",
              "      border-radius: 50%;\n",
              "      cursor: pointer;\n",
              "      display: none;\n",
              "      fill: #1967D2;\n",
              "      height: 32px;\n",
              "      padding: 0 0 0 0;\n",
              "      width: 32px;\n",
              "    }\n",
              "\n",
              "    .colab-df-convert:hover {\n",
              "      background-color: #E2EBFA;\n",
              "      box-shadow: 0px 1px 2px rgba(60, 64, 67, 0.3), 0px 1px 3px 1px rgba(60, 64, 67, 0.15);\n",
              "      fill: #174EA6;\n",
              "    }\n",
              "\n",
              "    [theme=dark] .colab-df-convert {\n",
              "      background-color: #3B4455;\n",
              "      fill: #D2E3FC;\n",
              "    }\n",
              "\n",
              "    [theme=dark] .colab-df-convert:hover {\n",
              "      background-color: #434B5C;\n",
              "      box-shadow: 0px 1px 3px 1px rgba(0, 0, 0, 0.15);\n",
              "      filter: drop-shadow(0px 1px 2px rgba(0, 0, 0, 0.3));\n",
              "      fill: #FFFFFF;\n",
              "    }\n",
              "  </style>\n",
              "\n",
              "      <script>\n",
              "        const buttonEl =\n",
              "          document.querySelector('#df-a67910b6-9779-46f9-9ae7-0bf10f8ed26e button.colab-df-convert');\n",
              "        buttonEl.style.display =\n",
              "          google.colab.kernel.accessAllowed ? 'block' : 'none';\n",
              "\n",
              "        async function convertToInteractive(key) {\n",
              "          const element = document.querySelector('#df-a67910b6-9779-46f9-9ae7-0bf10f8ed26e');\n",
              "          const dataTable =\n",
              "            await google.colab.kernel.invokeFunction('convertToInteractive',\n",
              "                                                     [key], {});\n",
              "          if (!dataTable) return;\n",
              "\n",
              "          const docLinkHtml = 'Like what you see? Visit the ' +\n",
              "            '<a target=\"_blank\" href=https://colab.research.google.com/notebooks/data_table.ipynb>data table notebook</a>'\n",
              "            + ' to learn more about interactive tables.';\n",
              "          element.innerHTML = '';\n",
              "          dataTable['output_type'] = 'display_data';\n",
              "          await google.colab.output.renderOutput(dataTable, element);\n",
              "          const docLink = document.createElement('div');\n",
              "          docLink.innerHTML = docLinkHtml;\n",
              "          element.appendChild(docLink);\n",
              "        }\n",
              "      </script>\n",
              "    </div>\n",
              "  </div>\n",
              "  "
            ]
          },
          "metadata": {},
          "execution_count": 30
        }
      ],
      "source": [
        "duplicate = housing[housing.duplicated(['PID'])]\n",
        "duplicate"
      ]
    },
    {
      "cell_type": "code",
      "source": [
        "housing.index.is_unique"
      ],
      "metadata": {
        "colab": {
          "base_uri": "https://localhost:8080/"
        },
        "id": "TI8D8eWvUdf0",
        "outputId": "7f5ea1a2-1b2f-45cd-c50f-544018792330"
      },
      "execution_count": null,
      "outputs": [
        {
          "output_type": "execute_result",
          "data": {
            "text/plain": [
              "True"
            ]
          },
          "metadata": {},
          "execution_count": 31
        }
      ]
    },
    {
      "cell_type": "markdown",
      "metadata": {
        "id": "Ijasoc1wKWIS"
      },
      "source": [
        "As we can see, there is one duplicate row in this dataset. To remove it, we can use pandas `drop_duplicates()` function. By default, it removes all duplicate rows based on all the columns.\n"
      ]
    },
    {
      "cell_type": "code",
      "execution_count": null,
      "metadata": {
        "colab": {
          "base_uri": "https://localhost:8080/",
          "height": 505
        },
        "id": "tpBAQ_osKWIT",
        "outputId": "4779bccf-75d5-4e62-b250-136ca52ac8c2"
      },
      "outputs": [
        {
          "output_type": "execute_result",
          "data": {
            "text/plain": [
              "      Order        PID  MS SubClass MS Zoning  Lot Frontage  Lot Area Street  \\\n",
              "0         1  526301100           20        RL         141.0     31770   Pave   \n",
              "2         2  526350040           20        RH          80.0     11622   Pave   \n",
              "3         3  526351010           20        RL          81.0     14267   Pave   \n",
              "4         4  526353030           20        RL          93.0     11160   Pave   \n",
              "5         5  527105010           60        RL          74.0     13830   Pave   \n",
              "...     ...        ...          ...       ...           ...       ...    ...   \n",
              "2926   2926  923275080           80        RL          37.0      7937   Pave   \n",
              "2927   2927  923276100           20        RL           NaN      8885   Pave   \n",
              "2928   2928  923400125           85        RL          62.0     10441   Pave   \n",
              "2929   2929  924100070           20        RL          77.0     10010   Pave   \n",
              "2930   2930  924151050           60        RL          74.0      9627   Pave   \n",
              "\n",
              "     Alley Lot Shape Land Contour  ... Pool Area Pool QC  Fence Misc Feature  \\\n",
              "0      NaN       IR1          Lvl  ...         0     NaN    NaN          NaN   \n",
              "2      NaN       Reg          Lvl  ...         0     NaN  MnPrv          NaN   \n",
              "3      NaN       IR1          Lvl  ...         0     NaN    NaN         Gar2   \n",
              "4      NaN       Reg          Lvl  ...         0     NaN    NaN          NaN   \n",
              "5      NaN       IR1          Lvl  ...         0     NaN  MnPrv          NaN   \n",
              "...    ...       ...          ...  ...       ...     ...    ...          ...   \n",
              "2926   NaN       IR1          Lvl  ...         0     NaN  GdPrv          NaN   \n",
              "2927   NaN       IR1          Low  ...         0     NaN  MnPrv          NaN   \n",
              "2928   NaN       Reg          Lvl  ...         0     NaN  MnPrv         Shed   \n",
              "2929   NaN       Reg          Lvl  ...         0     NaN    NaN          NaN   \n",
              "2930   NaN       Reg          Lvl  ...         0     NaN    NaN          NaN   \n",
              "\n",
              "     Misc Val Mo Sold Yr Sold Sale Type  Sale Condition  SalePrice  \n",
              "0           0       5    2010       WD           Normal     215000  \n",
              "2           0       6    2010       WD           Normal     105000  \n",
              "3       12500       6    2010       WD           Normal     172000  \n",
              "4           0       4    2010       WD           Normal     244000  \n",
              "5           0       3    2010       WD           Normal     189900  \n",
              "...       ...     ...     ...       ...             ...        ...  \n",
              "2926        0       3    2006       WD           Normal     142500  \n",
              "2927        0       6    2006       WD           Normal     131000  \n",
              "2928      700       7    2006       WD           Normal     132000  \n",
              "2929        0       4    2006       WD           Normal     170000  \n",
              "2930        0      11    2006       WD           Normal     188000  \n",
              "\n",
              "[2930 rows x 82 columns]"
            ],
            "text/html": [
              "\n",
              "  <div id=\"df-13780776-babe-4993-beb8-6699b1fb69bc\">\n",
              "    <div class=\"colab-df-container\">\n",
              "      <div>\n",
              "<style scoped>\n",
              "    .dataframe tbody tr th:only-of-type {\n",
              "        vertical-align: middle;\n",
              "    }\n",
              "\n",
              "    .dataframe tbody tr th {\n",
              "        vertical-align: top;\n",
              "    }\n",
              "\n",
              "    .dataframe thead th {\n",
              "        text-align: right;\n",
              "    }\n",
              "</style>\n",
              "<table border=\"1\" class=\"dataframe\">\n",
              "  <thead>\n",
              "    <tr style=\"text-align: right;\">\n",
              "      <th></th>\n",
              "      <th>Order</th>\n",
              "      <th>PID</th>\n",
              "      <th>MS SubClass</th>\n",
              "      <th>MS Zoning</th>\n",
              "      <th>Lot Frontage</th>\n",
              "      <th>Lot Area</th>\n",
              "      <th>Street</th>\n",
              "      <th>Alley</th>\n",
              "      <th>Lot Shape</th>\n",
              "      <th>Land Contour</th>\n",
              "      <th>...</th>\n",
              "      <th>Pool Area</th>\n",
              "      <th>Pool QC</th>\n",
              "      <th>Fence</th>\n",
              "      <th>Misc Feature</th>\n",
              "      <th>Misc Val</th>\n",
              "      <th>Mo Sold</th>\n",
              "      <th>Yr Sold</th>\n",
              "      <th>Sale Type</th>\n",
              "      <th>Sale Condition</th>\n",
              "      <th>SalePrice</th>\n",
              "    </tr>\n",
              "  </thead>\n",
              "  <tbody>\n",
              "    <tr>\n",
              "      <th>0</th>\n",
              "      <td>1</td>\n",
              "      <td>526301100</td>\n",
              "      <td>20</td>\n",
              "      <td>RL</td>\n",
              "      <td>141.0</td>\n",
              "      <td>31770</td>\n",
              "      <td>Pave</td>\n",
              "      <td>NaN</td>\n",
              "      <td>IR1</td>\n",
              "      <td>Lvl</td>\n",
              "      <td>...</td>\n",
              "      <td>0</td>\n",
              "      <td>NaN</td>\n",
              "      <td>NaN</td>\n",
              "      <td>NaN</td>\n",
              "      <td>0</td>\n",
              "      <td>5</td>\n",
              "      <td>2010</td>\n",
              "      <td>WD</td>\n",
              "      <td>Normal</td>\n",
              "      <td>215000</td>\n",
              "    </tr>\n",
              "    <tr>\n",
              "      <th>2</th>\n",
              "      <td>2</td>\n",
              "      <td>526350040</td>\n",
              "      <td>20</td>\n",
              "      <td>RH</td>\n",
              "      <td>80.0</td>\n",
              "      <td>11622</td>\n",
              "      <td>Pave</td>\n",
              "      <td>NaN</td>\n",
              "      <td>Reg</td>\n",
              "      <td>Lvl</td>\n",
              "      <td>...</td>\n",
              "      <td>0</td>\n",
              "      <td>NaN</td>\n",
              "      <td>MnPrv</td>\n",
              "      <td>NaN</td>\n",
              "      <td>0</td>\n",
              "      <td>6</td>\n",
              "      <td>2010</td>\n",
              "      <td>WD</td>\n",
              "      <td>Normal</td>\n",
              "      <td>105000</td>\n",
              "    </tr>\n",
              "    <tr>\n",
              "      <th>3</th>\n",
              "      <td>3</td>\n",
              "      <td>526351010</td>\n",
              "      <td>20</td>\n",
              "      <td>RL</td>\n",
              "      <td>81.0</td>\n",
              "      <td>14267</td>\n",
              "      <td>Pave</td>\n",
              "      <td>NaN</td>\n",
              "      <td>IR1</td>\n",
              "      <td>Lvl</td>\n",
              "      <td>...</td>\n",
              "      <td>0</td>\n",
              "      <td>NaN</td>\n",
              "      <td>NaN</td>\n",
              "      <td>Gar2</td>\n",
              "      <td>12500</td>\n",
              "      <td>6</td>\n",
              "      <td>2010</td>\n",
              "      <td>WD</td>\n",
              "      <td>Normal</td>\n",
              "      <td>172000</td>\n",
              "    </tr>\n",
              "    <tr>\n",
              "      <th>4</th>\n",
              "      <td>4</td>\n",
              "      <td>526353030</td>\n",
              "      <td>20</td>\n",
              "      <td>RL</td>\n",
              "      <td>93.0</td>\n",
              "      <td>11160</td>\n",
              "      <td>Pave</td>\n",
              "      <td>NaN</td>\n",
              "      <td>Reg</td>\n",
              "      <td>Lvl</td>\n",
              "      <td>...</td>\n",
              "      <td>0</td>\n",
              "      <td>NaN</td>\n",
              "      <td>NaN</td>\n",
              "      <td>NaN</td>\n",
              "      <td>0</td>\n",
              "      <td>4</td>\n",
              "      <td>2010</td>\n",
              "      <td>WD</td>\n",
              "      <td>Normal</td>\n",
              "      <td>244000</td>\n",
              "    </tr>\n",
              "    <tr>\n",
              "      <th>5</th>\n",
              "      <td>5</td>\n",
              "      <td>527105010</td>\n",
              "      <td>60</td>\n",
              "      <td>RL</td>\n",
              "      <td>74.0</td>\n",
              "      <td>13830</td>\n",
              "      <td>Pave</td>\n",
              "      <td>NaN</td>\n",
              "      <td>IR1</td>\n",
              "      <td>Lvl</td>\n",
              "      <td>...</td>\n",
              "      <td>0</td>\n",
              "      <td>NaN</td>\n",
              "      <td>MnPrv</td>\n",
              "      <td>NaN</td>\n",
              "      <td>0</td>\n",
              "      <td>3</td>\n",
              "      <td>2010</td>\n",
              "      <td>WD</td>\n",
              "      <td>Normal</td>\n",
              "      <td>189900</td>\n",
              "    </tr>\n",
              "    <tr>\n",
              "      <th>...</th>\n",
              "      <td>...</td>\n",
              "      <td>...</td>\n",
              "      <td>...</td>\n",
              "      <td>...</td>\n",
              "      <td>...</td>\n",
              "      <td>...</td>\n",
              "      <td>...</td>\n",
              "      <td>...</td>\n",
              "      <td>...</td>\n",
              "      <td>...</td>\n",
              "      <td>...</td>\n",
              "      <td>...</td>\n",
              "      <td>...</td>\n",
              "      <td>...</td>\n",
              "      <td>...</td>\n",
              "      <td>...</td>\n",
              "      <td>...</td>\n",
              "      <td>...</td>\n",
              "      <td>...</td>\n",
              "      <td>...</td>\n",
              "      <td>...</td>\n",
              "    </tr>\n",
              "    <tr>\n",
              "      <th>2926</th>\n",
              "      <td>2926</td>\n",
              "      <td>923275080</td>\n",
              "      <td>80</td>\n",
              "      <td>RL</td>\n",
              "      <td>37.0</td>\n",
              "      <td>7937</td>\n",
              "      <td>Pave</td>\n",
              "      <td>NaN</td>\n",
              "      <td>IR1</td>\n",
              "      <td>Lvl</td>\n",
              "      <td>...</td>\n",
              "      <td>0</td>\n",
              "      <td>NaN</td>\n",
              "      <td>GdPrv</td>\n",
              "      <td>NaN</td>\n",
              "      <td>0</td>\n",
              "      <td>3</td>\n",
              "      <td>2006</td>\n",
              "      <td>WD</td>\n",
              "      <td>Normal</td>\n",
              "      <td>142500</td>\n",
              "    </tr>\n",
              "    <tr>\n",
              "      <th>2927</th>\n",
              "      <td>2927</td>\n",
              "      <td>923276100</td>\n",
              "      <td>20</td>\n",
              "      <td>RL</td>\n",
              "      <td>NaN</td>\n",
              "      <td>8885</td>\n",
              "      <td>Pave</td>\n",
              "      <td>NaN</td>\n",
              "      <td>IR1</td>\n",
              "      <td>Low</td>\n",
              "      <td>...</td>\n",
              "      <td>0</td>\n",
              "      <td>NaN</td>\n",
              "      <td>MnPrv</td>\n",
              "      <td>NaN</td>\n",
              "      <td>0</td>\n",
              "      <td>6</td>\n",
              "      <td>2006</td>\n",
              "      <td>WD</td>\n",
              "      <td>Normal</td>\n",
              "      <td>131000</td>\n",
              "    </tr>\n",
              "    <tr>\n",
              "      <th>2928</th>\n",
              "      <td>2928</td>\n",
              "      <td>923400125</td>\n",
              "      <td>85</td>\n",
              "      <td>RL</td>\n",
              "      <td>62.0</td>\n",
              "      <td>10441</td>\n",
              "      <td>Pave</td>\n",
              "      <td>NaN</td>\n",
              "      <td>Reg</td>\n",
              "      <td>Lvl</td>\n",
              "      <td>...</td>\n",
              "      <td>0</td>\n",
              "      <td>NaN</td>\n",
              "      <td>MnPrv</td>\n",
              "      <td>Shed</td>\n",
              "      <td>700</td>\n",
              "      <td>7</td>\n",
              "      <td>2006</td>\n",
              "      <td>WD</td>\n",
              "      <td>Normal</td>\n",
              "      <td>132000</td>\n",
              "    </tr>\n",
              "    <tr>\n",
              "      <th>2929</th>\n",
              "      <td>2929</td>\n",
              "      <td>924100070</td>\n",
              "      <td>20</td>\n",
              "      <td>RL</td>\n",
              "      <td>77.0</td>\n",
              "      <td>10010</td>\n",
              "      <td>Pave</td>\n",
              "      <td>NaN</td>\n",
              "      <td>Reg</td>\n",
              "      <td>Lvl</td>\n",
              "      <td>...</td>\n",
              "      <td>0</td>\n",
              "      <td>NaN</td>\n",
              "      <td>NaN</td>\n",
              "      <td>NaN</td>\n",
              "      <td>0</td>\n",
              "      <td>4</td>\n",
              "      <td>2006</td>\n",
              "      <td>WD</td>\n",
              "      <td>Normal</td>\n",
              "      <td>170000</td>\n",
              "    </tr>\n",
              "    <tr>\n",
              "      <th>2930</th>\n",
              "      <td>2930</td>\n",
              "      <td>924151050</td>\n",
              "      <td>60</td>\n",
              "      <td>RL</td>\n",
              "      <td>74.0</td>\n",
              "      <td>9627</td>\n",
              "      <td>Pave</td>\n",
              "      <td>NaN</td>\n",
              "      <td>Reg</td>\n",
              "      <td>Lvl</td>\n",
              "      <td>...</td>\n",
              "      <td>0</td>\n",
              "      <td>NaN</td>\n",
              "      <td>NaN</td>\n",
              "      <td>NaN</td>\n",
              "      <td>0</td>\n",
              "      <td>11</td>\n",
              "      <td>2006</td>\n",
              "      <td>WD</td>\n",
              "      <td>Normal</td>\n",
              "      <td>188000</td>\n",
              "    </tr>\n",
              "  </tbody>\n",
              "</table>\n",
              "<p>2930 rows × 82 columns</p>\n",
              "</div>\n",
              "      <button class=\"colab-df-convert\" onclick=\"convertToInteractive('df-13780776-babe-4993-beb8-6699b1fb69bc')\"\n",
              "              title=\"Convert this dataframe to an interactive table.\"\n",
              "              style=\"display:none;\">\n",
              "        \n",
              "  <svg xmlns=\"http://www.w3.org/2000/svg\" height=\"24px\"viewBox=\"0 0 24 24\"\n",
              "       width=\"24px\">\n",
              "    <path d=\"M0 0h24v24H0V0z\" fill=\"none\"/>\n",
              "    <path d=\"M18.56 5.44l.94 2.06.94-2.06 2.06-.94-2.06-.94-.94-2.06-.94 2.06-2.06.94zm-11 1L8.5 8.5l.94-2.06 2.06-.94-2.06-.94L8.5 2.5l-.94 2.06-2.06.94zm10 10l.94 2.06.94-2.06 2.06-.94-2.06-.94-.94-2.06-.94 2.06-2.06.94z\"/><path d=\"M17.41 7.96l-1.37-1.37c-.4-.4-.92-.59-1.43-.59-.52 0-1.04.2-1.43.59L10.3 9.45l-7.72 7.72c-.78.78-.78 2.05 0 2.83L4 21.41c.39.39.9.59 1.41.59.51 0 1.02-.2 1.41-.59l7.78-7.78 2.81-2.81c.8-.78.8-2.07 0-2.86zM5.41 20L4 18.59l7.72-7.72 1.47 1.35L5.41 20z\"/>\n",
              "  </svg>\n",
              "      </button>\n",
              "      \n",
              "  <style>\n",
              "    .colab-df-container {\n",
              "      display:flex;\n",
              "      flex-wrap:wrap;\n",
              "      gap: 12px;\n",
              "    }\n",
              "\n",
              "    .colab-df-convert {\n",
              "      background-color: #E8F0FE;\n",
              "      border: none;\n",
              "      border-radius: 50%;\n",
              "      cursor: pointer;\n",
              "      display: none;\n",
              "      fill: #1967D2;\n",
              "      height: 32px;\n",
              "      padding: 0 0 0 0;\n",
              "      width: 32px;\n",
              "    }\n",
              "\n",
              "    .colab-df-convert:hover {\n",
              "      background-color: #E2EBFA;\n",
              "      box-shadow: 0px 1px 2px rgba(60, 64, 67, 0.3), 0px 1px 3px 1px rgba(60, 64, 67, 0.15);\n",
              "      fill: #174EA6;\n",
              "    }\n",
              "\n",
              "    [theme=dark] .colab-df-convert {\n",
              "      background-color: #3B4455;\n",
              "      fill: #D2E3FC;\n",
              "    }\n",
              "\n",
              "    [theme=dark] .colab-df-convert:hover {\n",
              "      background-color: #434B5C;\n",
              "      box-shadow: 0px 1px 3px 1px rgba(0, 0, 0, 0.15);\n",
              "      filter: drop-shadow(0px 1px 2px rgba(0, 0, 0, 0.3));\n",
              "      fill: #FFFFFF;\n",
              "    }\n",
              "  </style>\n",
              "\n",
              "      <script>\n",
              "        const buttonEl =\n",
              "          document.querySelector('#df-13780776-babe-4993-beb8-6699b1fb69bc button.colab-df-convert');\n",
              "        buttonEl.style.display =\n",
              "          google.colab.kernel.accessAllowed ? 'block' : 'none';\n",
              "\n",
              "        async function convertToInteractive(key) {\n",
              "          const element = document.querySelector('#df-13780776-babe-4993-beb8-6699b1fb69bc');\n",
              "          const dataTable =\n",
              "            await google.colab.kernel.invokeFunction('convertToInteractive',\n",
              "                                                     [key], {});\n",
              "          if (!dataTable) return;\n",
              "\n",
              "          const docLinkHtml = 'Like what you see? Visit the ' +\n",
              "            '<a target=\"_blank\" href=https://colab.research.google.com/notebooks/data_table.ipynb>data table notebook</a>'\n",
              "            + ' to learn more about interactive tables.';\n",
              "          element.innerHTML = '';\n",
              "          dataTable['output_type'] = 'display_data';\n",
              "          await google.colab.output.renderOutput(dataTable, element);\n",
              "          const docLink = document.createElement('div');\n",
              "          docLink.innerHTML = docLinkHtml;\n",
              "          element.appendChild(docLink);\n",
              "        }\n",
              "      </script>\n",
              "    </div>\n",
              "  </div>\n",
              "  "
            ]
          },
          "metadata": {},
          "execution_count": 32
        }
      ],
      "source": [
        "dup_removed = housing.drop_duplicates()\n",
        "dup_removed "
      ]
    },
    {
      "cell_type": "markdown",
      "metadata": {
        "id": "7hKIyRg5KWIU"
      },
      "source": [
        "An alternative way to check if there are any duplicated Indexes in our dataset is using `index.is_unique` function.\n"
      ]
    },
    {
      "cell_type": "code",
      "execution_count": null,
      "metadata": {
        "colab": {
          "base_uri": "https://localhost:8080/"
        },
        "id": "m_qTlblRKWIV",
        "outputId": "906c7a7a-1d55-433b-dda0-c551745a80b1"
      },
      "outputs": [
        {
          "output_type": "execute_result",
          "data": {
            "text/plain": [
              "True"
            ]
          },
          "metadata": {},
          "execution_count": 33
        }
      ],
      "source": [
        "housing.index.is_unique"
      ]
    },
    {
      "cell_type": "markdown",
      "metadata": {
        "id": "sCz1hL2BKWIV"
      },
      "source": [
        "## Exercise 3\n"
      ]
    },
    {
      "cell_type": "markdown",
      "metadata": {
        "id": "gvOpzwCWKWIW"
      },
      "source": [
        "In this exercise try to remove duplicates on a specific column by setting the subset equal to the column that contains the duplicate, such as 'Order'.\n"
      ]
    },
    {
      "cell_type": "code",
      "execution_count": null,
      "metadata": {
        "id": "_O6Tr2quKWIX"
      },
      "outputs": [],
      "source": [
        "# Enter your code and run the cell\n",
        "# dup = housing[housing.duplicated(['Order'])]\n",
        "# dup_removed = housing.drop_duplicates()\n",
        "removed_sub = housing.drop_duplicates(subset=['Order'])"
      ]
    },
    {
      "cell_type": "code",
      "source": [
        "removed_sub"
      ],
      "metadata": {
        "colab": {
          "base_uri": "https://localhost:8080/",
          "height": 505
        },
        "id": "-xuRm0q0VeBw",
        "outputId": "73ae3483-10d4-41c1-dda0-e669a33e441a"
      },
      "execution_count": null,
      "outputs": [
        {
          "output_type": "execute_result",
          "data": {
            "text/plain": [
              "      Order        PID  MS SubClass MS Zoning  Lot Frontage  Lot Area Street  \\\n",
              "0         1  526301100           20        RL         141.0     31770   Pave   \n",
              "2         2  526350040           20        RH          80.0     11622   Pave   \n",
              "3         3  526351010           20        RL          81.0     14267   Pave   \n",
              "4         4  526353030           20        RL          93.0     11160   Pave   \n",
              "5         5  527105010           60        RL          74.0     13830   Pave   \n",
              "...     ...        ...          ...       ...           ...       ...    ...   \n",
              "2926   2926  923275080           80        RL          37.0      7937   Pave   \n",
              "2927   2927  923276100           20        RL           NaN      8885   Pave   \n",
              "2928   2928  923400125           85        RL          62.0     10441   Pave   \n",
              "2929   2929  924100070           20        RL          77.0     10010   Pave   \n",
              "2930   2930  924151050           60        RL          74.0      9627   Pave   \n",
              "\n",
              "     Alley Lot Shape Land Contour  ... Pool Area Pool QC  Fence Misc Feature  \\\n",
              "0      NaN       IR1          Lvl  ...         0     NaN    NaN          NaN   \n",
              "2      NaN       Reg          Lvl  ...         0     NaN  MnPrv          NaN   \n",
              "3      NaN       IR1          Lvl  ...         0     NaN    NaN         Gar2   \n",
              "4      NaN       Reg          Lvl  ...         0     NaN    NaN          NaN   \n",
              "5      NaN       IR1          Lvl  ...         0     NaN  MnPrv          NaN   \n",
              "...    ...       ...          ...  ...       ...     ...    ...          ...   \n",
              "2926   NaN       IR1          Lvl  ...         0     NaN  GdPrv          NaN   \n",
              "2927   NaN       IR1          Low  ...         0     NaN  MnPrv          NaN   \n",
              "2928   NaN       Reg          Lvl  ...         0     NaN  MnPrv         Shed   \n",
              "2929   NaN       Reg          Lvl  ...         0     NaN    NaN          NaN   \n",
              "2930   NaN       Reg          Lvl  ...         0     NaN    NaN          NaN   \n",
              "\n",
              "     Misc Val Mo Sold Yr Sold Sale Type  Sale Condition  SalePrice  \n",
              "0           0       5    2010       WD           Normal     215000  \n",
              "2           0       6    2010       WD           Normal     105000  \n",
              "3       12500       6    2010       WD           Normal     172000  \n",
              "4           0       4    2010       WD           Normal     244000  \n",
              "5           0       3    2010       WD           Normal     189900  \n",
              "...       ...     ...     ...       ...             ...        ...  \n",
              "2926        0       3    2006       WD           Normal     142500  \n",
              "2927        0       6    2006       WD           Normal     131000  \n",
              "2928      700       7    2006       WD           Normal     132000  \n",
              "2929        0       4    2006       WD           Normal     170000  \n",
              "2930        0      11    2006       WD           Normal     188000  \n",
              "\n",
              "[2930 rows x 82 columns]"
            ],
            "text/html": [
              "\n",
              "  <div id=\"df-7c9cebd3-8a2b-4270-9355-f594f4b24a52\">\n",
              "    <div class=\"colab-df-container\">\n",
              "      <div>\n",
              "<style scoped>\n",
              "    .dataframe tbody tr th:only-of-type {\n",
              "        vertical-align: middle;\n",
              "    }\n",
              "\n",
              "    .dataframe tbody tr th {\n",
              "        vertical-align: top;\n",
              "    }\n",
              "\n",
              "    .dataframe thead th {\n",
              "        text-align: right;\n",
              "    }\n",
              "</style>\n",
              "<table border=\"1\" class=\"dataframe\">\n",
              "  <thead>\n",
              "    <tr style=\"text-align: right;\">\n",
              "      <th></th>\n",
              "      <th>Order</th>\n",
              "      <th>PID</th>\n",
              "      <th>MS SubClass</th>\n",
              "      <th>MS Zoning</th>\n",
              "      <th>Lot Frontage</th>\n",
              "      <th>Lot Area</th>\n",
              "      <th>Street</th>\n",
              "      <th>Alley</th>\n",
              "      <th>Lot Shape</th>\n",
              "      <th>Land Contour</th>\n",
              "      <th>...</th>\n",
              "      <th>Pool Area</th>\n",
              "      <th>Pool QC</th>\n",
              "      <th>Fence</th>\n",
              "      <th>Misc Feature</th>\n",
              "      <th>Misc Val</th>\n",
              "      <th>Mo Sold</th>\n",
              "      <th>Yr Sold</th>\n",
              "      <th>Sale Type</th>\n",
              "      <th>Sale Condition</th>\n",
              "      <th>SalePrice</th>\n",
              "    </tr>\n",
              "  </thead>\n",
              "  <tbody>\n",
              "    <tr>\n",
              "      <th>0</th>\n",
              "      <td>1</td>\n",
              "      <td>526301100</td>\n",
              "      <td>20</td>\n",
              "      <td>RL</td>\n",
              "      <td>141.0</td>\n",
              "      <td>31770</td>\n",
              "      <td>Pave</td>\n",
              "      <td>NaN</td>\n",
              "      <td>IR1</td>\n",
              "      <td>Lvl</td>\n",
              "      <td>...</td>\n",
              "      <td>0</td>\n",
              "      <td>NaN</td>\n",
              "      <td>NaN</td>\n",
              "      <td>NaN</td>\n",
              "      <td>0</td>\n",
              "      <td>5</td>\n",
              "      <td>2010</td>\n",
              "      <td>WD</td>\n",
              "      <td>Normal</td>\n",
              "      <td>215000</td>\n",
              "    </tr>\n",
              "    <tr>\n",
              "      <th>2</th>\n",
              "      <td>2</td>\n",
              "      <td>526350040</td>\n",
              "      <td>20</td>\n",
              "      <td>RH</td>\n",
              "      <td>80.0</td>\n",
              "      <td>11622</td>\n",
              "      <td>Pave</td>\n",
              "      <td>NaN</td>\n",
              "      <td>Reg</td>\n",
              "      <td>Lvl</td>\n",
              "      <td>...</td>\n",
              "      <td>0</td>\n",
              "      <td>NaN</td>\n",
              "      <td>MnPrv</td>\n",
              "      <td>NaN</td>\n",
              "      <td>0</td>\n",
              "      <td>6</td>\n",
              "      <td>2010</td>\n",
              "      <td>WD</td>\n",
              "      <td>Normal</td>\n",
              "      <td>105000</td>\n",
              "    </tr>\n",
              "    <tr>\n",
              "      <th>3</th>\n",
              "      <td>3</td>\n",
              "      <td>526351010</td>\n",
              "      <td>20</td>\n",
              "      <td>RL</td>\n",
              "      <td>81.0</td>\n",
              "      <td>14267</td>\n",
              "      <td>Pave</td>\n",
              "      <td>NaN</td>\n",
              "      <td>IR1</td>\n",
              "      <td>Lvl</td>\n",
              "      <td>...</td>\n",
              "      <td>0</td>\n",
              "      <td>NaN</td>\n",
              "      <td>NaN</td>\n",
              "      <td>Gar2</td>\n",
              "      <td>12500</td>\n",
              "      <td>6</td>\n",
              "      <td>2010</td>\n",
              "      <td>WD</td>\n",
              "      <td>Normal</td>\n",
              "      <td>172000</td>\n",
              "    </tr>\n",
              "    <tr>\n",
              "      <th>4</th>\n",
              "      <td>4</td>\n",
              "      <td>526353030</td>\n",
              "      <td>20</td>\n",
              "      <td>RL</td>\n",
              "      <td>93.0</td>\n",
              "      <td>11160</td>\n",
              "      <td>Pave</td>\n",
              "      <td>NaN</td>\n",
              "      <td>Reg</td>\n",
              "      <td>Lvl</td>\n",
              "      <td>...</td>\n",
              "      <td>0</td>\n",
              "      <td>NaN</td>\n",
              "      <td>NaN</td>\n",
              "      <td>NaN</td>\n",
              "      <td>0</td>\n",
              "      <td>4</td>\n",
              "      <td>2010</td>\n",
              "      <td>WD</td>\n",
              "      <td>Normal</td>\n",
              "      <td>244000</td>\n",
              "    </tr>\n",
              "    <tr>\n",
              "      <th>5</th>\n",
              "      <td>5</td>\n",
              "      <td>527105010</td>\n",
              "      <td>60</td>\n",
              "      <td>RL</td>\n",
              "      <td>74.0</td>\n",
              "      <td>13830</td>\n",
              "      <td>Pave</td>\n",
              "      <td>NaN</td>\n",
              "      <td>IR1</td>\n",
              "      <td>Lvl</td>\n",
              "      <td>...</td>\n",
              "      <td>0</td>\n",
              "      <td>NaN</td>\n",
              "      <td>MnPrv</td>\n",
              "      <td>NaN</td>\n",
              "      <td>0</td>\n",
              "      <td>3</td>\n",
              "      <td>2010</td>\n",
              "      <td>WD</td>\n",
              "      <td>Normal</td>\n",
              "      <td>189900</td>\n",
              "    </tr>\n",
              "    <tr>\n",
              "      <th>...</th>\n",
              "      <td>...</td>\n",
              "      <td>...</td>\n",
              "      <td>...</td>\n",
              "      <td>...</td>\n",
              "      <td>...</td>\n",
              "      <td>...</td>\n",
              "      <td>...</td>\n",
              "      <td>...</td>\n",
              "      <td>...</td>\n",
              "      <td>...</td>\n",
              "      <td>...</td>\n",
              "      <td>...</td>\n",
              "      <td>...</td>\n",
              "      <td>...</td>\n",
              "      <td>...</td>\n",
              "      <td>...</td>\n",
              "      <td>...</td>\n",
              "      <td>...</td>\n",
              "      <td>...</td>\n",
              "      <td>...</td>\n",
              "      <td>...</td>\n",
              "    </tr>\n",
              "    <tr>\n",
              "      <th>2926</th>\n",
              "      <td>2926</td>\n",
              "      <td>923275080</td>\n",
              "      <td>80</td>\n",
              "      <td>RL</td>\n",
              "      <td>37.0</td>\n",
              "      <td>7937</td>\n",
              "      <td>Pave</td>\n",
              "      <td>NaN</td>\n",
              "      <td>IR1</td>\n",
              "      <td>Lvl</td>\n",
              "      <td>...</td>\n",
              "      <td>0</td>\n",
              "      <td>NaN</td>\n",
              "      <td>GdPrv</td>\n",
              "      <td>NaN</td>\n",
              "      <td>0</td>\n",
              "      <td>3</td>\n",
              "      <td>2006</td>\n",
              "      <td>WD</td>\n",
              "      <td>Normal</td>\n",
              "      <td>142500</td>\n",
              "    </tr>\n",
              "    <tr>\n",
              "      <th>2927</th>\n",
              "      <td>2927</td>\n",
              "      <td>923276100</td>\n",
              "      <td>20</td>\n",
              "      <td>RL</td>\n",
              "      <td>NaN</td>\n",
              "      <td>8885</td>\n",
              "      <td>Pave</td>\n",
              "      <td>NaN</td>\n",
              "      <td>IR1</td>\n",
              "      <td>Low</td>\n",
              "      <td>...</td>\n",
              "      <td>0</td>\n",
              "      <td>NaN</td>\n",
              "      <td>MnPrv</td>\n",
              "      <td>NaN</td>\n",
              "      <td>0</td>\n",
              "      <td>6</td>\n",
              "      <td>2006</td>\n",
              "      <td>WD</td>\n",
              "      <td>Normal</td>\n",
              "      <td>131000</td>\n",
              "    </tr>\n",
              "    <tr>\n",
              "      <th>2928</th>\n",
              "      <td>2928</td>\n",
              "      <td>923400125</td>\n",
              "      <td>85</td>\n",
              "      <td>RL</td>\n",
              "      <td>62.0</td>\n",
              "      <td>10441</td>\n",
              "      <td>Pave</td>\n",
              "      <td>NaN</td>\n",
              "      <td>Reg</td>\n",
              "      <td>Lvl</td>\n",
              "      <td>...</td>\n",
              "      <td>0</td>\n",
              "      <td>NaN</td>\n",
              "      <td>MnPrv</td>\n",
              "      <td>Shed</td>\n",
              "      <td>700</td>\n",
              "      <td>7</td>\n",
              "      <td>2006</td>\n",
              "      <td>WD</td>\n",
              "      <td>Normal</td>\n",
              "      <td>132000</td>\n",
              "    </tr>\n",
              "    <tr>\n",
              "      <th>2929</th>\n",
              "      <td>2929</td>\n",
              "      <td>924100070</td>\n",
              "      <td>20</td>\n",
              "      <td>RL</td>\n",
              "      <td>77.0</td>\n",
              "      <td>10010</td>\n",
              "      <td>Pave</td>\n",
              "      <td>NaN</td>\n",
              "      <td>Reg</td>\n",
              "      <td>Lvl</td>\n",
              "      <td>...</td>\n",
              "      <td>0</td>\n",
              "      <td>NaN</td>\n",
              "      <td>NaN</td>\n",
              "      <td>NaN</td>\n",
              "      <td>0</td>\n",
              "      <td>4</td>\n",
              "      <td>2006</td>\n",
              "      <td>WD</td>\n",
              "      <td>Normal</td>\n",
              "      <td>170000</td>\n",
              "    </tr>\n",
              "    <tr>\n",
              "      <th>2930</th>\n",
              "      <td>2930</td>\n",
              "      <td>924151050</td>\n",
              "      <td>60</td>\n",
              "      <td>RL</td>\n",
              "      <td>74.0</td>\n",
              "      <td>9627</td>\n",
              "      <td>Pave</td>\n",
              "      <td>NaN</td>\n",
              "      <td>Reg</td>\n",
              "      <td>Lvl</td>\n",
              "      <td>...</td>\n",
              "      <td>0</td>\n",
              "      <td>NaN</td>\n",
              "      <td>NaN</td>\n",
              "      <td>NaN</td>\n",
              "      <td>0</td>\n",
              "      <td>11</td>\n",
              "      <td>2006</td>\n",
              "      <td>WD</td>\n",
              "      <td>Normal</td>\n",
              "      <td>188000</td>\n",
              "    </tr>\n",
              "  </tbody>\n",
              "</table>\n",
              "<p>2930 rows × 82 columns</p>\n",
              "</div>\n",
              "      <button class=\"colab-df-convert\" onclick=\"convertToInteractive('df-7c9cebd3-8a2b-4270-9355-f594f4b24a52')\"\n",
              "              title=\"Convert this dataframe to an interactive table.\"\n",
              "              style=\"display:none;\">\n",
              "        \n",
              "  <svg xmlns=\"http://www.w3.org/2000/svg\" height=\"24px\"viewBox=\"0 0 24 24\"\n",
              "       width=\"24px\">\n",
              "    <path d=\"M0 0h24v24H0V0z\" fill=\"none\"/>\n",
              "    <path d=\"M18.56 5.44l.94 2.06.94-2.06 2.06-.94-2.06-.94-.94-2.06-.94 2.06-2.06.94zm-11 1L8.5 8.5l.94-2.06 2.06-.94-2.06-.94L8.5 2.5l-.94 2.06-2.06.94zm10 10l.94 2.06.94-2.06 2.06-.94-2.06-.94-.94-2.06-.94 2.06-2.06.94z\"/><path d=\"M17.41 7.96l-1.37-1.37c-.4-.4-.92-.59-1.43-.59-.52 0-1.04.2-1.43.59L10.3 9.45l-7.72 7.72c-.78.78-.78 2.05 0 2.83L4 21.41c.39.39.9.59 1.41.59.51 0 1.02-.2 1.41-.59l7.78-7.78 2.81-2.81c.8-.78.8-2.07 0-2.86zM5.41 20L4 18.59l7.72-7.72 1.47 1.35L5.41 20z\"/>\n",
              "  </svg>\n",
              "      </button>\n",
              "      \n",
              "  <style>\n",
              "    .colab-df-container {\n",
              "      display:flex;\n",
              "      flex-wrap:wrap;\n",
              "      gap: 12px;\n",
              "    }\n",
              "\n",
              "    .colab-df-convert {\n",
              "      background-color: #E8F0FE;\n",
              "      border: none;\n",
              "      border-radius: 50%;\n",
              "      cursor: pointer;\n",
              "      display: none;\n",
              "      fill: #1967D2;\n",
              "      height: 32px;\n",
              "      padding: 0 0 0 0;\n",
              "      width: 32px;\n",
              "    }\n",
              "\n",
              "    .colab-df-convert:hover {\n",
              "      background-color: #E2EBFA;\n",
              "      box-shadow: 0px 1px 2px rgba(60, 64, 67, 0.3), 0px 1px 3px 1px rgba(60, 64, 67, 0.15);\n",
              "      fill: #174EA6;\n",
              "    }\n",
              "\n",
              "    [theme=dark] .colab-df-convert {\n",
              "      background-color: #3B4455;\n",
              "      fill: #D2E3FC;\n",
              "    }\n",
              "\n",
              "    [theme=dark] .colab-df-convert:hover {\n",
              "      background-color: #434B5C;\n",
              "      box-shadow: 0px 1px 3px 1px rgba(0, 0, 0, 0.15);\n",
              "      filter: drop-shadow(0px 1px 2px rgba(0, 0, 0, 0.3));\n",
              "      fill: #FFFFFF;\n",
              "    }\n",
              "  </style>\n",
              "\n",
              "      <script>\n",
              "        const buttonEl =\n",
              "          document.querySelector('#df-7c9cebd3-8a2b-4270-9355-f594f4b24a52 button.colab-df-convert');\n",
              "        buttonEl.style.display =\n",
              "          google.colab.kernel.accessAllowed ? 'block' : 'none';\n",
              "\n",
              "        async function convertToInteractive(key) {\n",
              "          const element = document.querySelector('#df-7c9cebd3-8a2b-4270-9355-f594f4b24a52');\n",
              "          const dataTable =\n",
              "            await google.colab.kernel.invokeFunction('convertToInteractive',\n",
              "                                                     [key], {});\n",
              "          if (!dataTable) return;\n",
              "\n",
              "          const docLinkHtml = 'Like what you see? Visit the ' +\n",
              "            '<a target=\"_blank\" href=https://colab.research.google.com/notebooks/data_table.ipynb>data table notebook</a>'\n",
              "            + ' to learn more about interactive tables.';\n",
              "          element.innerHTML = '';\n",
              "          dataTable['output_type'] = 'display_data';\n",
              "          await google.colab.output.renderOutput(dataTable, element);\n",
              "          const docLink = document.createElement('div');\n",
              "          docLink.innerHTML = docLinkHtml;\n",
              "          element.appendChild(docLink);\n",
              "        }\n",
              "      </script>\n",
              "    </div>\n",
              "  </div>\n",
              "  "
            ]
          },
          "metadata": {},
          "execution_count": 36
        }
      ]
    },
    {
      "cell_type": "markdown",
      "metadata": {
        "id": "9dmvRArVKWIX"
      },
      "source": [
        "<details>\n",
        "<summary><strong>Solution</strong> (Click Here)</summary>\n",
        "    &emsp; &emsp; <code>\n",
        "removed_sub = housing.drop_duplicates(subset=['Order'])\n",
        "</code>\n",
        "</details>\n"
      ]
    },
    {
      "cell_type": "markdown",
      "metadata": {
        "id": "7nb2NPPyKWIY"
      },
      "source": [
        "## **Handling the Missing Values**\n"
      ]
    },
    {
      "cell_type": "markdown",
      "metadata": {
        "id": "VgwaVtUcKWIZ"
      },
      "source": [
        "### Finding the Missing Values\n"
      ]
    },
    {
      "cell_type": "markdown",
      "metadata": {
        "id": "6OxlZHwBKWIa"
      },
      "source": [
        "For easier detection of missing values, pandas provides the `isna()`, `isnull()`, and `notna()` functions. For more information on pandas missing values please check out this [documentation](https://pandas.pydata.org/pandas-docs/stable/user_guide/missing_data.html?utm_medium=Exinfluencer&utm_source=Exinfluencer&utm_content=000026UJ&utm_term=10006555&utm_id=NA-SkillsNetwork-Channel-SkillsNetworkCoursesIBMML0232ENSkillsNetwork30654641-2022-01-01).\n"
      ]
    },
    {
      "cell_type": "markdown",
      "metadata": {
        "id": "Y-2SMNCJKWIa"
      },
      "source": [
        "To summarize all the missing values in our dataset, we will use `isnull()` function. Then, we will add them all up, by using `sum()` function, sort them with `sort_values()` function, and plot the first 20 columns (as the majority of our missing values fall within first 20 columns), using the `bar plot` function from the `matplotlib` library.\n"
      ]
    },
    {
      "cell_type": "code",
      "execution_count": null,
      "metadata": {
        "colab": {
          "base_uri": "https://localhost:8080/",
          "height": 500
        },
        "id": "90uKScseKWIb",
        "outputId": "8145ecf6-9ec9-4154-939a-7634326c29ca"
      },
      "outputs": [
        {
          "output_type": "execute_result",
          "data": {
            "text/plain": [
              "Text(0.5, 1.0, 'Total Missing Values')"
            ]
          },
          "metadata": {},
          "execution_count": 37
        },
        {
          "output_type": "display_data",
          "data": {
            "text/plain": [
              "<Figure size 576x432 with 1 Axes>"
            ],
            "image/png": "[encoded data removed]"
          },
          "metadata": {
            "needs_background": "light"
          }
        }
      ],
      "source": [
        "total = housing.isnull().sum().sort_values(ascending=False)\n",
        "total_select = total.head(20)\n",
        "total_select.plot(kind=\"bar\", figsize = (8,6), fontsize = 10)\n",
        "\n",
        "plt.xlabel(\"Columns\", fontsize = 20)\n",
        "plt.ylabel(\"Count\", fontsize = 20)\n",
        "plt.title(\"Total Missing Values\", fontsize = 20)"
      ]
    },
    {
      "cell_type": "markdown",
      "metadata": {
        "id": "xU9jZc5wKWIc"
      },
      "source": [
        "There are several options for dealing with missing values. We will use 'Lot Frontage' feature to analyze for missing values.\n"
      ]
    },
    {
      "cell_type": "markdown",
      "metadata": {
        "id": "HDMD6T6RKWIe"
      },
      "source": [
        "1.  We can drop the missing values, using `dropna()` method.\n"
      ]
    },
    {
      "cell_type": "code",
      "execution_count": null,
      "metadata": {
        "colab": {
          "base_uri": "https://localhost:8080/",
          "height": 505
        },
        "id": "1P8uZNLMKWIf",
        "outputId": "d3fffc08-90c0-4264-b2fe-b7bfd28266ce"
      },
      "outputs": [
        {
          "output_type": "execute_result",
          "data": {
            "text/plain": [
              "      Order        PID  MS SubClass MS Zoning  Lot Frontage  Lot Area Street  \\\n",
              "0         1  526301100           20        RL         141.0     31770   Pave   \n",
              "1         1  526301100           20        RL         141.0     31770   Pave   \n",
              "2         2  526350040           20        RH          80.0     11622   Pave   \n",
              "3         3  526351010           20        RL          81.0     14267   Pave   \n",
              "4         4  526353030           20        RL          93.0     11160   Pave   \n",
              "...     ...        ...          ...       ...           ...       ...    ...   \n",
              "2925   2925  923251180           20        RL         160.0     20000   Pave   \n",
              "2926   2926  923275080           80        RL          37.0      7937   Pave   \n",
              "2928   2928  923400125           85        RL          62.0     10441   Pave   \n",
              "2929   2929  924100070           20        RL          77.0     10010   Pave   \n",
              "2930   2930  924151050           60        RL          74.0      9627   Pave   \n",
              "\n",
              "     Alley Lot Shape Land Contour  ... Pool Area Pool QC  Fence Misc Feature  \\\n",
              "0      NaN       IR1          Lvl  ...         0     NaN    NaN          NaN   \n",
              "1      NaN       IR1          Lvl  ...         0     NaN    NaN          NaN   \n",
              "2      NaN       Reg          Lvl  ...         0     NaN  MnPrv          NaN   \n",
              "3      NaN       IR1          Lvl  ...         0     NaN    NaN         Gar2   \n",
              "4      NaN       Reg          Lvl  ...         0     NaN    NaN          NaN   \n",
              "...    ...       ...          ...  ...       ...     ...    ...          ...   \n",
              "2925   NaN       Reg          Lvl  ...         0     NaN    NaN          NaN   \n",
              "2926   NaN       IR1          Lvl  ...         0     NaN  GdPrv          NaN   \n",
              "2928   NaN       Reg          Lvl  ...         0     NaN  MnPrv         Shed   \n",
              "2929   NaN       Reg          Lvl  ...         0     NaN    NaN          NaN   \n",
              "2930   NaN       Reg          Lvl  ...         0     NaN    NaN          NaN   \n",
              "\n",
              "     Misc Val Mo Sold Yr Sold Sale Type  Sale Condition  SalePrice  \n",
              "0           0       5    2010       WD           Normal     215000  \n",
              "1           0       5    2010       WD           Normal     215000  \n",
              "2           0       6    2010       WD           Normal     105000  \n",
              "3       12500       6    2010       WD           Normal     172000  \n",
              "4           0       4    2010       WD           Normal     244000  \n",
              "...       ...     ...     ...       ...             ...        ...  \n",
              "2925        0       9    2006       WD          Abnorml     131000  \n",
              "2926        0       3    2006       WD           Normal     142500  \n",
              "2928      700       7    2006       WD           Normal     132000  \n",
              "2929        0       4    2006       WD           Normal     170000  \n",
              "2930        0      11    2006       WD           Normal     188000  \n",
              "\n",
              "[2441 rows x 82 columns]"
            ],
            "text/html": [
              "\n",
              "  <div id=\"df-edd1cc9c-4ac4-4a06-a49a-010ed12a0a9f\">\n",
              "    <div class=\"colab-df-container\">\n",
              "      <div>\n",
              "<style scoped>\n",
              "    .dataframe tbody tr th:only-of-type {\n",
              "        vertical-align: middle;\n",
              "    }\n",
              "\n",
              "    .dataframe tbody tr th {\n",
              "        vertical-align: top;\n",
              "    }\n",
              "\n",
              "    .dataframe thead th {\n",
              "        text-align: right;\n",
              "    }\n",
              "</style>\n",
              "<table border=\"1\" class=\"dataframe\">\n",
              "  <thead>\n",
              "    <tr style=\"text-align: right;\">\n",
              "      <th></th>\n",
              "      <th>Order</th>\n",
              "      <th>PID</th>\n",
              "      <th>MS SubClass</th>\n",
              "      <th>MS Zoning</th>\n",
              "      <th>Lot Frontage</th>\n",
              "      <th>Lot Area</th>\n",
              "      <th>Street</th>\n",
              "      <th>Alley</th>\n",
              "      <th>Lot Shape</th>\n",
              "      <th>Land Contour</th>\n",
              "      <th>...</th>\n",
              "      <th>Pool Area</th>\n",
              "      <th>Pool QC</th>\n",
              "      <th>Fence</th>\n",
              "      <th>Misc Feature</th>\n",
              "      <th>Misc Val</th>\n",
              "      <th>Mo Sold</th>\n",
              "      <th>Yr Sold</th>\n",
              "      <th>Sale Type</th>\n",
              "      <th>Sale Condition</th>\n",
              "      <th>SalePrice</th>\n",
              "    </tr>\n",
              "  </thead>\n",
              "  <tbody>\n",
              "    <tr>\n",
              "      <th>0</th>\n",
              "      <td>1</td>\n",
              "      <td>526301100</td>\n",
              "      <td>20</td>\n",
              "      <td>RL</td>\n",
              "      <td>141.0</td>\n",
              "      <td>31770</td>\n",
              "      <td>Pave</td>\n",
              "      <td>NaN</td>\n",
              "      <td>IR1</td>\n",
              "      <td>Lvl</td>\n",
              "      <td>...</td>\n",
              "      <td>0</td>\n",
              "      <td>NaN</td>\n",
              "      <td>NaN</td>\n",
              "      <td>NaN</td>\n",
              "      <td>0</td>\n",
              "      <td>5</td>\n",
              "      <td>2010</td>\n",
              "      <td>WD</td>\n",
              "      <td>Normal</td>\n",
              "      <td>215000</td>\n",
              "    </tr>\n",
              "    <tr>\n",
              "      <th>1</th>\n",
              "      <td>1</td>\n",
              "      <td>526301100</td>\n",
              "      <td>20</td>\n",
              "      <td>RL</td>\n",
              "      <td>141.0</td>\n",
              "      <td>31770</td>\n",
              "      <td>Pave</td>\n",
              "      <td>NaN</td>\n",
              "      <td>IR1</td>\n",
              "      <td>Lvl</td>\n",
              "      <td>...</td>\n",
              "      <td>0</td>\n",
              "      <td>NaN</td>\n",
              "      <td>NaN</td>\n",
              "      <td>NaN</td>\n",
              "      <td>0</td>\n",
              "      <td>5</td>\n",
              "      <td>2010</td>\n",
              "      <td>WD</td>\n",
              "      <td>Normal</td>\n",
              "      <td>215000</td>\n",
              "    </tr>\n",
              "    <tr>\n",
              "      <th>2</th>\n",
              "      <td>2</td>\n",
              "      <td>526350040</td>\n",
              "      <td>20</td>\n",
              "      <td>RH</td>\n",
              "      <td>80.0</td>\n",
              "      <td>11622</td>\n",
              "      <td>Pave</td>\n",
              "      <td>NaN</td>\n",
              "      <td>Reg</td>\n",
              "      <td>Lvl</td>\n",
              "      <td>...</td>\n",
              "      <td>0</td>\n",
              "      <td>NaN</td>\n",
              "      <td>MnPrv</td>\n",
              "      <td>NaN</td>\n",
              "      <td>0</td>\n",
              "      <td>6</td>\n",
              "      <td>2010</td>\n",
              "      <td>WD</td>\n",
              "      <td>Normal</td>\n",
              "      <td>105000</td>\n",
              "    </tr>\n",
              "    <tr>\n",
              "      <th>3</th>\n",
              "      <td>3</td>\n",
              "      <td>526351010</td>\n",
              "      <td>20</td>\n",
              "      <td>RL</td>\n",
              "      <td>81.0</td>\n",
              "      <td>14267</td>\n",
              "      <td>Pave</td>\n",
              "      <td>NaN</td>\n",
              "      <td>IR1</td>\n",
              "      <td>Lvl</td>\n",
              "      <td>...</td>\n",
              "      <td>0</td>\n",
              "      <td>NaN</td>\n",
              "      <td>NaN</td>\n",
              "      <td>Gar2</td>\n",
              "      <td>12500</td>\n",
              "      <td>6</td>\n",
              "      <td>2010</td>\n",
              "      <td>WD</td>\n",
              "      <td>Normal</td>\n",
              "      <td>172000</td>\n",
              "    </tr>\n",
              "    <tr>\n",
              "      <th>4</th>\n",
              "      <td>4</td>\n",
              "      <td>526353030</td>\n",
              "      <td>20</td>\n",
              "      <td>RL</td>\n",
              "      <td>93.0</td>\n",
              "      <td>11160</td>\n",
              "      <td>Pave</td>\n",
              "      <td>NaN</td>\n",
              "      <td>Reg</td>\n",
              "      <td>Lvl</td>\n",
              "      <td>...</td>\n",
              "      <td>0</td>\n",
              "      <td>NaN</td>\n",
              "      <td>NaN</td>\n",
              "      <td>NaN</td>\n",
              "      <td>0</td>\n",
              "      <td>4</td>\n",
              "      <td>2010</td>\n",
              "      <td>WD</td>\n",
              "      <td>Normal</td>\n",
              "      <td>244000</td>\n",
              "    </tr>\n",
              "    <tr>\n",
              "      <th>...</th>\n",
              "      <td>...</td>\n",
              "      <td>...</td>\n",
              "      <td>...</td>\n",
              "      <td>...</td>\n",
              "      <td>...</td>\n",
              "      <td>...</td>\n",
              "      <td>...</td>\n",
              "      <td>...</td>\n",
              "      <td>...</td>\n",
              "      <td>...</td>\n",
              "      <td>...</td>\n",
              "      <td>...</td>\n",
              "      <td>...</td>\n",
              "      <td>...</td>\n",
              "      <td>...</td>\n",
              "      <td>...</td>\n",
              "      <td>...</td>\n",
              "      <td>...</td>\n",
              "      <td>...</td>\n",
              "      <td>...</td>\n",
              "      <td>...</td>\n",
              "    </tr>\n",
              "    <tr>\n",
              "      <th>2925</th>\n",
              "      <td>2925</td>\n",
              "      <td>923251180</td>\n",
              "      <td>20</td>\n",
              "      <td>RL</td>\n",
              "      <td>160.0</td>\n",
              "      <td>20000</td>\n",
              "      <td>Pave</td>\n",
              "      <td>NaN</td>\n",
              "      <td>Reg</td>\n",
              "      <td>Lvl</td>\n",
              "      <td>...</td>\n",
              "      <td>0</td>\n",
              "      <td>NaN</td>\n",
              "      <td>NaN</td>\n",
              "      <td>NaN</td>\n",
              "      <td>0</td>\n",
              "      <td>9</td>\n",
              "      <td>2006</td>\n",
              "      <td>WD</td>\n",
              "      <td>Abnorml</td>\n",
              "      <td>131000</td>\n",
              "    </tr>\n",
              "    <tr>\n",
              "      <th>2926</th>\n",
              "      <td>2926</td>\n",
              "      <td>923275080</td>\n",
              "      <td>80</td>\n",
              "      <td>RL</td>\n",
              "      <td>37.0</td>\n",
              "      <td>7937</td>\n",
              "      <td>Pave</td>\n",
              "      <td>NaN</td>\n",
              "      <td>IR1</td>\n",
              "      <td>Lvl</td>\n",
              "      <td>...</td>\n",
              "      <td>0</td>\n",
              "      <td>NaN</td>\n",
              "      <td>GdPrv</td>\n",
              "      <td>NaN</td>\n",
              "      <td>0</td>\n",
              "      <td>3</td>\n",
              "      <td>2006</td>\n",
              "      <td>WD</td>\n",
              "      <td>Normal</td>\n",
              "      <td>142500</td>\n",
              "    </tr>\n",
              "    <tr>\n",
              "      <th>2928</th>\n",
              "      <td>2928</td>\n",
              "      <td>923400125</td>\n",
              "      <td>85</td>\n",
              "      <td>RL</td>\n",
              "      <td>62.0</td>\n",
              "      <td>10441</td>\n",
              "      <td>Pave</td>\n",
              "      <td>NaN</td>\n",
              "      <td>Reg</td>\n",
              "      <td>Lvl</td>\n",
              "      <td>...</td>\n",
              "      <td>0</td>\n",
              "      <td>NaN</td>\n",
              "      <td>MnPrv</td>\n",
              "      <td>Shed</td>\n",
              "      <td>700</td>\n",
              "      <td>7</td>\n",
              "      <td>2006</td>\n",
              "      <td>WD</td>\n",
              "      <td>Normal</td>\n",
              "      <td>132000</td>\n",
              "    </tr>\n",
              "    <tr>\n",
              "      <th>2929</th>\n",
              "      <td>2929</td>\n",
              "      <td>924100070</td>\n",
              "      <td>20</td>\n",
              "      <td>RL</td>\n",
              "      <td>77.0</td>\n",
              "      <td>10010</td>\n",
              "      <td>Pave</td>\n",
              "      <td>NaN</td>\n",
              "      <td>Reg</td>\n",
              "      <td>Lvl</td>\n",
              "      <td>...</td>\n",
              "      <td>0</td>\n",
              "      <td>NaN</td>\n",
              "      <td>NaN</td>\n",
              "      <td>NaN</td>\n",
              "      <td>0</td>\n",
              "      <td>4</td>\n",
              "      <td>2006</td>\n",
              "      <td>WD</td>\n",
              "      <td>Normal</td>\n",
              "      <td>170000</td>\n",
              "    </tr>\n",
              "    <tr>\n",
              "      <th>2930</th>\n",
              "      <td>2930</td>\n",
              "      <td>924151050</td>\n",
              "      <td>60</td>\n",
              "      <td>RL</td>\n",
              "      <td>74.0</td>\n",
              "      <td>9627</td>\n",
              "      <td>Pave</td>\n",
              "      <td>NaN</td>\n",
              "      <td>Reg</td>\n",
              "      <td>Lvl</td>\n",
              "      <td>...</td>\n",
              "      <td>0</td>\n",
              "      <td>NaN</td>\n",
              "      <td>NaN</td>\n",
              "      <td>NaN</td>\n",
              "      <td>0</td>\n",
              "      <td>11</td>\n",
              "      <td>2006</td>\n",
              "      <td>WD</td>\n",
              "      <td>Normal</td>\n",
              "      <td>188000</td>\n",
              "    </tr>\n",
              "  </tbody>\n",
              "</table>\n",
              "<p>2441 rows × 82 columns</p>\n",
              "</div>\n",
              "      <button class=\"colab-df-convert\" onclick=\"convertToInteractive('df-edd1cc9c-4ac4-4a06-a49a-010ed12a0a9f')\"\n",
              "              title=\"Convert this dataframe to an interactive table.\"\n",
              "              style=\"display:none;\">\n",
              "        \n",
              "  <svg xmlns=\"http://www.w3.org/2000/svg\" height=\"24px\"viewBox=\"0 0 24 24\"\n",
              "       width=\"24px\">\n",
              "    <path d=\"M0 0h24v24H0V0z\" fill=\"none\"/>\n",
              "    <path d=\"M18.56 5.44l.94 2.06.94-2.06 2.06-.94-2.06-.94-.94-2.06-.94 2.06-2.06.94zm-11 1L8.5 8.5l.94-2.06 2.06-.94-2.06-.94L8.5 2.5l-.94 2.06-2.06.94zm10 10l.94 2.06.94-2.06 2.06-.94-2.06-.94-.94-2.06-.94 2.06-2.06.94z\"/><path d=\"M17.41 7.96l-1.37-1.37c-.4-.4-.92-.59-1.43-.59-.52 0-1.04.2-1.43.59L10.3 9.45l-7.72 7.72c-.78.78-.78 2.05 0 2.83L4 21.41c.39.39.9.59 1.41.59.51 0 1.02-.2 1.41-.59l7.78-7.78 2.81-2.81c.8-.78.8-2.07 0-2.86zM5.41 20L4 18.59l7.72-7.72 1.47 1.35L5.41 20z\"/>\n",
              "  </svg>\n",
              "      </button>\n",
              "      \n",
              "  <style>\n",
              "    .colab-df-container {\n",
              "      display:flex;\n",
              "      flex-wrap:wrap;\n",
              "      gap: 12px;\n",
              "    }\n",
              "\n",
              "    .colab-df-convert {\n",
              "      background-color: #E8F0FE;\n",
              "      border: none;\n",
              "      border-radius: 50%;\n",
              "      cursor: pointer;\n",
              "      display: none;\n",
              "      fill: #1967D2;\n",
              "      height: 32px;\n",
              "      padding: 0 0 0 0;\n",
              "      width: 32px;\n",
              "    }\n",
              "\n",
              "    .colab-df-convert:hover {\n",
              "      background-color: #E2EBFA;\n",
              "      box-shadow: 0px 1px 2px rgba(60, 64, 67, 0.3), 0px 1px 3px 1px rgba(60, 64, 67, 0.15);\n",
              "      fill: #174EA6;\n",
              "    }\n",
              "\n",
              "    [theme=dark] .colab-df-convert {\n",
              "      background-color: #3B4455;\n",
              "      fill: #D2E3FC;\n",
              "    }\n",
              "\n",
              "    [theme=dark] .colab-df-convert:hover {\n",
              "      background-color: #434B5C;\n",
              "      box-shadow: 0px 1px 3px 1px rgba(0, 0, 0, 0.15);\n",
              "      filter: drop-shadow(0px 1px 2px rgba(0, 0, 0, 0.3));\n",
              "      fill: #FFFFFF;\n",
              "    }\n",
              "  </style>\n",
              "\n",
              "      <script>\n",
              "        const buttonEl =\n",
              "          document.querySelector('#df-edd1cc9c-4ac4-4a06-a49a-010ed12a0a9f button.colab-df-convert');\n",
              "        buttonEl.style.display =\n",
              "          google.colab.kernel.accessAllowed ? 'block' : 'none';\n",
              "\n",
              "        async function convertToInteractive(key) {\n",
              "          const element = document.querySelector('#df-edd1cc9c-4ac4-4a06-a49a-010ed12a0a9f');\n",
              "          const dataTable =\n",
              "            await google.colab.kernel.invokeFunction('convertToInteractive',\n",
              "                                                     [key], {});\n",
              "          if (!dataTable) return;\n",
              "\n",
              "          const docLinkHtml = 'Like what you see? Visit the ' +\n",
              "            '<a target=\"_blank\" href=https://colab.research.google.com/notebooks/data_table.ipynb>data table notebook</a>'\n",
              "            + ' to learn more about interactive tables.';\n",
              "          element.innerHTML = '';\n",
              "          dataTable['output_type'] = 'display_data';\n",
              "          await google.colab.output.renderOutput(dataTable, element);\n",
              "          const docLink = document.createElement('div');\n",
              "          docLink.innerHTML = docLinkHtml;\n",
              "          element.appendChild(docLink);\n",
              "        }\n",
              "      </script>\n",
              "    </div>\n",
              "  </div>\n",
              "  "
            ]
          },
          "metadata": {},
          "execution_count": 38
        }
      ],
      "source": [
        "housing.dropna(subset=[\"Lot Frontage\"])"
      ]
    },
    {
      "cell_type": "markdown",
      "metadata": {
        "id": "cSaQqptVKWIl"
      },
      "source": [
        "Using this method, all the rows, containing null values in 'Lot Frontage' feature, for example, will be dropped.\n"
      ]
    },
    {
      "cell_type": "markdown",
      "metadata": {
        "id": "Ur9VhY1dKWIn"
      },
      "source": [
        "2.  We can drop the whole attribute (column), that contains missing values, using the `drop()` method.\n"
      ]
    },
    {
      "cell_type": "code",
      "execution_count": null,
      "metadata": {
        "colab": {
          "base_uri": "https://localhost:8080/",
          "height": 505
        },
        "id": "JLui_W8CKWIo",
        "outputId": "773f13aa-7d3c-4b09-cde3-450e231e1cc4"
      },
      "outputs": [
        {
          "output_type": "execute_result",
          "data": {
            "text/plain": [
              "      Order        PID  MS SubClass MS Zoning  Lot Area Street Alley  \\\n",
              "0         1  526301100           20        RL     31770   Pave   NaN   \n",
              "1         1  526301100           20        RL     31770   Pave   NaN   \n",
              "2         2  526350040           20        RH     11622   Pave   NaN   \n",
              "3         3  526351010           20        RL     14267   Pave   NaN   \n",
              "4         4  526353030           20        RL     11160   Pave   NaN   \n",
              "...     ...        ...          ...       ...       ...    ...   ...   \n",
              "2926   2926  923275080           80        RL      7937   Pave   NaN   \n",
              "2927   2927  923276100           20        RL      8885   Pave   NaN   \n",
              "2928   2928  923400125           85        RL     10441   Pave   NaN   \n",
              "2929   2929  924100070           20        RL     10010   Pave   NaN   \n",
              "2930   2930  924151050           60        RL      9627   Pave   NaN   \n",
              "\n",
              "     Lot Shape Land Contour Utilities  ... Pool Area Pool QC  Fence  \\\n",
              "0          IR1          Lvl    AllPub  ...         0     NaN    NaN   \n",
              "1          IR1          Lvl    AllPub  ...         0     NaN    NaN   \n",
              "2          Reg          Lvl    AllPub  ...         0     NaN  MnPrv   \n",
              "3          IR1          Lvl    AllPub  ...         0     NaN    NaN   \n",
              "4          Reg          Lvl    AllPub  ...         0     NaN    NaN   \n",
              "...        ...          ...       ...  ...       ...     ...    ...   \n",
              "2926       IR1          Lvl    AllPub  ...         0     NaN  GdPrv   \n",
              "2927       IR1          Low    AllPub  ...         0     NaN  MnPrv   \n",
              "2928       Reg          Lvl    AllPub  ...         0     NaN  MnPrv   \n",
              "2929       Reg          Lvl    AllPub  ...         0     NaN    NaN   \n",
              "2930       Reg          Lvl    AllPub  ...         0     NaN    NaN   \n",
              "\n",
              "     Misc Feature Misc Val Mo Sold Yr Sold  Sale Type  Sale Condition  \\\n",
              "0             NaN        0       5    2010        WD           Normal   \n",
              "1             NaN        0       5    2010        WD           Normal   \n",
              "2             NaN        0       6    2010        WD           Normal   \n",
              "3            Gar2    12500       6    2010        WD           Normal   \n",
              "4             NaN        0       4    2010        WD           Normal   \n",
              "...           ...      ...     ...     ...        ...             ...   \n",
              "2926          NaN        0       3    2006        WD           Normal   \n",
              "2927          NaN        0       6    2006        WD           Normal   \n",
              "2928         Shed      700       7    2006        WD           Normal   \n",
              "2929          NaN        0       4    2006        WD           Normal   \n",
              "2930          NaN        0      11    2006        WD           Normal   \n",
              "\n",
              "      SalePrice  \n",
              "0        215000  \n",
              "1        215000  \n",
              "2        105000  \n",
              "3        172000  \n",
              "4        244000  \n",
              "...         ...  \n",
              "2926     142500  \n",
              "2927     131000  \n",
              "2928     132000  \n",
              "2929     170000  \n",
              "2930     188000  \n",
              "\n",
              "[2931 rows x 81 columns]"
            ],
            "text/html": [
              "\n",
              "  <div id=\"df-cff30be7-b8eb-4cd7-afc4-57f9644564fd\">\n",
              "    <div class=\"colab-df-container\">\n",
              "      <div>\n",
              "<style scoped>\n",
              "    .dataframe tbody tr th:only-of-type {\n",
              "        vertical-align: middle;\n",
              "    }\n",
              "\n",
              "    .dataframe tbody tr th {\n",
              "        vertical-align: top;\n",
              "    }\n",
              "\n",
              "    .dataframe thead th {\n",
              "        text-align: right;\n",
              "    }\n",
              "</style>\n",
              "<table border=\"1\" class=\"dataframe\">\n",
              "  <thead>\n",
              "    <tr style=\"text-align: right;\">\n",
              "      <th></th>\n",
              "      <th>Order</th>\n",
              "      <th>PID</th>\n",
              "      <th>MS SubClass</th>\n",
              "      <th>MS Zoning</th>\n",
              "      <th>Lot Area</th>\n",
              "      <th>Street</th>\n",
              "      <th>Alley</th>\n",
              "      <th>Lot Shape</th>\n",
              "      <th>Land Contour</th>\n",
              "      <th>Utilities</th>\n",
              "      <th>...</th>\n",
              "      <th>Pool Area</th>\n",
              "      <th>Pool QC</th>\n",
              "      <th>Fence</th>\n",
              "      <th>Misc Feature</th>\n",
              "      <th>Misc Val</th>\n",
              "      <th>Mo Sold</th>\n",
              "      <th>Yr Sold</th>\n",
              "      <th>Sale Type</th>\n",
              "      <th>Sale Condition</th>\n",
              "      <th>SalePrice</th>\n",
              "    </tr>\n",
              "  </thead>\n",
              "  <tbody>\n",
              "    <tr>\n",
              "      <th>0</th>\n",
              "      <td>1</td>\n",
              "      <td>526301100</td>\n",
              "      <td>20</td>\n",
              "      <td>RL</td>\n",
              "      <td>31770</td>\n",
              "      <td>Pave</td>\n",
              "      <td>NaN</td>\n",
              "      <td>IR1</td>\n",
              "      <td>Lvl</td>\n",
              "      <td>AllPub</td>\n",
              "      <td>...</td>\n",
              "      <td>0</td>\n",
              "      <td>NaN</td>\n",
              "      <td>NaN</td>\n",
              "      <td>NaN</td>\n",
              "      <td>0</td>\n",
              "      <td>5</td>\n",
              "      <td>2010</td>\n",
              "      <td>WD</td>\n",
              "      <td>Normal</td>\n",
              "      <td>215000</td>\n",
              "    </tr>\n",
              "    <tr>\n",
              "      <th>1</th>\n",
              "      <td>1</td>\n",
              "      <td>526301100</td>\n",
              "      <td>20</td>\n",
              "      <td>RL</td>\n",
              "      <td>31770</td>\n",
              "      <td>Pave</td>\n",
              "      <td>NaN</td>\n",
              "      <td>IR1</td>\n",
              "      <td>Lvl</td>\n",
              "      <td>AllPub</td>\n",
              "      <td>...</td>\n",
              "      <td>0</td>\n",
              "      <td>NaN</td>\n",
              "      <td>NaN</td>\n",
              "      <td>NaN</td>\n",
              "      <td>0</td>\n",
              "      <td>5</td>\n",
              "      <td>2010</td>\n",
              "      <td>WD</td>\n",
              "      <td>Normal</td>\n",
              "      <td>215000</td>\n",
              "    </tr>\n",
              "    <tr>\n",
              "      <th>2</th>\n",
              "      <td>2</td>\n",
              "      <td>526350040</td>\n",
              "      <td>20</td>\n",
              "      <td>RH</td>\n",
              "      <td>11622</td>\n",
              "      <td>Pave</td>\n",
              "      <td>NaN</td>\n",
              "      <td>Reg</td>\n",
              "      <td>Lvl</td>\n",
              "      <td>AllPub</td>\n",
              "      <td>...</td>\n",
              "      <td>0</td>\n",
              "      <td>NaN</td>\n",
              "      <td>MnPrv</td>\n",
              "      <td>NaN</td>\n",
              "      <td>0</td>\n",
              "      <td>6</td>\n",
              "      <td>2010</td>\n",
              "      <td>WD</td>\n",
              "      <td>Normal</td>\n",
              "      <td>105000</td>\n",
              "    </tr>\n",
              "    <tr>\n",
              "      <th>3</th>\n",
              "      <td>3</td>\n",
              "      <td>526351010</td>\n",
              "      <td>20</td>\n",
              "      <td>RL</td>\n",
              "      <td>14267</td>\n",
              "      <td>Pave</td>\n",
              "      <td>NaN</td>\n",
              "      <td>IR1</td>\n",
              "      <td>Lvl</td>\n",
              "      <td>AllPub</td>\n",
              "      <td>...</td>\n",
              "      <td>0</td>\n",
              "      <td>NaN</td>\n",
              "      <td>NaN</td>\n",
              "      <td>Gar2</td>\n",
              "      <td>12500</td>\n",
              "      <td>6</td>\n",
              "      <td>2010</td>\n",
              "      <td>WD</td>\n",
              "      <td>Normal</td>\n",
              "      <td>172000</td>\n",
              "    </tr>\n",
              "    <tr>\n",
              "      <th>4</th>\n",
              "      <td>4</td>\n",
              "      <td>526353030</td>\n",
              "      <td>20</td>\n",
              "      <td>RL</td>\n",
              "      <td>11160</td>\n",
              "      <td>Pave</td>\n",
              "      <td>NaN</td>\n",
              "      <td>Reg</td>\n",
              "      <td>Lvl</td>\n",
              "      <td>AllPub</td>\n",
              "      <td>...</td>\n",
              "      <td>0</td>\n",
              "      <td>NaN</td>\n",
              "      <td>NaN</td>\n",
              "      <td>NaN</td>\n",
              "      <td>0</td>\n",
              "      <td>4</td>\n",
              "      <td>2010</td>\n",
              "      <td>WD</td>\n",
              "      <td>Normal</td>\n",
              "      <td>244000</td>\n",
              "    </tr>\n",
              "    <tr>\n",
              "      <th>...</th>\n",
              "      <td>...</td>\n",
              "      <td>...</td>\n",
              "      <td>...</td>\n",
              "      <td>...</td>\n",
              "      <td>...</td>\n",
              "      <td>...</td>\n",
              "      <td>...</td>\n",
              "      <td>...</td>\n",
              "      <td>...</td>\n",
              "      <td>...</td>\n",
              "      <td>...</td>\n",
              "      <td>...</td>\n",
              "      <td>...</td>\n",
              "      <td>...</td>\n",
              "      <td>...</td>\n",
              "      <td>...</td>\n",
              "      <td>...</td>\n",
              "      <td>...</td>\n",
              "      <td>...</td>\n",
              "      <td>...</td>\n",
              "      <td>...</td>\n",
              "    </tr>\n",
              "    <tr>\n",
              "      <th>2926</th>\n",
              "      <td>2926</td>\n",
              "      <td>923275080</td>\n",
              "      <td>80</td>\n",
              "      <td>RL</td>\n",
              "      <td>7937</td>\n",
              "      <td>Pave</td>\n",
              "      <td>NaN</td>\n",
              "      <td>IR1</td>\n",
              "      <td>Lvl</td>\n",
              "      <td>AllPub</td>\n",
              "      <td>...</td>\n",
              "      <td>0</td>\n",
              "      <td>NaN</td>\n",
              "      <td>GdPrv</td>\n",
              "      <td>NaN</td>\n",
              "      <td>0</td>\n",
              "      <td>3</td>\n",
              "      <td>2006</td>\n",
              "      <td>WD</td>\n",
              "      <td>Normal</td>\n",
              "      <td>142500</td>\n",
              "    </tr>\n",
              "    <tr>\n",
              "      <th>2927</th>\n",
              "      <td>2927</td>\n",
              "      <td>923276100</td>\n",
              "      <td>20</td>\n",
              "      <td>RL</td>\n",
              "      <td>8885</td>\n",
              "      <td>Pave</td>\n",
              "      <td>NaN</td>\n",
              "      <td>IR1</td>\n",
              "      <td>Low</td>\n",
              "      <td>AllPub</td>\n",
              "      <td>...</td>\n",
              "      <td>0</td>\n",
              "      <td>NaN</td>\n",
              "      <td>MnPrv</td>\n",
              "      <td>NaN</td>\n",
              "      <td>0</td>\n",
              "      <td>6</td>\n",
              "      <td>2006</td>\n",
              "      <td>WD</td>\n",
              "      <td>Normal</td>\n",
              "      <td>131000</td>\n",
              "    </tr>\n",
              "    <tr>\n",
              "      <th>2928</th>\n",
              "      <td>2928</td>\n",
              "      <td>923400125</td>\n",
              "      <td>85</td>\n",
              "      <td>RL</td>\n",
              "      <td>10441</td>\n",
              "      <td>Pave</td>\n",
              "      <td>NaN</td>\n",
              "      <td>Reg</td>\n",
              "      <td>Lvl</td>\n",
              "      <td>AllPub</td>\n",
              "      <td>...</td>\n",
              "      <td>0</td>\n",
              "      <td>NaN</td>\n",
              "      <td>MnPrv</td>\n",
              "      <td>Shed</td>\n",
              "      <td>700</td>\n",
              "      <td>7</td>\n",
              "      <td>2006</td>\n",
              "      <td>WD</td>\n",
              "      <td>Normal</td>\n",
              "      <td>132000</td>\n",
              "    </tr>\n",
              "    <tr>\n",
              "      <th>2929</th>\n",
              "      <td>2929</td>\n",
              "      <td>924100070</td>\n",
              "      <td>20</td>\n",
              "      <td>RL</td>\n",
              "      <td>10010</td>\n",
              "      <td>Pave</td>\n",
              "      <td>NaN</td>\n",
              "      <td>Reg</td>\n",
              "      <td>Lvl</td>\n",
              "      <td>AllPub</td>\n",
              "      <td>...</td>\n",
              "      <td>0</td>\n",
              "      <td>NaN</td>\n",
              "      <td>NaN</td>\n",
              "      <td>NaN</td>\n",
              "      <td>0</td>\n",
              "      <td>4</td>\n",
              "      <td>2006</td>\n",
              "      <td>WD</td>\n",
              "      <td>Normal</td>\n",
              "      <td>170000</td>\n",
              "    </tr>\n",
              "    <tr>\n",
              "      <th>2930</th>\n",
              "      <td>2930</td>\n",
              "      <td>924151050</td>\n",
              "      <td>60</td>\n",
              "      <td>RL</td>\n",
              "      <td>9627</td>\n",
              "      <td>Pave</td>\n",
              "      <td>NaN</td>\n",
              "      <td>Reg</td>\n",
              "      <td>Lvl</td>\n",
              "      <td>AllPub</td>\n",
              "      <td>...</td>\n",
              "      <td>0</td>\n",
              "      <td>NaN</td>\n",
              "      <td>NaN</td>\n",
              "      <td>NaN</td>\n",
              "      <td>0</td>\n",
              "      <td>11</td>\n",
              "      <td>2006</td>\n",
              "      <td>WD</td>\n",
              "      <td>Normal</td>\n",
              "      <td>188000</td>\n",
              "    </tr>\n",
              "  </tbody>\n",
              "</table>\n",
              "<p>2931 rows × 81 columns</p>\n",
              "</div>\n",
              "      <button class=\"colab-df-convert\" onclick=\"convertToInteractive('df-cff30be7-b8eb-4cd7-afc4-57f9644564fd')\"\n",
              "              title=\"Convert this dataframe to an interactive table.\"\n",
              "              style=\"display:none;\">\n",
              "        \n",
              "  <svg xmlns=\"http://www.w3.org/2000/svg\" height=\"24px\"viewBox=\"0 0 24 24\"\n",
              "       width=\"24px\">\n",
              "    <path d=\"M0 0h24v24H0V0z\" fill=\"none\"/>\n",
              "    <path d=\"M18.56 5.44l.94 2.06.94-2.06 2.06-.94-2.06-.94-.94-2.06-.94 2.06-2.06.94zm-11 1L8.5 8.5l.94-2.06 2.06-.94-2.06-.94L8.5 2.5l-.94 2.06-2.06.94zm10 10l.94 2.06.94-2.06 2.06-.94-2.06-.94-.94-2.06-.94 2.06-2.06.94z\"/><path d=\"M17.41 7.96l-1.37-1.37c-.4-.4-.92-.59-1.43-.59-.52 0-1.04.2-1.43.59L10.3 9.45l-7.72 7.72c-.78.78-.78 2.05 0 2.83L4 21.41c.39.39.9.59 1.41.59.51 0 1.02-.2 1.41-.59l7.78-7.78 2.81-2.81c.8-.78.8-2.07 0-2.86zM5.41 20L4 18.59l7.72-7.72 1.47 1.35L5.41 20z\"/>\n",
              "  </svg>\n",
              "      </button>\n",
              "      \n",
              "  <style>\n",
              "    .colab-df-container {\n",
              "      display:flex;\n",
              "      flex-wrap:wrap;\n",
              "      gap: 12px;\n",
              "    }\n",
              "\n",
              "    .colab-df-convert {\n",
              "      background-color: #E8F0FE;\n",
              "      border: none;\n",
              "      border-radius: 50%;\n",
              "      cursor: pointer;\n",
              "      display: none;\n",
              "      fill: #1967D2;\n",
              "      height: 32px;\n",
              "      padding: 0 0 0 0;\n",
              "      width: 32px;\n",
              "    }\n",
              "\n",
              "    .colab-df-convert:hover {\n",
              "      background-color: #E2EBFA;\n",
              "      box-shadow: 0px 1px 2px rgba(60, 64, 67, 0.3), 0px 1px 3px 1px rgba(60, 64, 67, 0.15);\n",
              "      fill: #174EA6;\n",
              "    }\n",
              "\n",
              "    [theme=dark] .colab-df-convert {\n",
              "      background-color: #3B4455;\n",
              "      fill: #D2E3FC;\n",
              "    }\n",
              "\n",
              "    [theme=dark] .colab-df-convert:hover {\n",
              "      background-color: #434B5C;\n",
              "      box-shadow: 0px 1px 3px 1px rgba(0, 0, 0, 0.15);\n",
              "      filter: drop-shadow(0px 1px 2px rgba(0, 0, 0, 0.3));\n",
              "      fill: #FFFFFF;\n",
              "    }\n",
              "  </style>\n",
              "\n",
              "      <script>\n",
              "        const buttonEl =\n",
              "          document.querySelector('#df-cff30be7-b8eb-4cd7-afc4-57f9644564fd button.colab-df-convert');\n",
              "        buttonEl.style.display =\n",
              "          google.colab.kernel.accessAllowed ? 'block' : 'none';\n",
              "\n",
              "        async function convertToInteractive(key) {\n",
              "          const element = document.querySelector('#df-cff30be7-b8eb-4cd7-afc4-57f9644564fd');\n",
              "          const dataTable =\n",
              "            await google.colab.kernel.invokeFunction('convertToInteractive',\n",
              "                                                     [key], {});\n",
              "          if (!dataTable) return;\n",
              "\n",
              "          const docLinkHtml = 'Like what you see? Visit the ' +\n",
              "            '<a target=\"_blank\" href=https://colab.research.google.com/notebooks/data_table.ipynb>data table notebook</a>'\n",
              "            + ' to learn more about interactive tables.';\n",
              "          element.innerHTML = '';\n",
              "          dataTable['output_type'] = 'display_data';\n",
              "          await google.colab.output.renderOutput(dataTable, element);\n",
              "          const docLink = document.createElement('div');\n",
              "          docLink.innerHTML = docLinkHtml;\n",
              "          element.appendChild(docLink);\n",
              "        }\n",
              "      </script>\n",
              "    </div>\n",
              "  </div>\n",
              "  "
            ]
          },
          "metadata": {},
          "execution_count": 39
        }
      ],
      "source": [
        "housing.drop(\"Lot Frontage\", axis=1)"
      ]
    },
    {
      "cell_type": "markdown",
      "metadata": {
        "id": "8nxMcu86KWIp"
      },
      "source": [
        "Using this method, the entire column containing the null values will be dropped.\n"
      ]
    },
    {
      "cell_type": "markdown",
      "metadata": {
        "id": "0UnS6vJ1KWIp"
      },
      "source": [
        "3.  We can replace the missing values (zero, the mean, the median, etc.), using `fillna()` method.\n"
      ]
    },
    {
      "cell_type": "code",
      "execution_count": null,
      "metadata": {
        "colab": {
          "base_uri": "https://localhost:8080/"
        },
        "id": "_jITgzlnKWIq",
        "outputId": "3a683701-dd7b-4048-eade-8407cafe7a53"
      },
      "outputs": [
        {
          "output_type": "execute_result",
          "data": {
            "text/plain": [
              "68.0"
            ]
          },
          "metadata": {},
          "execution_count": 40
        }
      ],
      "source": [
        "median = housing[\"Lot Frontage\"].median()\n",
        "median"
      ]
    },
    {
      "cell_type": "code",
      "execution_count": null,
      "metadata": {
        "id": "533gNIVUKWIr"
      },
      "outputs": [],
      "source": [
        "housing[\"Lot Frontage\"].fillna(median, inplace = True)"
      ]
    },
    {
      "cell_type": "code",
      "execution_count": null,
      "metadata": {
        "colab": {
          "base_uri": "https://localhost:8080/",
          "height": 317
        },
        "id": "R551KdmxKWIr",
        "outputId": "2824c825-93f4-4353-a5ff-145b3bf4c001"
      },
      "outputs": [
        {
          "output_type": "execute_result",
          "data": {
            "text/plain": [
              "      Order        PID  MS SubClass MS Zoning  Lot Frontage  Lot Area Street  \\\n",
              "2926   2926  923275080           80        RL          37.0      7937   Pave   \n",
              "2927   2927  923276100           20        RL          68.0      8885   Pave   \n",
              "2928   2928  923400125           85        RL          62.0     10441   Pave   \n",
              "2929   2929  924100070           20        RL          77.0     10010   Pave   \n",
              "2930   2930  924151050           60        RL          74.0      9627   Pave   \n",
              "\n",
              "     Alley Lot Shape Land Contour  ... Pool Area Pool QC  Fence Misc Feature  \\\n",
              "2926   NaN       IR1          Lvl  ...         0     NaN  GdPrv          NaN   \n",
              "2927   NaN       IR1          Low  ...         0     NaN  MnPrv          NaN   \n",
              "2928   NaN       Reg          Lvl  ...         0     NaN  MnPrv         Shed   \n",
              "2929   NaN       Reg          Lvl  ...         0     NaN    NaN          NaN   \n",
              "2930   NaN       Reg          Lvl  ...         0     NaN    NaN          NaN   \n",
              "\n",
              "     Misc Val Mo Sold Yr Sold Sale Type  Sale Condition  SalePrice  \n",
              "2926        0       3    2006       WD           Normal     142500  \n",
              "2927        0       6    2006       WD           Normal     131000  \n",
              "2928      700       7    2006       WD           Normal     132000  \n",
              "2929        0       4    2006       WD           Normal     170000  \n",
              "2930        0      11    2006       WD           Normal     188000  \n",
              "\n",
              "[5 rows x 82 columns]"
            ],
            "text/html": [
              "\n",
              "  <div id=\"df-85502741-c8d8-4a55-9577-cea2956f591e\">\n",
              "    <div class=\"colab-df-container\">\n",
              "      <div>\n",
              "<style scoped>\n",
              "    .dataframe tbody tr th:only-of-type {\n",
              "        vertical-align: middle;\n",
              "    }\n",
              "\n",
              "    .dataframe tbody tr th {\n",
              "        vertical-align: top;\n",
              "    }\n",
              "\n",
              "    .dataframe thead th {\n",
              "        text-align: right;\n",
              "    }\n",
              "</style>\n",
              "<table border=\"1\" class=\"dataframe\">\n",
              "  <thead>\n",
              "    <tr style=\"text-align: right;\">\n",
              "      <th></th>\n",
              "      <th>Order</th>\n",
              "      <th>PID</th>\n",
              "      <th>MS SubClass</th>\n",
              "      <th>MS Zoning</th>\n",
              "      <th>Lot Frontage</th>\n",
              "      <th>Lot Area</th>\n",
              "      <th>Street</th>\n",
              "      <th>Alley</th>\n",
              "      <th>Lot Shape</th>\n",
              "      <th>Land Contour</th>\n",
              "      <th>...</th>\n",
              "      <th>Pool Area</th>\n",
              "      <th>Pool QC</th>\n",
              "      <th>Fence</th>\n",
              "      <th>Misc Feature</th>\n",
              "      <th>Misc Val</th>\n",
              "      <th>Mo Sold</th>\n",
              "      <th>Yr Sold</th>\n",
              "      <th>Sale Type</th>\n",
              "      <th>Sale Condition</th>\n",
              "      <th>SalePrice</th>\n",
              "    </tr>\n",
              "  </thead>\n",
              "  <tbody>\n",
              "    <tr>\n",
              "      <th>2926</th>\n",
              "      <td>2926</td>\n",
              "      <td>923275080</td>\n",
              "      <td>80</td>\n",
              "      <td>RL</td>\n",
              "      <td>37.0</td>\n",
              "      <td>7937</td>\n",
              "      <td>Pave</td>\n",
              "      <td>NaN</td>\n",
              "      <td>IR1</td>\n",
              "      <td>Lvl</td>\n",
              "      <td>...</td>\n",
              "      <td>0</td>\n",
              "      <td>NaN</td>\n",
              "      <td>GdPrv</td>\n",
              "      <td>NaN</td>\n",
              "      <td>0</td>\n",
              "      <td>3</td>\n",
              "      <td>2006</td>\n",
              "      <td>WD</td>\n",
              "      <td>Normal</td>\n",
              "      <td>142500</td>\n",
              "    </tr>\n",
              "    <tr>\n",
              "      <th>2927</th>\n",
              "      <td>2927</td>\n",
              "      <td>923276100</td>\n",
              "      <td>20</td>\n",
              "      <td>RL</td>\n",
              "      <td>68.0</td>\n",
              "      <td>8885</td>\n",
              "      <td>Pave</td>\n",
              "      <td>NaN</td>\n",
              "      <td>IR1</td>\n",
              "      <td>Low</td>\n",
              "      <td>...</td>\n",
              "      <td>0</td>\n",
              "      <td>NaN</td>\n",
              "      <td>MnPrv</td>\n",
              "      <td>NaN</td>\n",
              "      <td>0</td>\n",
              "      <td>6</td>\n",
              "      <td>2006</td>\n",
              "      <td>WD</td>\n",
              "      <td>Normal</td>\n",
              "      <td>131000</td>\n",
              "    </tr>\n",
              "    <tr>\n",
              "      <th>2928</th>\n",
              "      <td>2928</td>\n",
              "      <td>923400125</td>\n",
              "      <td>85</td>\n",
              "      <td>RL</td>\n",
              "      <td>62.0</td>\n",
              "      <td>10441</td>\n",
              "      <td>Pave</td>\n",
              "      <td>NaN</td>\n",
              "      <td>Reg</td>\n",
              "      <td>Lvl</td>\n",
              "      <td>...</td>\n",
              "      <td>0</td>\n",
              "      <td>NaN</td>\n",
              "      <td>MnPrv</td>\n",
              "      <td>Shed</td>\n",
              "      <td>700</td>\n",
              "      <td>7</td>\n",
              "      <td>2006</td>\n",
              "      <td>WD</td>\n",
              "      <td>Normal</td>\n",
              "      <td>132000</td>\n",
              "    </tr>\n",
              "    <tr>\n",
              "      <th>2929</th>\n",
              "      <td>2929</td>\n",
              "      <td>924100070</td>\n",
              "      <td>20</td>\n",
              "      <td>RL</td>\n",
              "      <td>77.0</td>\n",
              "      <td>10010</td>\n",
              "      <td>Pave</td>\n",
              "      <td>NaN</td>\n",
              "      <td>Reg</td>\n",
              "      <td>Lvl</td>\n",
              "      <td>...</td>\n",
              "      <td>0</td>\n",
              "      <td>NaN</td>\n",
              "      <td>NaN</td>\n",
              "      <td>NaN</td>\n",
              "      <td>0</td>\n",
              "      <td>4</td>\n",
              "      <td>2006</td>\n",
              "      <td>WD</td>\n",
              "      <td>Normal</td>\n",
              "      <td>170000</td>\n",
              "    </tr>\n",
              "    <tr>\n",
              "      <th>2930</th>\n",
              "      <td>2930</td>\n",
              "      <td>924151050</td>\n",
              "      <td>60</td>\n",
              "      <td>RL</td>\n",
              "      <td>74.0</td>\n",
              "      <td>9627</td>\n",
              "      <td>Pave</td>\n",
              "      <td>NaN</td>\n",
              "      <td>Reg</td>\n",
              "      <td>Lvl</td>\n",
              "      <td>...</td>\n",
              "      <td>0</td>\n",
              "      <td>NaN</td>\n",
              "      <td>NaN</td>\n",
              "      <td>NaN</td>\n",
              "      <td>0</td>\n",
              "      <td>11</td>\n",
              "      <td>2006</td>\n",
              "      <td>WD</td>\n",
              "      <td>Normal</td>\n",
              "      <td>188000</td>\n",
              "    </tr>\n",
              "  </tbody>\n",
              "</table>\n",
              "<p>5 rows × 82 columns</p>\n",
              "</div>\n",
              "      <button class=\"colab-df-convert\" onclick=\"convertToInteractive('df-85502741-c8d8-4a55-9577-cea2956f591e')\"\n",
              "              title=\"Convert this dataframe to an interactive table.\"\n",
              "              style=\"display:none;\">\n",
              "        \n",
              "  <svg xmlns=\"http://www.w3.org/2000/svg\" height=\"24px\"viewBox=\"0 0 24 24\"\n",
              "       width=\"24px\">\n",
              "    <path d=\"M0 0h24v24H0V0z\" fill=\"none\"/>\n",
              "    <path d=\"M18.56 5.44l.94 2.06.94-2.06 2.06-.94-2.06-.94-.94-2.06-.94 2.06-2.06.94zm-11 1L8.5 8.5l.94-2.06 2.06-.94-2.06-.94L8.5 2.5l-.94 2.06-2.06.94zm10 10l.94 2.06.94-2.06 2.06-.94-2.06-.94-.94-2.06-.94 2.06-2.06.94z\"/><path d=\"M17.41 7.96l-1.37-1.37c-.4-.4-.92-.59-1.43-.59-.52 0-1.04.2-1.43.59L10.3 9.45l-7.72 7.72c-.78.78-.78 2.05 0 2.83L4 21.41c.39.39.9.59 1.41.59.51 0 1.02-.2 1.41-.59l7.78-7.78 2.81-2.81c.8-.78.8-2.07 0-2.86zM5.41 20L4 18.59l7.72-7.72 1.47 1.35L5.41 20z\"/>\n",
              "  </svg>\n",
              "      </button>\n",
              "      \n",
              "  <style>\n",
              "    .colab-df-container {\n",
              "      display:flex;\n",
              "      flex-wrap:wrap;\n",
              "      gap: 12px;\n",
              "    }\n",
              "\n",
              "    .colab-df-convert {\n",
              "      background-color: #E8F0FE;\n",
              "      border: none;\n",
              "      border-radius: 50%;\n",
              "      cursor: pointer;\n",
              "      display: none;\n",
              "      fill: #1967D2;\n",
              "      height: 32px;\n",
              "      padding: 0 0 0 0;\n",
              "      width: 32px;\n",
              "    }\n",
              "\n",
              "    .colab-df-convert:hover {\n",
              "      background-color: #E2EBFA;\n",
              "      box-shadow: 0px 1px 2px rgba(60, 64, 67, 0.3), 0px 1px 3px 1px rgba(60, 64, 67, 0.15);\n",
              "      fill: #174EA6;\n",
              "    }\n",
              "\n",
              "    [theme=dark] .colab-df-convert {\n",
              "      background-color: #3B4455;\n",
              "      fill: #D2E3FC;\n",
              "    }\n",
              "\n",
              "    [theme=dark] .colab-df-convert:hover {\n",
              "      background-color: #434B5C;\n",
              "      box-shadow: 0px 1px 3px 1px rgba(0, 0, 0, 0.15);\n",
              "      filter: drop-shadow(0px 1px 2px rgba(0, 0, 0, 0.3));\n",
              "      fill: #FFFFFF;\n",
              "    }\n",
              "  </style>\n",
              "\n",
              "      <script>\n",
              "        const buttonEl =\n",
              "          document.querySelector('#df-85502741-c8d8-4a55-9577-cea2956f591e button.colab-df-convert');\n",
              "        buttonEl.style.display =\n",
              "          google.colab.kernel.accessAllowed ? 'block' : 'none';\n",
              "\n",
              "        async function convertToInteractive(key) {\n",
              "          const element = document.querySelector('#df-85502741-c8d8-4a55-9577-cea2956f591e');\n",
              "          const dataTable =\n",
              "            await google.colab.kernel.invokeFunction('convertToInteractive',\n",
              "                                                     [key], {});\n",
              "          if (!dataTable) return;\n",
              "\n",
              "          const docLinkHtml = 'Like what you see? Visit the ' +\n",
              "            '<a target=\"_blank\" href=https://colab.research.google.com/notebooks/data_table.ipynb>data table notebook</a>'\n",
              "            + ' to learn more about interactive tables.';\n",
              "          element.innerHTML = '';\n",
              "          dataTable['output_type'] = 'display_data';\n",
              "          await google.colab.output.renderOutput(dataTable, element);\n",
              "          const docLink = document.createElement('div');\n",
              "          docLink.innerHTML = docLinkHtml;\n",
              "          element.appendChild(docLink);\n",
              "        }\n",
              "      </script>\n",
              "    </div>\n",
              "  </div>\n",
              "  "
            ]
          },
          "metadata": {},
          "execution_count": 42
        }
      ],
      "source": [
        "housing.tail()"
      ]
    },
    {
      "cell_type": "markdown",
      "metadata": {
        "id": "lLOcYLBfKWIs"
      },
      "source": [
        "Index# 2927, containing a missing value in the \"Lot Frontage\", now has been replaced with the median value.\n"
      ]
    },
    {
      "cell_type": "markdown",
      "metadata": {
        "id": "dJnTAdNwKWIt"
      },
      "source": [
        "## Exercise 4\n"
      ]
    },
    {
      "cell_type": "markdown",
      "metadata": {
        "id": "LFktdoDAKWIt"
      },
      "source": [
        "In this exercise, let's look at 'Mas Vnr Area' feature and replace the missing values with the mean value of that column.\n"
      ]
    },
    {
      "cell_type": "code",
      "execution_count": null,
      "metadata": {
        "colab": {
          "base_uri": "https://localhost:8080/"
        },
        "id": "OsOH4Q1rKWIu",
        "outputId": "f6c774e2-f3f4-401c-9f6b-694839720122"
      },
      "outputs": [
        {
          "output_type": "execute_result",
          "data": {
            "text/plain": [
              "101.9002751031637"
            ]
          },
          "metadata": {},
          "execution_count": 44
        }
      ],
      "source": [
        "# Enter your code and run the cell\n",
        "mean = housing[\"Mas Vnr Area\"].mean();\n",
        "mean"
      ]
    },
    {
      "cell_type": "code",
      "source": [
        "housing[\"Mas Vnr Area\"].fillna(mean, inplace = True)"
      ],
      "metadata": {
        "id": "85PhiwTGakZ3"
      },
      "execution_count": null,
      "outputs": []
    },
    {
      "cell_type": "markdown",
      "metadata": {
        "id": "_4dQLGimKWIv"
      },
      "source": [
        "<details>\n",
        "<summary><strong>Solution</strong> (Click Here)</summary>\n",
        "    &emsp; &emsp; <code>\n",
        "mean = housing[\"Mas Vnr Area\"].mean()\n",
        "housing[\"Mas Vnr Area\"].fillna(mean, inplace = True)   \n",
        "</code>\n",
        "</details>\n"
      ]
    },
    {
      "cell_type": "markdown",
      "metadata": {
        "id": "FamqG4hyKWIv"
      },
      "source": [
        "## **Feature Scaling**\n"
      ]
    },
    {
      "cell_type": "markdown",
      "metadata": {
        "id": "Fo95RWRdKWIw"
      },
      "source": [
        "One of the most important transformations we need to apply to our data is feature scaling.  There are two common ways to get all attributes to have the same scale: min-max scaling and standardization.\n",
        "\n",
        "Min-max scaling (or normalization) is the simplest: values are shifted and rescaled so they end up ranging from 0 to 1. This is done by subtracting the min value and dividing by the max minus min.\n",
        "\n",
        "Standardization is different: first it subtracts the mean value (so standardized values always have a zero mean), and then it divides by the standard deviation, so that the resulting distribution has unit variance.\n"
      ]
    },
    {
      "cell_type": "markdown",
      "metadata": {
        "id": "L5_NBV7lKWIx"
      },
      "source": [
        "Scikit-learn library provides `MinMaxScaler` for normalization and `StandardScaler` for standardization needs. For more information on `scikit-learn` [`MinMaxScaler`](https://scikit-learn.org/stable/modules/generated/sklearn.preprocessing.MinMaxScaler.html?utm_medium=Exinfluencer&utm_source=Exinfluencer&utm_content=000026UJ&utm_term=10006555&utm_id=NA-SkillsNetwork-Channel-SkillsNetworkCoursesIBMML0232ENSkillsNetwork30654641-2022-01-01) and [`StandardScaler`](https://scikit-learn.org/stable/modules/generated/sklearn.preprocessing.StandardScaler.html?utm_medium=Exinfluencer&utm_source=Exinfluencer&utm_content=000026UJ&utm_term=10006555&utm_id=NA-SkillsNetwork-Channel-SkillsNetworkCoursesIBMML0232ENSkillsNetwork30654641-2022-01-01) please visit their respective documentation websites.\n"
      ]
    },
    {
      "cell_type": "markdown",
      "metadata": {
        "id": "DmNsrdd2KWIy"
      },
      "source": [
        "First, we will normalize our data.\n"
      ]
    },
    {
      "cell_type": "code",
      "execution_count": null,
      "metadata": {
        "colab": {
          "base_uri": "https://localhost:8080/"
        },
        "id": "S9xjwMJWKWIz",
        "outputId": "15bf58a3-ce7b-4c66-c6e7-52fe08dbf2be"
      },
      "outputs": [
        {
          "output_type": "execute_result",
          "data": {
            "text/plain": [
              "array([[0.00000000e+00, 0.00000000e+00, 0.00000000e+00, ...,\n",
              "        3.63636364e-01, 1.00000000e+00, 2.72444089e-01],\n",
              "       [0.00000000e+00, 0.00000000e+00, 0.00000000e+00, ...,\n",
              "        3.63636364e-01, 1.00000000e+00, 2.72444089e-01],\n",
              "       [3.41413452e-04, 1.01788895e-04, 0.00000000e+00, ...,\n",
              "        4.54545455e-01, 1.00000000e+00, 1.24238256e-01],\n",
              "       ...,\n",
              "       [9.99317173e-01, 8.25914814e-01, 3.82352941e-01, ...,\n",
              "        5.45454545e-01, 0.00000000e+00, 1.60616051e-01],\n",
              "       [9.99658587e-01, 8.27370610e-01, 0.00000000e+00, ...,\n",
              "        2.72727273e-01, 0.00000000e+00, 2.11814430e-01],\n",
              "       [1.00000000e+00, 8.27476641e-01, 2.35294118e-01, ...,\n",
              "        9.09090909e-01, 0.00000000e+00, 2.36066294e-01]])"
            ]
          },
          "metadata": {},
          "execution_count": 46
        }
      ],
      "source": [
        "norm_data = MinMaxScaler().fit_transform(hous_num)\n",
        "norm_data"
      ]
    },
    {
      "cell_type": "markdown",
      "metadata": {
        "id": "xalN65pUKWI0"
      },
      "source": [
        "Note the data is now a `ndarray`\n"
      ]
    },
    {
      "cell_type": "markdown",
      "metadata": {
        "id": "GgwOGRunKWI1"
      },
      "source": [
        "we can also standardize our data.\n"
      ]
    },
    {
      "cell_type": "code",
      "execution_count": null,
      "metadata": {
        "colab": {
          "base_uri": "https://localhost:8080/"
        },
        "id": "_COgzxE8KWI2",
        "outputId": "af7b488b-6891-4c30-b30c-2bad38268689"
      },
      "outputs": [
        {
          "output_type": "execute_result",
          "data": {
            "text/plain": [
              "array([[-1.73027969, -0.99682434, -0.87674019, ..., -0.44796566,\n",
              "         1.67740664,  0.4281423 ],\n",
              "       [-1.73027969, -0.99682434, -0.87674019, ..., -0.44796566,\n",
              "         1.67740664,  0.4281423 ],\n",
              "       [-1.72909781, -0.99656498, -0.87674019, ..., -0.07945953,\n",
              "         1.67740664, -0.94923488],\n",
              "       ...,\n",
              "       [ 1.729097  ,  1.10758639,  0.64804102, ...,  0.2890466 ,\n",
              "        -1.36026952, -0.61115139],\n",
              "       [ 1.73027889,  1.11129572, -0.87674019, ..., -0.81647179,\n",
              "        -1.36026952, -0.13533019],\n",
              "       [ 1.73146077,  1.11156589,  0.06158671, ...,  1.76307112,\n",
              "        -1.36026952,  0.09005881]])"
            ]
          },
          "metadata": {},
          "execution_count": 47
        }
      ],
      "source": [
        "scaled_data = StandardScaler().fit_transform(hous_num)\n",
        "scaled_data"
      ]
    },
    {
      "cell_type": "markdown",
      "metadata": {
        "id": "HZ-1IOWaKWI2"
      },
      "source": [
        "## Exercise 5\n"
      ]
    },
    {
      "cell_type": "markdown",
      "metadata": {
        "id": "18QrgervKWI3"
      },
      "source": [
        "In this exercise, use `StandardScaler()` and `fit_transform()` functions to standardize the 'SalePrice' feature only.\n"
      ]
    },
    {
      "cell_type": "code",
      "execution_count": null,
      "metadata": {
        "colab": {
          "base_uri": "https://localhost:8080/"
        },
        "id": "B6FzwRuPKWI3",
        "outputId": "a5109d85-0717-43c3-c8d0-359d3bd8d631"
      },
      "outputs": [
        {
          "output_type": "execute_result",
          "data": {
            "text/plain": [
              "array([[ 0.4281423 ],\n",
              "       [ 0.4281423 ],\n",
              "       [-0.94923488],\n",
              "       ...,\n",
              "       [-0.61115139],\n",
              "       [-0.13533019],\n",
              "       [ 0.09005881]])"
            ]
          },
          "metadata": {},
          "execution_count": 48
        }
      ],
      "source": [
        "# Enter your code and run the cell\n",
        "scaled_sprice = StandardScaler().fit_transform(housing['SalePrice'][:,np.newaxis]) \n",
        "scaled_sprice"
      ]
    },
    {
      "cell_type": "markdown",
      "metadata": {
        "id": "yGqbM6-7KWI4"
      },
      "source": [
        "<details>\n",
        "<summary><strong>Solution</strong> (Click Here)</summary>\n",
        "    &emsp; &emsp; <code>\n",
        "scaled_sprice = StandardScaler().fit_transform(housing['SalePrice'][:,np.newaxis]) \n",
        "scaled_sprice\n",
        "</code>\n",
        "</details>\n"
      ]
    },
    {
      "cell_type": "markdown",
      "metadata": {
        "id": "j6_lRI98KWI5"
      },
      "source": [
        "## **Handling the Outliers**\n"
      ]
    },
    {
      "cell_type": "markdown",
      "metadata": {
        "id": "4mLaoyOLKWI7"
      },
      "source": [
        "### Finding the Outliers\n"
      ]
    },
    {
      "cell_type": "markdown",
      "metadata": {
        "id": "IRPa_V1TKWI8"
      },
      "source": [
        "In statistics, an outlier is an observation point that is distant from other observations. An outlier can be due to some mistakes in data collection or recording, or due to natural high variability of data points. How to treat an outlier highly depends on our data or the type of analysis to be performed. Outliers can markedly affect our models and can be a valuable source of information, providing us insights about specific behaviours.\n",
        "\n",
        "There are many ways to discover outliers in our data. We can do Uni-variate analysis (using one variable analysis) or Multi-variate analysis (using two or more variables). One of the simplest ways to detect an outlier is to inspect the data visually, by making box plots or scatter plots.\n"
      ]
    },
    {
      "cell_type": "markdown",
      "metadata": {
        "id": "RpMTVmujKWI9"
      },
      "source": [
        "### Uni-variate Analysis\n"
      ]
    },
    {
      "cell_type": "markdown",
      "metadata": {
        "id": "w99C6Xj0KWI-"
      },
      "source": [
        "A box plot is a method for graphically depicting groups of numerical data through their quartiles. Box plots may also have lines extending vertically from the boxes (whiskers) indicating variability outside the upper and lower quartiles. Outliers may be plotted as individual points. To learn more about box plots please click [here](https://pandas.pydata.org/docs/reference/api/pandas.DataFrame.boxplot.html?utm_medium=Exinfluencer&utm_source=Exinfluencer&utm_content=000026UJ&utm_term=10006555&utm_id=NA-SkillsNetwork-Channel-SkillsNetworkCoursesIBMML0232ENSkillsNetwork30654641-2022-01-01).\n"
      ]
    },
    {
      "cell_type": "markdown",
      "metadata": {
        "id": "EoOyPhHqKWI_"
      },
      "source": [
        "Here, we will use a box plot for the 'Lot Area' and the 'SalePrice' features.\n"
      ]
    },
    {
      "cell_type": "code",
      "execution_count": null,
      "metadata": {
        "colab": {
          "base_uri": "https://localhost:8080/",
          "height": 296
        },
        "id": "5HlVAd2uKWI_",
        "outputId": "ebb9a560-9637-4f92-d2a6-42bc8372544e"
      },
      "outputs": [
        {
          "output_type": "execute_result",
          "data": {
            "text/plain": [
              "<matplotlib.axes._subplots.AxesSubplot at 0x7fbce005d970>"
            ]
          },
          "metadata": {},
          "execution_count": 49
        },
        {
          "output_type": "display_data",
          "data": {
            "text/plain": [
              "<Figure size 432x288 with 1 Axes>"
            ],
            "image/png": "[encoded data removed]"
          },
          "metadata": {
            "needs_background": "light"
          }
        }
      ],
      "source": [
        "sns.boxplot(x=housing['Lot Area'])"
      ]
    },
    {
      "cell_type": "code",
      "execution_count": null,
      "metadata": {
        "colab": {
          "base_uri": "https://localhost:8080/",
          "height": 296
        },
        "id": "yPTb5PylKWJB",
        "outputId": "0d885f85-4697-4d83-d5be-01e4c021cf76"
      },
      "outputs": [
        {
          "output_type": "execute_result",
          "data": {
            "text/plain": [
              "<matplotlib.axes._subplots.AxesSubplot at 0x7fbcdff579d0>"
            ]
          },
          "metadata": {},
          "execution_count": 50
        },
        {
          "output_type": "display_data",
          "data": {
            "text/plain": [
              "<Figure size 432x288 with 1 Axes>"
            ],
            "image/png": "[encoded data removed]"
          },
          "metadata": {
            "needs_background": "light"
          }
        }
      ],
      "source": [
        "sns.boxplot(x=housing['SalePrice'])"
      ]
    },
    {
      "cell_type": "markdown",
      "metadata": {
        "id": "KFbLiPtXKWJD"
      },
      "source": [
        "As we can see from these two plots, we have some points that are plotted outside the box plot area and that greatly deviate from the rest of the population. Whether to remove or keep them will greatly depend on the understanding of our data and the type of analysis to be performed. In this case, the points that are outside of our box plots in the 'Lot Area' and the 'Sale Price' might be the actual true data points and do not need to be removed.\n"
      ]
    },
    {
      "cell_type": "markdown",
      "metadata": {
        "id": "w6wsD-fkKWJE"
      },
      "source": [
        "### Bi-variate Analysis\n"
      ]
    },
    {
      "cell_type": "markdown",
      "metadata": {
        "id": "zEaWjOmwKWJF"
      },
      "source": [
        "Next, we will look at the bi-variate analysis of the two features, the sale price, 'SalePrice', and the ground living area, 'GrLivArea', and plot the scatter plot of the relationship between these two parameters.\n"
      ]
    },
    {
      "cell_type": "code",
      "execution_count": null,
      "metadata": {
        "colab": {
          "base_uri": "https://localhost:8080/",
          "height": 279
        },
        "id": "ZRJAocG5KWJG",
        "outputId": "febe24cd-1b17-4ea1-80ff-8b63cdc74c2b"
      },
      "outputs": [
        {
          "output_type": "display_data",
          "data": {
            "text/plain": [
              "<Figure size 432x288 with 1 Axes>"
            ],
            "image/png": "[encoded data removed]"
          },
          "metadata": {
            "needs_background": "light"
          }
        }
      ],
      "source": [
        "price_area = housing.plot.scatter(x='Gr Liv Area',\n",
        "                      y='SalePrice')"
      ]
    },
    {
      "cell_type": "markdown",
      "metadata": {
        "id": "Z2QDXlGiKWJH"
      },
      "source": [
        "From the above graph, there are two values above 5000 sq. ft. living area that deviate from the rest of the population and do not seem to follow the trend. It can be speculated why this is happening but for the purpose of this lab we can delete them.\n",
        "\n",
        "The other two observations on the top are also deviating from the rest of the points but they also seem to be following the trend, so, perhaps, they can be kept.\n"
      ]
    },
    {
      "cell_type": "markdown",
      "metadata": {
        "id": "drqcs_sZKWJH"
      },
      "source": [
        "### Deleting the Outliers\n"
      ]
    },
    {
      "cell_type": "markdown",
      "metadata": {
        "id": "OvUpGlliKWJI"
      },
      "source": [
        "First, we will sort all of our 'Gr Liv Area' values and select only the last two.\n"
      ]
    },
    {
      "cell_type": "code",
      "execution_count": null,
      "metadata": {
        "colab": {
          "base_uri": "https://localhost:8080/",
          "height": 223
        },
        "id": "2nw0_N22KWJJ",
        "outputId": "b38c5939-c35a-4fac-dcbe-747c60c96511"
      },
      "outputs": [
        {
          "output_type": "execute_result",
          "data": {
            "text/plain": [
              "      Order        PID  MS SubClass MS Zoning  Lot Frontage  Lot Area Street  \\\n",
              "1499   1499  908154235           60        RL         313.0     63887   Pave   \n",
              "2181   2181  908154195           20        RL         128.0     39290   Pave   \n",
              "\n",
              "     Alley Lot Shape Land Contour  ... Pool Area Pool QC Fence Misc Feature  \\\n",
              "1499   NaN       IR3          Bnk  ...       480      Gd   NaN          NaN   \n",
              "2181   NaN       IR1          Bnk  ...         0     NaN   NaN         Elev   \n",
              "\n",
              "     Misc Val Mo Sold Yr Sold Sale Type  Sale Condition  SalePrice  \n",
              "1499        0       1    2008       New         Partial     160000  \n",
              "2181    17000      10    2007       New         Partial     183850  \n",
              "\n",
              "[2 rows x 82 columns]"
            ],
            "text/html": [
              "\n",
              "  <div id=\"df-a9ba1955-75f8-4815-8ddc-ef6a7cab27d0\">\n",
              "    <div class=\"colab-df-container\">\n",
              "      <div>\n",
              "<style scoped>\n",
              "    .dataframe tbody tr th:only-of-type {\n",
              "        vertical-align: middle;\n",
              "    }\n",
              "\n",
              "    .dataframe tbody tr th {\n",
              "        vertical-align: top;\n",
              "    }\n",
              "\n",
              "    .dataframe thead th {\n",
              "        text-align: right;\n",
              "    }\n",
              "</style>\n",
              "<table border=\"1\" class=\"dataframe\">\n",
              "  <thead>\n",
              "    <tr style=\"text-align: right;\">\n",
              "      <th></th>\n",
              "      <th>Order</th>\n",
              "      <th>PID</th>\n",
              "      <th>MS SubClass</th>\n",
              "      <th>MS Zoning</th>\n",
              "      <th>Lot Frontage</th>\n",
              "      <th>Lot Area</th>\n",
              "      <th>Street</th>\n",
              "      <th>Alley</th>\n",
              "      <th>Lot Shape</th>\n",
              "      <th>Land Contour</th>\n",
              "      <th>...</th>\n",
              "      <th>Pool Area</th>\n",
              "      <th>Pool QC</th>\n",
              "      <th>Fence</th>\n",
              "      <th>Misc Feature</th>\n",
              "      <th>Misc Val</th>\n",
              "      <th>Mo Sold</th>\n",
              "      <th>Yr Sold</th>\n",
              "      <th>Sale Type</th>\n",
              "      <th>Sale Condition</th>\n",
              "      <th>SalePrice</th>\n",
              "    </tr>\n",
              "  </thead>\n",
              "  <tbody>\n",
              "    <tr>\n",
              "      <th>1499</th>\n",
              "      <td>1499</td>\n",
              "      <td>908154235</td>\n",
              "      <td>60</td>\n",
              "      <td>RL</td>\n",
              "      <td>313.0</td>\n",
              "      <td>63887</td>\n",
              "      <td>Pave</td>\n",
              "      <td>NaN</td>\n",
              "      <td>IR3</td>\n",
              "      <td>Bnk</td>\n",
              "      <td>...</td>\n",
              "      <td>480</td>\n",
              "      <td>Gd</td>\n",
              "      <td>NaN</td>\n",
              "      <td>NaN</td>\n",
              "      <td>0</td>\n",
              "      <td>1</td>\n",
              "      <td>2008</td>\n",
              "      <td>New</td>\n",
              "      <td>Partial</td>\n",
              "      <td>160000</td>\n",
              "    </tr>\n",
              "    <tr>\n",
              "      <th>2181</th>\n",
              "      <td>2181</td>\n",
              "      <td>908154195</td>\n",
              "      <td>20</td>\n",
              "      <td>RL</td>\n",
              "      <td>128.0</td>\n",
              "      <td>39290</td>\n",
              "      <td>Pave</td>\n",
              "      <td>NaN</td>\n",
              "      <td>IR1</td>\n",
              "      <td>Bnk</td>\n",
              "      <td>...</td>\n",
              "      <td>0</td>\n",
              "      <td>NaN</td>\n",
              "      <td>NaN</td>\n",
              "      <td>Elev</td>\n",
              "      <td>17000</td>\n",
              "      <td>10</td>\n",
              "      <td>2007</td>\n",
              "      <td>New</td>\n",
              "      <td>Partial</td>\n",
              "      <td>183850</td>\n",
              "    </tr>\n",
              "  </tbody>\n",
              "</table>\n",
              "<p>2 rows × 82 columns</p>\n",
              "</div>\n",
              "      <button class=\"colab-df-convert\" onclick=\"convertToInteractive('df-a9ba1955-75f8-4815-8ddc-ef6a7cab27d0')\"\n",
              "              title=\"Convert this dataframe to an interactive table.\"\n",
              "              style=\"display:none;\">\n",
              "        \n",
              "  <svg xmlns=\"http://www.w3.org/2000/svg\" height=\"24px\"viewBox=\"0 0 24 24\"\n",
              "       width=\"24px\">\n",
              "    <path d=\"M0 0h24v24H0V0z\" fill=\"none\"/>\n",
              "    <path d=\"M18.56 5.44l.94 2.06.94-2.06 2.06-.94-2.06-.94-.94-2.06-.94 2.06-2.06.94zm-11 1L8.5 8.5l.94-2.06 2.06-.94-2.06-.94L8.5 2.5l-.94 2.06-2.06.94zm10 10l.94 2.06.94-2.06 2.06-.94-2.06-.94-.94-2.06-.94 2.06-2.06.94z\"/><path d=\"M17.41 7.96l-1.37-1.37c-.4-.4-.92-.59-1.43-.59-.52 0-1.04.2-1.43.59L10.3 9.45l-7.72 7.72c-.78.78-.78 2.05 0 2.83L4 21.41c.39.39.9.59 1.41.59.51 0 1.02-.2 1.41-.59l7.78-7.78 2.81-2.81c.8-.78.8-2.07 0-2.86zM5.41 20L4 18.59l7.72-7.72 1.47 1.35L5.41 20z\"/>\n",
              "  </svg>\n",
              "      </button>\n",
              "      \n",
              "  <style>\n",
              "    .colab-df-container {\n",
              "      display:flex;\n",
              "      flex-wrap:wrap;\n",
              "      gap: 12px;\n",
              "    }\n",
              "\n",
              "    .colab-df-convert {\n",
              "      background-color: #E8F0FE;\n",
              "      border: none;\n",
              "      border-radius: 50%;\n",
              "      cursor: pointer;\n",
              "      display: none;\n",
              "      fill: #1967D2;\n",
              "      height: 32px;\n",
              "      padding: 0 0 0 0;\n",
              "      width: 32px;\n",
              "    }\n",
              "\n",
              "    .colab-df-convert:hover {\n",
              "      background-color: #E2EBFA;\n",
              "      box-shadow: 0px 1px 2px rgba(60, 64, 67, 0.3), 0px 1px 3px 1px rgba(60, 64, 67, 0.15);\n",
              "      fill: #174EA6;\n",
              "    }\n",
              "\n",
              "    [theme=dark] .colab-df-convert {\n",
              "      background-color: #3B4455;\n",
              "      fill: #D2E3FC;\n",
              "    }\n",
              "\n",
              "    [theme=dark] .colab-df-convert:hover {\n",
              "      background-color: #434B5C;\n",
              "      box-shadow: 0px 1px 3px 1px rgba(0, 0, 0, 0.15);\n",
              "      filter: drop-shadow(0px 1px 2px rgba(0, 0, 0, 0.3));\n",
              "      fill: #FFFFFF;\n",
              "    }\n",
              "  </style>\n",
              "\n",
              "      <script>\n",
              "        const buttonEl =\n",
              "          document.querySelector('#df-a9ba1955-75f8-4815-8ddc-ef6a7cab27d0 button.colab-df-convert');\n",
              "        buttonEl.style.display =\n",
              "          google.colab.kernel.accessAllowed ? 'block' : 'none';\n",
              "\n",
              "        async function convertToInteractive(key) {\n",
              "          const element = document.querySelector('#df-a9ba1955-75f8-4815-8ddc-ef6a7cab27d0');\n",
              "          const dataTable =\n",
              "            await google.colab.kernel.invokeFunction('convertToInteractive',\n",
              "                                                     [key], {});\n",
              "          if (!dataTable) return;\n",
              "\n",
              "          const docLinkHtml = 'Like what you see? Visit the ' +\n",
              "            '<a target=\"_blank\" href=https://colab.research.google.com/notebooks/data_table.ipynb>data table notebook</a>'\n",
              "            + ' to learn more about interactive tables.';\n",
              "          element.innerHTML = '';\n",
              "          dataTable['output_type'] = 'display_data';\n",
              "          await google.colab.output.renderOutput(dataTable, element);\n",
              "          const docLink = document.createElement('div');\n",
              "          docLink.innerHTML = docLinkHtml;\n",
              "          element.appendChild(docLink);\n",
              "        }\n",
              "      </script>\n",
              "    </div>\n",
              "  </div>\n",
              "  "
            ]
          },
          "metadata": {},
          "execution_count": 52
        }
      ],
      "source": [
        "housing.sort_values(by = 'Gr Liv Area', ascending = False)[:2]"
      ]
    },
    {
      "cell_type": "markdown",
      "metadata": {
        "id": "fqWgDFAMKWJK"
      },
      "source": [
        "Now we will use the pandas `drop()` function to remove these two rows.\n"
      ]
    },
    {
      "cell_type": "code",
      "execution_count": null,
      "metadata": {
        "id": "BTSwyA3-KWJK"
      },
      "outputs": [],
      "source": [
        "outliers_dropped = housing.drop(housing.index[[1499,2181]])"
      ]
    },
    {
      "cell_type": "code",
      "execution_count": null,
      "metadata": {
        "colab": {
          "base_uri": "https://localhost:8080/",
          "height": 279
        },
        "id": "xaWLQY3aKWJL",
        "outputId": "6edb258a-3f0d-4730-904d-abda66b2db10"
      },
      "outputs": [
        {
          "output_type": "display_data",
          "data": {
            "text/plain": [
              "<Figure size 432x288 with 1 Axes>"
            ],
            "image/png": "[encoded data removed]"
          },
          "metadata": {
            "needs_background": "light"
          }
        }
      ],
      "source": [
        "new_plot = outliers_dropped.plot.scatter(x='Gr Liv Area',\n",
        "                                         y='SalePrice')"
      ]
    },
    {
      "cell_type": "markdown",
      "metadata": {
        "id": "27_NUoTSKWJM"
      },
      "source": [
        "As you can see, we do not have the last two points of the 'Gr Liv Area' anymore.\n"
      ]
    },
    {
      "cell_type": "markdown",
      "metadata": {
        "id": "ef8rru75KWJN"
      },
      "source": [
        "## Exercise 6\n"
      ]
    },
    {
      "cell_type": "markdown",
      "metadata": {
        "id": "LniwR21gKWJO"
      },
      "source": [
        "In this exercise, determine whether there are any outliers in the 'Lot Area' feature. You can either plot the box plot for the 'Lot Area', perform a bi-variate analysis by making a scatter plot between the 'SalePrice' and the 'Lot Area', or use the Z-score analysis. If there re any outliers, remove them from the dataset.\n"
      ]
    },
    {
      "cell_type": "code",
      "execution_count": null,
      "metadata": {
        "colab": {
          "base_uri": "https://localhost:8080/",
          "height": 541
        },
        "id": "SReEFy-lKWJP",
        "outputId": "fdbb0e42-e527-4cab-c54c-fbb36562054e"
      },
      "outputs": [
        {
          "output_type": "display_data",
          "data": {
            "text/plain": [
              "<Figure size 432x288 with 1 Axes>"
            ],
            "image/png": "[encoded data removed]"
          },
          "metadata": {
            "needs_background": "light"
          }
        },
        {
          "output_type": "display_data",
          "data": {
            "text/plain": [
              "<Figure size 432x288 with 1 Axes>"
            ],
            "image/png": "[encoded data removed]"
          },
          "metadata": {
            "needs_background": "light"
          }
        }
      ],
      "source": [
        "# Enter your code and run the cell\n",
        "sns.boxplot(x=housing['Lot Area']) \n",
        "price_lot = housing.plot.scatter(x='Lot Area', y='SalePrice') \n",
        "housing['Lot_Area_Stats'] = stats.zscore(housing['Lot Area']) \n",
        "housing[['Lot Area','Lot_Area_Stats']].describe().round(3) \n",
        "housing.sort_values(by = 'Lot Area', ascending = False)[:1] \n",
        "lot_area_rem = housing.drop(housing.index[[957]])"
      ]
    },
    {
      "cell_type": "markdown",
      "metadata": {
        "id": "ztPQavpUKWJQ"
      },
      "source": [
        "<details>\n",
        "<summary><strong>Solution</strong> (Click Here)</summary>\n",
        "    &emsp; &emsp; <code>\n",
        "sns.boxplot(x=housing['Lot Area'])\n",
        "price_lot = housing.plot.scatter(x='Lot Area', y='SalePrice')   \n",
        "housing['Lot_Area_Stats'] = stats.zscore(housing['Lot Area'])\n",
        "housing[['Lot Area','Lot_Area_Stats']].describe().round(3)\n",
        "housing.sort_values(by = 'Lot Area', ascending = False)[:1]\n",
        "lot_area_rem = housing.drop(housing.index[[957]])\n",
        "</code>\n",
        "</details>\n"
      ]
    },
    {
      "cell_type": "markdown",
      "metadata": {
        "id": "zwPtAqX2KWJR"
      },
      "source": [
        "<details>\n",
        "<summary><strong>Answer</strong> (Click Here)</summary>\n",
        "    &emsp; &emsp; <code>\n",
        "There seems to be one outlier, the very last point in the 'Lot Area' is too far from the rest of the group. Also, according to the Z-score, the standard deviation of that point exceeds the threshhold of 3.\n",
        "</code>\n",
        "</details>\n"
      ]
    },
    {
      "cell_type": "markdown",
      "metadata": {
        "id": "_5vPZGHuKWJS"
      },
      "source": [
        "## Z-score Analysis\n"
      ]
    },
    {
      "cell_type": "markdown",
      "metadata": {
        "id": "H6-SYnIuKWJT"
      },
      "source": [
        "Z-score is another way to identify outliers mathematically. Z-score is the signed number of standard deviations by which the value of an observation or data point is above the mean value of what is being observed or measured. In another words, Z-score is the value that quantifies relationship between a data point and a standard deviation and mean values of a group of points. Data points which are too far from zero will be treated as the outliers. In most of the cases, a threshold of 3 or -3 is used. For example, if the Z-score value is greater than or less than 3 or -3 standard deviations respectively, that data point will be identified as a outlier.\n",
        "\n",
        "To learn more about Z-score, please visit this [Wikipedia](https://en.wikipedia.org/wiki/Standard_score?utm_medium=Exinfluencer&utm_source=Exinfluencer&utm_content=000026UJ&utm_term=10006555&utm_id=NA-SkillsNetwork-Channel-SkillsNetworkCoursesIBMML0232ENSkillsNetwork30654641-2022-01-01) site.\n"
      ]
    },
    {
      "cell_type": "markdown",
      "metadata": {
        "id": "ssa9JcJVKWJT"
      },
      "source": [
        "Below, we are using Z-score function from `scipy` library to detect the outliers in our 'Low Qual Fin SF' parameter. To learn more about `scipy.stats`, please visit this [link](https://docs.scipy.org/doc/scipy/reference/tutorial/stats.html?utm_medium=Exinfluencer&utm_source=Exinfluencer&utm_content=000026UJ&utm_term=10006555&utm_id=NA-SkillsNetwork-Channel-SkillsNetworkCoursesIBMML0232ENSkillsNetwork30654641-2022-01-01).\n"
      ]
    },
    {
      "cell_type": "code",
      "execution_count": null,
      "metadata": {
        "colab": {
          "base_uri": "https://localhost:8080/",
          "height": 300
        },
        "id": "f9YjaOPhKWJU",
        "outputId": "a61738a0-885f-4a47-a188-7ce600dc4ed3"
      },
      "outputs": [
        {
          "output_type": "execute_result",
          "data": {
            "text/plain": [
              "       Low Qual Fin SF  LQFSF_Stats\n",
              "count         2931.000     2931.000\n",
              "mean             4.675       -0.000\n",
              "std             46.303        1.000\n",
              "min              0.000       -0.101\n",
              "25%              0.000       -0.101\n",
              "50%              0.000       -0.101\n",
              "75%              0.000       -0.101\n",
              "max           1064.000       22.882"
            ],
            "text/html": [
              "\n",
              "  <div id=\"df-cd85ed32-4a3d-42e2-b2c6-91962d28ed1e\">\n",
              "    <div class=\"colab-df-container\">\n",
              "      <div>\n",
              "<style scoped>\n",
              "    .dataframe tbody tr th:only-of-type {\n",
              "        vertical-align: middle;\n",
              "    }\n",
              "\n",
              "    .dataframe tbody tr th {\n",
              "        vertical-align: top;\n",
              "    }\n",
              "\n",
              "    .dataframe thead th {\n",
              "        text-align: right;\n",
              "    }\n",
              "</style>\n",
              "<table border=\"1\" class=\"dataframe\">\n",
              "  <thead>\n",
              "    <tr style=\"text-align: right;\">\n",
              "      <th></th>\n",
              "      <th>Low Qual Fin SF</th>\n",
              "      <th>LQFSF_Stats</th>\n",
              "    </tr>\n",
              "  </thead>\n",
              "  <tbody>\n",
              "    <tr>\n",
              "      <th>count</th>\n",
              "      <td>2931.000</td>\n",
              "      <td>2931.000</td>\n",
              "    </tr>\n",
              "    <tr>\n",
              "      <th>mean</th>\n",
              "      <td>4.675</td>\n",
              "      <td>-0.000</td>\n",
              "    </tr>\n",
              "    <tr>\n",
              "      <th>std</th>\n",
              "      <td>46.303</td>\n",
              "      <td>1.000</td>\n",
              "    </tr>\n",
              "    <tr>\n",
              "      <th>min</th>\n",
              "      <td>0.000</td>\n",
              "      <td>-0.101</td>\n",
              "    </tr>\n",
              "    <tr>\n",
              "      <th>25%</th>\n",
              "      <td>0.000</td>\n",
              "      <td>-0.101</td>\n",
              "    </tr>\n",
              "    <tr>\n",
              "      <th>50%</th>\n",
              "      <td>0.000</td>\n",
              "      <td>-0.101</td>\n",
              "    </tr>\n",
              "    <tr>\n",
              "      <th>75%</th>\n",
              "      <td>0.000</td>\n",
              "      <td>-0.101</td>\n",
              "    </tr>\n",
              "    <tr>\n",
              "      <th>max</th>\n",
              "      <td>1064.000</td>\n",
              "      <td>22.882</td>\n",
              "    </tr>\n",
              "  </tbody>\n",
              "</table>\n",
              "</div>\n",
              "      <button class=\"colab-df-convert\" onclick=\"convertToInteractive('df-cd85ed32-4a3d-42e2-b2c6-91962d28ed1e')\"\n",
              "              title=\"Convert this dataframe to an interactive table.\"\n",
              "              style=\"display:none;\">\n",
              "        \n",
              "  <svg xmlns=\"http://www.w3.org/2000/svg\" height=\"24px\"viewBox=\"0 0 24 24\"\n",
              "       width=\"24px\">\n",
              "    <path d=\"M0 0h24v24H0V0z\" fill=\"none\"/>\n",
              "    <path d=\"M18.56 5.44l.94 2.06.94-2.06 2.06-.94-2.06-.94-.94-2.06-.94 2.06-2.06.94zm-11 1L8.5 8.5l.94-2.06 2.06-.94-2.06-.94L8.5 2.5l-.94 2.06-2.06.94zm10 10l.94 2.06.94-2.06 2.06-.94-2.06-.94-.94-2.06-.94 2.06-2.06.94z\"/><path d=\"M17.41 7.96l-1.37-1.37c-.4-.4-.92-.59-1.43-.59-.52 0-1.04.2-1.43.59L10.3 9.45l-7.72 7.72c-.78.78-.78 2.05 0 2.83L4 21.41c.39.39.9.59 1.41.59.51 0 1.02-.2 1.41-.59l7.78-7.78 2.81-2.81c.8-.78.8-2.07 0-2.86zM5.41 20L4 18.59l7.72-7.72 1.47 1.35L5.41 20z\"/>\n",
              "  </svg>\n",
              "      </button>\n",
              "      \n",
              "  <style>\n",
              "    .colab-df-container {\n",
              "      display:flex;\n",
              "      flex-wrap:wrap;\n",
              "      gap: 12px;\n",
              "    }\n",
              "\n",
              "    .colab-df-convert {\n",
              "      background-color: #E8F0FE;\n",
              "      border: none;\n",
              "      border-radius: 50%;\n",
              "      cursor: pointer;\n",
              "      display: none;\n",
              "      fill: #1967D2;\n",
              "      height: 32px;\n",
              "      padding: 0 0 0 0;\n",
              "      width: 32px;\n",
              "    }\n",
              "\n",
              "    .colab-df-convert:hover {\n",
              "      background-color: #E2EBFA;\n",
              "      box-shadow: 0px 1px 2px rgba(60, 64, 67, 0.3), 0px 1px 3px 1px rgba(60, 64, 67, 0.15);\n",
              "      fill: #174EA6;\n",
              "    }\n",
              "\n",
              "    [theme=dark] .colab-df-convert {\n",
              "      background-color: #3B4455;\n",
              "      fill: #D2E3FC;\n",
              "    }\n",
              "\n",
              "    [theme=dark] .colab-df-convert:hover {\n",
              "      background-color: #434B5C;\n",
              "      box-shadow: 0px 1px 3px 1px rgba(0, 0, 0, 0.15);\n",
              "      filter: drop-shadow(0px 1px 2px rgba(0, 0, 0, 0.3));\n",
              "      fill: #FFFFFF;\n",
              "    }\n",
              "  </style>\n",
              "\n",
              "      <script>\n",
              "        const buttonEl =\n",
              "          document.querySelector('#df-cd85ed32-4a3d-42e2-b2c6-91962d28ed1e button.colab-df-convert');\n",
              "        buttonEl.style.display =\n",
              "          google.colab.kernel.accessAllowed ? 'block' : 'none';\n",
              "\n",
              "        async function convertToInteractive(key) {\n",
              "          const element = document.querySelector('#df-cd85ed32-4a3d-42e2-b2c6-91962d28ed1e');\n",
              "          const dataTable =\n",
              "            await google.colab.kernel.invokeFunction('convertToInteractive',\n",
              "                                                     [key], {});\n",
              "          if (!dataTable) return;\n",
              "\n",
              "          const docLinkHtml = 'Like what you see? Visit the ' +\n",
              "            '<a target=\"_blank\" href=https://colab.research.google.com/notebooks/data_table.ipynb>data table notebook</a>'\n",
              "            + ' to learn more about interactive tables.';\n",
              "          element.innerHTML = '';\n",
              "          dataTable['output_type'] = 'display_data';\n",
              "          await google.colab.output.renderOutput(dataTable, element);\n",
              "          const docLink = document.createElement('div');\n",
              "          docLink.innerHTML = docLinkHtml;\n",
              "          element.appendChild(docLink);\n",
              "        }\n",
              "      </script>\n",
              "    </div>\n",
              "  </div>\n",
              "  "
            ]
          },
          "metadata": {},
          "execution_count": 56
        }
      ],
      "source": [
        "housing['LQFSF_Stats'] = stats.zscore(housing['Low Qual Fin SF'])\n",
        "housing[['Low Qual Fin SF','LQFSF_Stats']].describe().round(3)"
      ]
    },
    {
      "cell_type": "markdown",
      "metadata": {
        "id": "NMNVnEozKWJV"
      },
      "source": [
        "The scaled results show a mean of 0.000 and a standard deviation of 1.000, indicating that the transformed values fit the z-scale model. The max value of 22.882 is further proof of the presence of outliers, as it falls well above the z-score limit of +3.\n"
      ]
    }
  ],
  "metadata": {
    "kernelspec": {
      "display_name": "Python",
      "language": "python",
      "name": "conda-env-python-py"
    },
    "language_info": {
      "codemirror_mode": {
        "name": "ipython",
        "version": 3
      },
      "file_extension": ".py",
      "mimetype": "text/x-python",
      "name": "python",
      "nbconvert_exporter": "python",
      "pygments_lexer": "ipython3",
      "version": "3.7.12"
    },
    "colab": {
      "provenance": [],
      "include_colab_link": true
    }
  },
  "nbformat": 4,
  "nbformat_minor": 0
}